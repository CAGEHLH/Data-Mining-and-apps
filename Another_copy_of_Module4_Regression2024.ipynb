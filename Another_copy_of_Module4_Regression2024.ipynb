{
  "nbformat": 4,
  "nbformat_minor": 0,
  "metadata": {
    "kernelspec": {
      "display_name": "Python 3",
      "language": "python",
      "name": "python3"
    },
    "language_info": {
      "codemirror_mode": {
        "name": "ipython",
        "version": 3
      },
      "file_extension": ".py",
      "mimetype": "text/x-python",
      "name": "python",
      "nbconvert_exporter": "python",
      "pygments_lexer": "ipython3",
      "version": "3.7.0"
    },
    "colab": {
      "provenance": [],
      "toc_visible": true,
      "collapsed_sections": [
        "BFixOSg8PuwT"
      ],
      "include_colab_link": true
    }
  },
  "cells": [
    {
      "cell_type": "markdown",
      "metadata": {
        "id": "view-in-github",
        "colab_type": "text"
      },
      "source": [
        "<a href=\"https://colab.research.google.com/github/CAGEHLH/Data-Mining-and-apps/blob/main/Another_copy_of_Module4_Regression2024.ipynb\" target=\"_parent\"><img src=\"https://colab.research.google.com/assets/colab-badge.svg\" alt=\"Open In Colab\"/></a>"
      ]
    },
    {
      "cell_type": "markdown",
      "metadata": {
        "id": "RQYet9gT5E7c"
      },
      "source": [
        "# **Module 4: Regression**\n",
        "In our last module, we saw that we can numerically relate two variables--either by evaluating how and when they vary together (covariance) or how variation in one variable leads to variation in another (correlation). It's now time for us to start thinking about how to determine more than just the mere **existence** of a relationship--we want to determine exactly **how** two variables relate to one another.\n",
        "\n",
        "In this module, you will learn\n",
        "* How to set up a simple linear regression\n",
        "* How to set up a multiple regression\n",
        "* How to set up a logistic regression\n",
        "* How to interpret the output from a regression\n",
        "\n",
        "**Be sure to expand all the hidden cells, run all the code, and do all the exercises--you will need the techniques for the lesson lab!**"
      ]
    },
    {
      "cell_type": "markdown",
      "source": [
        "#**What is Regression?**\n",
        "Regression is one of the most valuable strategies in a data analyst's toolbox. It's widely used in the industry because it's quick to compute (unlike later models in this course) and therefore efficient on computing resources.\n",
        "\n",
        "And it's not as hard as it may seem.\n",
        "\n",
        "Did you know that there are at least **SEVEN most common types of regression**? Yes, seven.\n",
        "\n",
        "<img src=\"https://theaxisofego.com/wp-content/uploads/2012/02/sevendwarfs.jpg?w=288&h=275\">\n",
        "\n",
        "As you read [the blog post under this link](https://www.analyticsvidhya.com/blog/2015/08/comprehensive-guide-regression/), focus on the **linear** and the **logistic** kind--that's what we will use this week.\n",
        "\n"
      ],
      "metadata": {
        "id": "B0hDiFVJfW6s"
      }
    },
    {
      "cell_type": "markdown",
      "metadata": {
        "id": "7BFlIE4kcf5J"
      },
      "source": [
        "#**0. Preparation and Setup**\n",
        "We are working with our adult dataset again, so we're loading our libraries and our dataset just like last time, only that we won't need chisquare. This time around, we will use the following to allow us to use more statistics:\n",
        "* **scipy.stats** -- all sorts of [statistical functions](https://docs.scipy.org/doc/scipy/reference/stats.html) that could potentially be useful\n",
        "* **statsmodels** -- this is your typical [Python statistics package](https://www.statsmodels.org/stable/index.html). It is used for the estimation of many different statistical models, as well as for conducting statistical tests, and statistical data exploration.\n",
        "* **ols** -- this is the Ordinary Least Squares function within statsmodels. It is located in the [formula class](https://www.statsmodels.org/stable/api.html#statsmodels-formula-api) and will help us set up our regression models.\n",
        "* **Scikit Learn** -- we already met [this package](https://scikit-learn.org/) in this course. It is one of the most popular machine learning packages.\n",
        "\n",
        "**The Dataset**\n",
        "\n",
        "For this purpose, we will use the insurance prediction dataset. This dataset exists in TWO forms; the first one is the original, with [numeric and categorical attributes mixed](https://raw.githubusercontent.com/shstreuber/Data-Mining/master/data/insurance_with_categories.csv). This dataset contains 1338 observations (rows) and 7 features (columns). The dataset contains 4 numerical features (age, bmi, children and charges) and 3 categorical features (sex, smoker and region). Later, we will encounter another version of this dataset where [the categories are converted](https://raw.githubusercontent.com/shstreuber/Data-Mining/master/data/insurance.csv) into factors with numerical value designated for each level. Lastly, the **dependent attribute**, i.e. the **class attribute** in this datasetis charges, which tells us how high a filed claim was.\n"
      ]
    },
    {
      "cell_type": "code",
      "metadata": {
        "id": "ot9JXypGcwA-",
        "colab": {
          "base_uri": "https://localhost:8080/",
          "height": 206
        },
        "outputId": "3c295c4f-036a-4570-84bf-2c045b602d26"
      },
      "source": [
        "import numpy as np\n",
        "import pandas as pd\n",
        "import matplotlib.pyplot as plt\n",
        "from scipy import spatial\n",
        "import statsmodels.api as sm\n",
        "from statsmodels.formula.api import ols\n",
        "\n",
        "from sklearn import linear_model\n",
        "from sklearn.preprocessing import LabelEncoder, OneHotEncoder\n",
        "\n",
        "from IPython.display import IFrame  # This is just for me so I can embed videos\n",
        "\n",
        "#Reading in the data as adult dataframe\n",
        "insurance = pd.read_csv(\"https://raw.githubusercontent.com/shstreuber/Data-Mining/master/data/insurance_with_categories.csv\")\n",
        "\n",
        "#Verifying that we can see the data\n",
        "insurance.head()"
      ],
      "execution_count": null,
      "outputs": [
        {
          "output_type": "execute_result",
          "data": {
            "text/plain": [
              "   age     sex     bmi  children smoker     region      charges\n",
              "0   19  female  27.900         0    yes  southwest  16884.92400\n",
              "1   18    male  33.770         1     no  southeast   1725.55230\n",
              "2   28    male  33.000         3     no  southeast   4449.46200\n",
              "3   33    male  22.705         0     no  northwest  21984.47061\n",
              "4   32    male  28.880         0     no  northwest   3866.85520"
            ],
            "text/html": [
              "\n",
              "  <div id=\"df-2323a2b3-8a26-4d40-9848-a56a86367671\" class=\"colab-df-container\">\n",
              "    <div>\n",
              "<style scoped>\n",
              "    .dataframe tbody tr th:only-of-type {\n",
              "        vertical-align: middle;\n",
              "    }\n",
              "\n",
              "    .dataframe tbody tr th {\n",
              "        vertical-align: top;\n",
              "    }\n",
              "\n",
              "    .dataframe thead th {\n",
              "        text-align: right;\n",
              "    }\n",
              "</style>\n",
              "<table border=\"1\" class=\"dataframe\">\n",
              "  <thead>\n",
              "    <tr style=\"text-align: right;\">\n",
              "      <th></th>\n",
              "      <th>age</th>\n",
              "      <th>sex</th>\n",
              "      <th>bmi</th>\n",
              "      <th>children</th>\n",
              "      <th>smoker</th>\n",
              "      <th>region</th>\n",
              "      <th>charges</th>\n",
              "    </tr>\n",
              "  </thead>\n",
              "  <tbody>\n",
              "    <tr>\n",
              "      <th>0</th>\n",
              "      <td>19</td>\n",
              "      <td>female</td>\n",
              "      <td>27.900</td>\n",
              "      <td>0</td>\n",
              "      <td>yes</td>\n",
              "      <td>southwest</td>\n",
              "      <td>16884.92400</td>\n",
              "    </tr>\n",
              "    <tr>\n",
              "      <th>1</th>\n",
              "      <td>18</td>\n",
              "      <td>male</td>\n",
              "      <td>33.770</td>\n",
              "      <td>1</td>\n",
              "      <td>no</td>\n",
              "      <td>southeast</td>\n",
              "      <td>1725.55230</td>\n",
              "    </tr>\n",
              "    <tr>\n",
              "      <th>2</th>\n",
              "      <td>28</td>\n",
              "      <td>male</td>\n",
              "      <td>33.000</td>\n",
              "      <td>3</td>\n",
              "      <td>no</td>\n",
              "      <td>southeast</td>\n",
              "      <td>4449.46200</td>\n",
              "    </tr>\n",
              "    <tr>\n",
              "      <th>3</th>\n",
              "      <td>33</td>\n",
              "      <td>male</td>\n",
              "      <td>22.705</td>\n",
              "      <td>0</td>\n",
              "      <td>no</td>\n",
              "      <td>northwest</td>\n",
              "      <td>21984.47061</td>\n",
              "    </tr>\n",
              "    <tr>\n",
              "      <th>4</th>\n",
              "      <td>32</td>\n",
              "      <td>male</td>\n",
              "      <td>28.880</td>\n",
              "      <td>0</td>\n",
              "      <td>no</td>\n",
              "      <td>northwest</td>\n",
              "      <td>3866.85520</td>\n",
              "    </tr>\n",
              "  </tbody>\n",
              "</table>\n",
              "</div>\n",
              "    <div class=\"colab-df-buttons\">\n",
              "\n",
              "  <div class=\"colab-df-container\">\n",
              "    <button class=\"colab-df-convert\" onclick=\"convertToInteractive('df-2323a2b3-8a26-4d40-9848-a56a86367671')\"\n",
              "            title=\"Convert this dataframe to an interactive table.\"\n",
              "            style=\"display:none;\">\n",
              "\n",
              "  <svg xmlns=\"http://www.w3.org/2000/svg\" height=\"24px\" viewBox=\"0 -960 960 960\">\n",
              "    <path d=\"M120-120v-720h720v720H120Zm60-500h600v-160H180v160Zm220 220h160v-160H400v160Zm0 220h160v-160H400v160ZM180-400h160v-160H180v160Zm440 0h160v-160H620v160ZM180-180h160v-160H180v160Zm440 0h160v-160H620v160Z\"/>\n",
              "  </svg>\n",
              "    </button>\n",
              "\n",
              "  <style>\n",
              "    .colab-df-container {\n",
              "      display:flex;\n",
              "      gap: 12px;\n",
              "    }\n",
              "\n",
              "    .colab-df-convert {\n",
              "      background-color: #E8F0FE;\n",
              "      border: none;\n",
              "      border-radius: 50%;\n",
              "      cursor: pointer;\n",
              "      display: none;\n",
              "      fill: #1967D2;\n",
              "      height: 32px;\n",
              "      padding: 0 0 0 0;\n",
              "      width: 32px;\n",
              "    }\n",
              "\n",
              "    .colab-df-convert:hover {\n",
              "      background-color: #E2EBFA;\n",
              "      box-shadow: 0px 1px 2px rgba(60, 64, 67, 0.3), 0px 1px 3px 1px rgba(60, 64, 67, 0.15);\n",
              "      fill: #174EA6;\n",
              "    }\n",
              "\n",
              "    .colab-df-buttons div {\n",
              "      margin-bottom: 4px;\n",
              "    }\n",
              "\n",
              "    [theme=dark] .colab-df-convert {\n",
              "      background-color: #3B4455;\n",
              "      fill: #D2E3FC;\n",
              "    }\n",
              "\n",
              "    [theme=dark] .colab-df-convert:hover {\n",
              "      background-color: #434B5C;\n",
              "      box-shadow: 0px 1px 3px 1px rgba(0, 0, 0, 0.15);\n",
              "      filter: drop-shadow(0px 1px 2px rgba(0, 0, 0, 0.3));\n",
              "      fill: #FFFFFF;\n",
              "    }\n",
              "  </style>\n",
              "\n",
              "    <script>\n",
              "      const buttonEl =\n",
              "        document.querySelector('#df-2323a2b3-8a26-4d40-9848-a56a86367671 button.colab-df-convert');\n",
              "      buttonEl.style.display =\n",
              "        google.colab.kernel.accessAllowed ? 'block' : 'none';\n",
              "\n",
              "      async function convertToInteractive(key) {\n",
              "        const element = document.querySelector('#df-2323a2b3-8a26-4d40-9848-a56a86367671');\n",
              "        const dataTable =\n",
              "          await google.colab.kernel.invokeFunction('convertToInteractive',\n",
              "                                                    [key], {});\n",
              "        if (!dataTable) return;\n",
              "\n",
              "        const docLinkHtml = 'Like what you see? Visit the ' +\n",
              "          '<a target=\"_blank\" href=https://colab.research.google.com/notebooks/data_table.ipynb>data table notebook</a>'\n",
              "          + ' to learn more about interactive tables.';\n",
              "        element.innerHTML = '';\n",
              "        dataTable['output_type'] = 'display_data';\n",
              "        await google.colab.output.renderOutput(dataTable, element);\n",
              "        const docLink = document.createElement('div');\n",
              "        docLink.innerHTML = docLinkHtml;\n",
              "        element.appendChild(docLink);\n",
              "      }\n",
              "    </script>\n",
              "  </div>\n",
              "\n",
              "\n",
              "<div id=\"df-96fda941-7bb2-421e-83e5-13a3d17fb348\">\n",
              "  <button class=\"colab-df-quickchart\" onclick=\"quickchart('df-96fda941-7bb2-421e-83e5-13a3d17fb348')\"\n",
              "            title=\"Suggest charts\"\n",
              "            style=\"display:none;\">\n",
              "\n",
              "<svg xmlns=\"http://www.w3.org/2000/svg\" height=\"24px\"viewBox=\"0 0 24 24\"\n",
              "     width=\"24px\">\n",
              "    <g>\n",
              "        <path d=\"M19 3H5c-1.1 0-2 .9-2 2v14c0 1.1.9 2 2 2h14c1.1 0 2-.9 2-2V5c0-1.1-.9-2-2-2zM9 17H7v-7h2v7zm4 0h-2V7h2v10zm4 0h-2v-4h2v4z\"/>\n",
              "    </g>\n",
              "</svg>\n",
              "  </button>\n",
              "\n",
              "<style>\n",
              "  .colab-df-quickchart {\n",
              "      --bg-color: #E8F0FE;\n",
              "      --fill-color: #1967D2;\n",
              "      --hover-bg-color: #E2EBFA;\n",
              "      --hover-fill-color: #174EA6;\n",
              "      --disabled-fill-color: #AAA;\n",
              "      --disabled-bg-color: #DDD;\n",
              "  }\n",
              "\n",
              "  [theme=dark] .colab-df-quickchart {\n",
              "      --bg-color: #3B4455;\n",
              "      --fill-color: #D2E3FC;\n",
              "      --hover-bg-color: #434B5C;\n",
              "      --hover-fill-color: #FFFFFF;\n",
              "      --disabled-bg-color: #3B4455;\n",
              "      --disabled-fill-color: #666;\n",
              "  }\n",
              "\n",
              "  .colab-df-quickchart {\n",
              "    background-color: var(--bg-color);\n",
              "    border: none;\n",
              "    border-radius: 50%;\n",
              "    cursor: pointer;\n",
              "    display: none;\n",
              "    fill: var(--fill-color);\n",
              "    height: 32px;\n",
              "    padding: 0;\n",
              "    width: 32px;\n",
              "  }\n",
              "\n",
              "  .colab-df-quickchart:hover {\n",
              "    background-color: var(--hover-bg-color);\n",
              "    box-shadow: 0 1px 2px rgba(60, 64, 67, 0.3), 0 1px 3px 1px rgba(60, 64, 67, 0.15);\n",
              "    fill: var(--button-hover-fill-color);\n",
              "  }\n",
              "\n",
              "  .colab-df-quickchart-complete:disabled,\n",
              "  .colab-df-quickchart-complete:disabled:hover {\n",
              "    background-color: var(--disabled-bg-color);\n",
              "    fill: var(--disabled-fill-color);\n",
              "    box-shadow: none;\n",
              "  }\n",
              "\n",
              "  .colab-df-spinner {\n",
              "    border: 2px solid var(--fill-color);\n",
              "    border-color: transparent;\n",
              "    border-bottom-color: var(--fill-color);\n",
              "    animation:\n",
              "      spin 1s steps(1) infinite;\n",
              "  }\n",
              "\n",
              "  @keyframes spin {\n",
              "    0% {\n",
              "      border-color: transparent;\n",
              "      border-bottom-color: var(--fill-color);\n",
              "      border-left-color: var(--fill-color);\n",
              "    }\n",
              "    20% {\n",
              "      border-color: transparent;\n",
              "      border-left-color: var(--fill-color);\n",
              "      border-top-color: var(--fill-color);\n",
              "    }\n",
              "    30% {\n",
              "      border-color: transparent;\n",
              "      border-left-color: var(--fill-color);\n",
              "      border-top-color: var(--fill-color);\n",
              "      border-right-color: var(--fill-color);\n",
              "    }\n",
              "    40% {\n",
              "      border-color: transparent;\n",
              "      border-right-color: var(--fill-color);\n",
              "      border-top-color: var(--fill-color);\n",
              "    }\n",
              "    60% {\n",
              "      border-color: transparent;\n",
              "      border-right-color: var(--fill-color);\n",
              "    }\n",
              "    80% {\n",
              "      border-color: transparent;\n",
              "      border-right-color: var(--fill-color);\n",
              "      border-bottom-color: var(--fill-color);\n",
              "    }\n",
              "    90% {\n",
              "      border-color: transparent;\n",
              "      border-bottom-color: var(--fill-color);\n",
              "    }\n",
              "  }\n",
              "</style>\n",
              "\n",
              "  <script>\n",
              "    async function quickchart(key) {\n",
              "      const quickchartButtonEl =\n",
              "        document.querySelector('#' + key + ' button');\n",
              "      quickchartButtonEl.disabled = true;  // To prevent multiple clicks.\n",
              "      quickchartButtonEl.classList.add('colab-df-spinner');\n",
              "      try {\n",
              "        const charts = await google.colab.kernel.invokeFunction(\n",
              "            'suggestCharts', [key], {});\n",
              "      } catch (error) {\n",
              "        console.error('Error during call to suggestCharts:', error);\n",
              "      }\n",
              "      quickchartButtonEl.classList.remove('colab-df-spinner');\n",
              "      quickchartButtonEl.classList.add('colab-df-quickchart-complete');\n",
              "    }\n",
              "    (() => {\n",
              "      let quickchartButtonEl =\n",
              "        document.querySelector('#df-96fda941-7bb2-421e-83e5-13a3d17fb348 button');\n",
              "      quickchartButtonEl.style.display =\n",
              "        google.colab.kernel.accessAllowed ? 'block' : 'none';\n",
              "    })();\n",
              "  </script>\n",
              "</div>\n",
              "    </div>\n",
              "  </div>\n"
            ],
            "application/vnd.google.colaboratory.intrinsic+json": {
              "type": "dataframe",
              "variable_name": "insurance",
              "summary": "{\n  \"name\": \"insurance\",\n  \"rows\": 1338,\n  \"fields\": [\n    {\n      \"column\": \"age\",\n      \"properties\": {\n        \"dtype\": \"number\",\n        \"std\": 14,\n        \"min\": 18,\n        \"max\": 64,\n        \"num_unique_values\": 47,\n        \"samples\": [\n          21,\n          45,\n          36\n        ],\n        \"semantic_type\": \"\",\n        \"description\": \"\"\n      }\n    },\n    {\n      \"column\": \"sex\",\n      \"properties\": {\n        \"dtype\": \"category\",\n        \"num_unique_values\": 2,\n        \"samples\": [\n          \"male\",\n          \"female\"\n        ],\n        \"semantic_type\": \"\",\n        \"description\": \"\"\n      }\n    },\n    {\n      \"column\": \"bmi\",\n      \"properties\": {\n        \"dtype\": \"number\",\n        \"std\": 6.098186911679014,\n        \"min\": 15.96,\n        \"max\": 53.13,\n        \"num_unique_values\": 548,\n        \"samples\": [\n          23.18,\n          26.885\n        ],\n        \"semantic_type\": \"\",\n        \"description\": \"\"\n      }\n    },\n    {\n      \"column\": \"children\",\n      \"properties\": {\n        \"dtype\": \"number\",\n        \"std\": 1,\n        \"min\": 0,\n        \"max\": 5,\n        \"num_unique_values\": 6,\n        \"samples\": [\n          0,\n          1\n        ],\n        \"semantic_type\": \"\",\n        \"description\": \"\"\n      }\n    },\n    {\n      \"column\": \"smoker\",\n      \"properties\": {\n        \"dtype\": \"category\",\n        \"num_unique_values\": 2,\n        \"samples\": [\n          \"no\",\n          \"yes\"\n        ],\n        \"semantic_type\": \"\",\n        \"description\": \"\"\n      }\n    },\n    {\n      \"column\": \"region\",\n      \"properties\": {\n        \"dtype\": \"category\",\n        \"num_unique_values\": 4,\n        \"samples\": [\n          \"southeast\",\n          \"northeast\"\n        ],\n        \"semantic_type\": \"\",\n        \"description\": \"\"\n      }\n    },\n    {\n      \"column\": \"charges\",\n      \"properties\": {\n        \"dtype\": \"number\",\n        \"std\": 12110.011236694001,\n        \"min\": 1121.8739,\n        \"max\": 63770.42801,\n        \"num_unique_values\": 1337,\n        \"samples\": [\n          8688.85885,\n          5708.867\n        ],\n        \"semantic_type\": \"\",\n        \"description\": \"\"\n      }\n    }\n  ]\n}"
            }
          },
          "metadata": {},
          "execution_count": 1
        }
      ]
    },
    {
      "cell_type": "code",
      "metadata": {
        "id": "07GiJ04g5E-S",
        "colab": {
          "base_uri": "https://localhost:8080/"
        },
        "outputId": "08ace498-12b7-4a65-e804-99eca5b71765"
      },
      "source": [
        "# And let's verify the datatypes before we go off into analysis land:\n",
        "insurance.dtypes"
      ],
      "execution_count": null,
      "outputs": [
        {
          "output_type": "execute_result",
          "data": {
            "text/plain": [
              "age           int64\n",
              "sex          object\n",
              "bmi         float64\n",
              "children      int64\n",
              "smoker       object\n",
              "region       object\n",
              "charges     float64\n",
              "dtype: object"
            ]
          },
          "metadata": {},
          "execution_count": 2
        }
      ]
    },
    {
      "cell_type": "markdown",
      "metadata": {
        "id": "ZX7r0GePHlYm"
      },
      "source": [
        "Let's get started!"
      ]
    },
    {
      "cell_type": "markdown",
      "metadata": {
        "id": "N_jgLSAL5E_s"
      },
      "source": [
        "#**1. Exploratory Data Analysis**\n",
        " Let's get a sense of how some of the independent numeric variables relate to our class attribute (i.e. the one attribute most likely to change when the independent attributes change)--in this case, our **class attribute** is charges."
      ]
    },
    {
      "cell_type": "code",
      "metadata": {
        "id": "gzcmBQl85FAQ",
        "colab": {
          "base_uri": "https://localhost:8080/",
          "height": 472
        },
        "outputId": "75fd8c53-af0e-4d0a-a522-a46bda5a72eb"
      },
      "source": [
        "plt.scatter(insurance['age'], insurance['charges'], alpha=0.5) # alpha=0.5 is added to make the points slightly transparent, making it easier to see overlapping points.\n",
        "plt.title('Scatter plot age vs. charges')\n",
        "plt.xlabel('age')\n",
        "plt.ylabel('charges')\n",
        "plt.show()"
      ],
      "execution_count": null,
      "outputs": [
        {
          "output_type": "display_data",
          "data": {
            "text/plain": [
              "<Figure size 640x480 with 1 Axes>"
            ],
            "image/png": "[encoded data removed]"
          },
          "metadata": {}
        }
      ]
    },
    {
      "cell_type": "markdown",
      "metadata": {
        "id": "mw4CT3noAEps"
      },
      "source": [
        "Hm. Interesting. We see three somewhat defined bands here. The solid band at the bottom, followed by a less solid band starting between 10,000 and 20,000, and then, there's the band starting between 30 and 40k. So, the older a person gets, the more likely they are to incur higher insurance claims. Given what we know about getting older, that seems about right.\n",
        "\n",
        "But what about the dependency of [bmi](https://www.nhlbi.nih.gov/health/educational/lose_wt/BMI/bmicalc.htm) and charges? Might it be reasonable to assume that higher bmi = higher charges?  Well, let's see ..."
      ]
    },
    {
      "cell_type": "code",
      "metadata": {
        "id": "SZwHyoNS5E_w",
        "colab": {
          "base_uri": "https://localhost:8080/",
          "height": 472
        },
        "outputId": "6c15406d-34ed-41b8-c9b0-279b3951f3e6"
      },
      "source": [
        "plt.scatter(insurance['bmi'], insurance['charges'], alpha=0.5)\n",
        "plt.title('Scatter plot bmi vs. charges')\n",
        "plt.xlabel('bmi')\n",
        "plt.ylabel('charges')\n",
        "plt.show()"
      ],
      "execution_count": null,
      "outputs": [
        {
          "output_type": "display_data",
          "data": {
            "text/plain": [
              "<Figure size 640x480 with 1 Axes>"
            ],
            "image/png": "[encoded data removed]"
          },
          "metadata": {}
        }
      ]
    },
    {
      "cell_type": "markdown",
      "metadata": {
        "id": "Xs9kyHSHA0hI"
      },
      "source": [
        "**SURPRISE!** Higher bmi does not always mean higher insurance charges! We see plenty of data in the 40+ ranges that seem to have identical charges to data in the 20 to 25 range. HOWEVER, we also see more data breaking the 30,000 barrier starting at a bmi of 30+. So ... two relationships, really?"
      ]
    },
    {
      "cell_type": "markdown",
      "metadata": {
        "id": "0hJsveUVXPnP"
      },
      "source": [
        "Next, let's check the correlations between all the attributes:"
      ]
    },
    {
      "cell_type": "code",
      "metadata": {
        "id": "MJWVCI6AXTsM",
        "colab": {
          "base_uri": "https://localhost:8080/",
          "height": 174
        },
        "outputId": "9d7c821c-2b69-4477-f234-29b1916273ae"
      },
      "source": [
        "insurance.corr(numeric_only=True)  # Need to specify numeric_only=True because the default has changed with version 2.0"
      ],
      "execution_count": null,
      "outputs": [
        {
          "output_type": "execute_result",
          "data": {
            "text/plain": [
              "               age       bmi  children   charges\n",
              "age       1.000000  0.109272  0.042469  0.299008\n",
              "bmi       0.109272  1.000000  0.012759  0.198341\n",
              "children  0.042469  0.012759  1.000000  0.067998\n",
              "charges   0.299008  0.198341  0.067998  1.000000"
            ],
            "text/html": [
              "\n",
              "  <div id=\"df-9e16b787-4cdd-489a-b753-0d32438db71f\" class=\"colab-df-container\">\n",
              "    <div>\n",
              "<style scoped>\n",
              "    .dataframe tbody tr th:only-of-type {\n",
              "        vertical-align: middle;\n",
              "    }\n",
              "\n",
              "    .dataframe tbody tr th {\n",
              "        vertical-align: top;\n",
              "    }\n",
              "\n",
              "    .dataframe thead th {\n",
              "        text-align: right;\n",
              "    }\n",
              "</style>\n",
              "<table border=\"1\" class=\"dataframe\">\n",
              "  <thead>\n",
              "    <tr style=\"text-align: right;\">\n",
              "      <th></th>\n",
              "      <th>age</th>\n",
              "      <th>bmi</th>\n",
              "      <th>children</th>\n",
              "      <th>charges</th>\n",
              "    </tr>\n",
              "  </thead>\n",
              "  <tbody>\n",
              "    <tr>\n",
              "      <th>age</th>\n",
              "      <td>1.000000</td>\n",
              "      <td>0.109272</td>\n",
              "      <td>0.042469</td>\n",
              "      <td>0.299008</td>\n",
              "    </tr>\n",
              "    <tr>\n",
              "      <th>bmi</th>\n",
              "      <td>0.109272</td>\n",
              "      <td>1.000000</td>\n",
              "      <td>0.012759</td>\n",
              "      <td>0.198341</td>\n",
              "    </tr>\n",
              "    <tr>\n",
              "      <th>children</th>\n",
              "      <td>0.042469</td>\n",
              "      <td>0.012759</td>\n",
              "      <td>1.000000</td>\n",
              "      <td>0.067998</td>\n",
              "    </tr>\n",
              "    <tr>\n",
              "      <th>charges</th>\n",
              "      <td>0.299008</td>\n",
              "      <td>0.198341</td>\n",
              "      <td>0.067998</td>\n",
              "      <td>1.000000</td>\n",
              "    </tr>\n",
              "  </tbody>\n",
              "</table>\n",
              "</div>\n",
              "    <div class=\"colab-df-buttons\">\n",
              "\n",
              "  <div class=\"colab-df-container\">\n",
              "    <button class=\"colab-df-convert\" onclick=\"convertToInteractive('df-9e16b787-4cdd-489a-b753-0d32438db71f')\"\n",
              "            title=\"Convert this dataframe to an interactive table.\"\n",
              "            style=\"display:none;\">\n",
              "\n",
              "  <svg xmlns=\"http://www.w3.org/2000/svg\" height=\"24px\" viewBox=\"0 -960 960 960\">\n",
              "    <path d=\"M120-120v-720h720v720H120Zm60-500h600v-160H180v160Zm220 220h160v-160H400v160Zm0 220h160v-160H400v160ZM180-400h160v-160H180v160Zm440 0h160v-160H620v160ZM180-180h160v-160H180v160Zm440 0h160v-160H620v160Z\"/>\n",
              "  </svg>\n",
              "    </button>\n",
              "\n",
              "  <style>\n",
              "    .colab-df-container {\n",
              "      display:flex;\n",
              "      gap: 12px;\n",
              "    }\n",
              "\n",
              "    .colab-df-convert {\n",
              "      background-color: #E8F0FE;\n",
              "      border: none;\n",
              "      border-radius: 50%;\n",
              "      cursor: pointer;\n",
              "      display: none;\n",
              "      fill: #1967D2;\n",
              "      height: 32px;\n",
              "      padding: 0 0 0 0;\n",
              "      width: 32px;\n",
              "    }\n",
              "\n",
              "    .colab-df-convert:hover {\n",
              "      background-color: #E2EBFA;\n",
              "      box-shadow: 0px 1px 2px rgba(60, 64, 67, 0.3), 0px 1px 3px 1px rgba(60, 64, 67, 0.15);\n",
              "      fill: #174EA6;\n",
              "    }\n",
              "\n",
              "    .colab-df-buttons div {\n",
              "      margin-bottom: 4px;\n",
              "    }\n",
              "\n",
              "    [theme=dark] .colab-df-convert {\n",
              "      background-color: #3B4455;\n",
              "      fill: #D2E3FC;\n",
              "    }\n",
              "\n",
              "    [theme=dark] .colab-df-convert:hover {\n",
              "      background-color: #434B5C;\n",
              "      box-shadow: 0px 1px 3px 1px rgba(0, 0, 0, 0.15);\n",
              "      filter: drop-shadow(0px 1px 2px rgba(0, 0, 0, 0.3));\n",
              "      fill: #FFFFFF;\n",
              "    }\n",
              "  </style>\n",
              "\n",
              "    <script>\n",
              "      const buttonEl =\n",
              "        document.querySelector('#df-9e16b787-4cdd-489a-b753-0d32438db71f button.colab-df-convert');\n",
              "      buttonEl.style.display =\n",
              "        google.colab.kernel.accessAllowed ? 'block' : 'none';\n",
              "\n",
              "      async function convertToInteractive(key) {\n",
              "        const element = document.querySelector('#df-9e16b787-4cdd-489a-b753-0d32438db71f');\n",
              "        const dataTable =\n",
              "          await google.colab.kernel.invokeFunction('convertToInteractive',\n",
              "                                                    [key], {});\n",
              "        if (!dataTable) return;\n",
              "\n",
              "        const docLinkHtml = 'Like what you see? Visit the ' +\n",
              "          '<a target=\"_blank\" href=https://colab.research.google.com/notebooks/data_table.ipynb>data table notebook</a>'\n",
              "          + ' to learn more about interactive tables.';\n",
              "        element.innerHTML = '';\n",
              "        dataTable['output_type'] = 'display_data';\n",
              "        await google.colab.output.renderOutput(dataTable, element);\n",
              "        const docLink = document.createElement('div');\n",
              "        docLink.innerHTML = docLinkHtml;\n",
              "        element.appendChild(docLink);\n",
              "      }\n",
              "    </script>\n",
              "  </div>\n",
              "\n",
              "\n",
              "<div id=\"df-1a17e246-9cfb-4f84-9aa8-8c8d36295b59\">\n",
              "  <button class=\"colab-df-quickchart\" onclick=\"quickchart('df-1a17e246-9cfb-4f84-9aa8-8c8d36295b59')\"\n",
              "            title=\"Suggest charts\"\n",
              "            style=\"display:none;\">\n",
              "\n",
              "<svg xmlns=\"http://www.w3.org/2000/svg\" height=\"24px\"viewBox=\"0 0 24 24\"\n",
              "     width=\"24px\">\n",
              "    <g>\n",
              "        <path d=\"M19 3H5c-1.1 0-2 .9-2 2v14c0 1.1.9 2 2 2h14c1.1 0 2-.9 2-2V5c0-1.1-.9-2-2-2zM9 17H7v-7h2v7zm4 0h-2V7h2v10zm4 0h-2v-4h2v4z\"/>\n",
              "    </g>\n",
              "</svg>\n",
              "  </button>\n",
              "\n",
              "<style>\n",
              "  .colab-df-quickchart {\n",
              "      --bg-color: #E8F0FE;\n",
              "      --fill-color: #1967D2;\n",
              "      --hover-bg-color: #E2EBFA;\n",
              "      --hover-fill-color: #174EA6;\n",
              "      --disabled-fill-color: #AAA;\n",
              "      --disabled-bg-color: #DDD;\n",
              "  }\n",
              "\n",
              "  [theme=dark] .colab-df-quickchart {\n",
              "      --bg-color: #3B4455;\n",
              "      --fill-color: #D2E3FC;\n",
              "      --hover-bg-color: #434B5C;\n",
              "      --hover-fill-color: #FFFFFF;\n",
              "      --disabled-bg-color: #3B4455;\n",
              "      --disabled-fill-color: #666;\n",
              "  }\n",
              "\n",
              "  .colab-df-quickchart {\n",
              "    background-color: var(--bg-color);\n",
              "    border: none;\n",
              "    border-radius: 50%;\n",
              "    cursor: pointer;\n",
              "    display: none;\n",
              "    fill: var(--fill-color);\n",
              "    height: 32px;\n",
              "    padding: 0;\n",
              "    width: 32px;\n",
              "  }\n",
              "\n",
              "  .colab-df-quickchart:hover {\n",
              "    background-color: var(--hover-bg-color);\n",
              "    box-shadow: 0 1px 2px rgba(60, 64, 67, 0.3), 0 1px 3px 1px rgba(60, 64, 67, 0.15);\n",
              "    fill: var(--button-hover-fill-color);\n",
              "  }\n",
              "\n",
              "  .colab-df-quickchart-complete:disabled,\n",
              "  .colab-df-quickchart-complete:disabled:hover {\n",
              "    background-color: var(--disabled-bg-color);\n",
              "    fill: var(--disabled-fill-color);\n",
              "    box-shadow: none;\n",
              "  }\n",
              "\n",
              "  .colab-df-spinner {\n",
              "    border: 2px solid var(--fill-color);\n",
              "    border-color: transparent;\n",
              "    border-bottom-color: var(--fill-color);\n",
              "    animation:\n",
              "      spin 1s steps(1) infinite;\n",
              "  }\n",
              "\n",
              "  @keyframes spin {\n",
              "    0% {\n",
              "      border-color: transparent;\n",
              "      border-bottom-color: var(--fill-color);\n",
              "      border-left-color: var(--fill-color);\n",
              "    }\n",
              "    20% {\n",
              "      border-color: transparent;\n",
              "      border-left-color: var(--fill-color);\n",
              "      border-top-color: var(--fill-color);\n",
              "    }\n",
              "    30% {\n",
              "      border-color: transparent;\n",
              "      border-left-color: var(--fill-color);\n",
              "      border-top-color: var(--fill-color);\n",
              "      border-right-color: var(--fill-color);\n",
              "    }\n",
              "    40% {\n",
              "      border-color: transparent;\n",
              "      border-right-color: var(--fill-color);\n",
              "      border-top-color: var(--fill-color);\n",
              "    }\n",
              "    60% {\n",
              "      border-color: transparent;\n",
              "      border-right-color: var(--fill-color);\n",
              "    }\n",
              "    80% {\n",
              "      border-color: transparent;\n",
              "      border-right-color: var(--fill-color);\n",
              "      border-bottom-color: var(--fill-color);\n",
              "    }\n",
              "    90% {\n",
              "      border-color: transparent;\n",
              "      border-bottom-color: var(--fill-color);\n",
              "    }\n",
              "  }\n",
              "</style>\n",
              "\n",
              "  <script>\n",
              "    async function quickchart(key) {\n",
              "      const quickchartButtonEl =\n",
              "        document.querySelector('#' + key + ' button');\n",
              "      quickchartButtonEl.disabled = true;  // To prevent multiple clicks.\n",
              "      quickchartButtonEl.classList.add('colab-df-spinner');\n",
              "      try {\n",
              "        const charts = await google.colab.kernel.invokeFunction(\n",
              "            'suggestCharts', [key], {});\n",
              "      } catch (error) {\n",
              "        console.error('Error during call to suggestCharts:', error);\n",
              "      }\n",
              "      quickchartButtonEl.classList.remove('colab-df-spinner');\n",
              "      quickchartButtonEl.classList.add('colab-df-quickchart-complete');\n",
              "    }\n",
              "    (() => {\n",
              "      let quickchartButtonEl =\n",
              "        document.querySelector('#df-1a17e246-9cfb-4f84-9aa8-8c8d36295b59 button');\n",
              "      quickchartButtonEl.style.display =\n",
              "        google.colab.kernel.accessAllowed ? 'block' : 'none';\n",
              "    })();\n",
              "  </script>\n",
              "</div>\n",
              "    </div>\n",
              "  </div>\n"
            ],
            "application/vnd.google.colaboratory.intrinsic+json": {
              "type": "dataframe",
              "summary": "{\n  \"name\": \"insurance\",\n  \"rows\": 4,\n  \"fields\": [\n    {\n      \"column\": \"age\",\n      \"properties\": {\n        \"dtype\": \"number\",\n        \"std\": 0.43855126689828755,\n        \"min\": 0.04246899855884958,\n        \"max\": 1.0,\n        \"num_unique_values\": 4,\n        \"samples\": [\n          0.1092718815485351,\n          0.299008193330648,\n          1.0\n        ],\n        \"semantic_type\": \"\",\n        \"description\": \"\"\n      }\n    },\n    {\n      \"column\": \"bmi\",\n      \"properties\": {\n        \"dtype\": \"number\",\n        \"std\": 0.45298891937204494,\n        \"min\": 0.012758900820673994,\n        \"max\": 1.0,\n        \"num_unique_values\": 4,\n        \"samples\": [\n          1.0,\n          0.19834096883362912,\n          0.1092718815485351\n        ],\n        \"semantic_type\": \"\",\n        \"description\": \"\"\n      }\n    },\n    {\n      \"column\": \"children\",\n      \"properties\": {\n        \"dtype\": \"number\",\n        \"std\": 0.4799933789762917,\n        \"min\": 0.012758900820673994,\n        \"max\": 1.0,\n        \"num_unique_values\": 4,\n        \"samples\": [\n          0.012758900820673994,\n          0.06799822684790495,\n          0.04246899855884958\n        ],\n        \"semantic_type\": \"\",\n        \"description\": \"\"\n      }\n    },\n    {\n      \"column\": \"charges\",\n      \"properties\": {\n        \"dtype\": \"number\",\n        \"std\": 0.416649607535863,\n        \"min\": 0.06799822684790495,\n        \"max\": 1.0,\n        \"num_unique_values\": 4,\n        \"samples\": [\n          0.19834096883362912,\n          1.0,\n          0.299008193330648\n        ],\n        \"semantic_type\": \"\",\n        \"description\": \"\"\n      }\n    }\n  ]\n}"
            }
          },
          "metadata": {},
          "execution_count": 34
        }
      ]
    },
    {
      "cell_type": "markdown",
      "metadata": {
        "id": "YRnvaBoVXdUm"
      },
      "source": [
        "## Your Turn\n",
        "Look at the table above. Which attribute has the best correlation to charges? **Display just this attribute** in this field:"
      ]
    },
    {
      "cell_type": "code",
      "metadata": {
        "id": "XfuImXt2Xxnw",
        "colab": {
          "base_uri": "https://localhost:8080/",
          "height": 472
        },
        "outputId": "76a85212-4d0d-4d3d-c21d-fdc1db859d64"
      },
      "source": [
        "plt.scatter(insurance['charges'], insurance['region'], alpha=0.5)\n",
        "plt.title('Scatter plot region vs. charges')\n",
        "plt.xlabel('charges')\n",
        "plt.ylabel('region')\n",
        "plt.show()"
      ],
      "execution_count": null,
      "outputs": [
        {
          "output_type": "display_data",
          "data": {
            "text/plain": [
              "<Figure size 640x480 with 1 Axes>"
            ],
            "image/png": "[encoded data removed]"
          },
          "metadata": {}
        }
      ]
    },
    {
      "cell_type": "markdown",
      "metadata": {
        "id": "ddpDPqq0CaOV"
      },
      "source": [
        "##Your Turn\n",
        "Now, does having more children mean higher charges? Let's see!\n",
        "\n",
        "Use the field below to **build a scatterplot of children and charges**! What does the relationship reveal?"
      ]
    },
    {
      "cell_type": "code",
      "metadata": {
        "id": "PQUujPm35FA4",
        "colab": {
          "base_uri": "https://localhost:8080/",
          "height": 472
        },
        "outputId": "e312bfb3-125a-42d2-d3ba-0933f0c23ffe"
      },
      "source": [
        "plt.scatter(insurance['children'], insurance['charges'], alpha=0.5)\n",
        "plt.title('Scatter plot children vs. charges')\n",
        "plt.xlabel('children')\n",
        "plt.ylabel('charges')\n",
        "plt.show()"
      ],
      "execution_count": null,
      "outputs": [
        {
          "output_type": "display_data",
          "data": {
            "text/plain": [
              "<Figure size 640x480 with 1 Axes>"
            ],
            "image/png": "[encoded data removed]"
          },
          "metadata": {}
        }
      ]
    },
    {
      "cell_type": "markdown",
      "metadata": {
        "id": "jjtNo08E5FBY"
      },
      "source": [
        "Really think about this--wouldn't it be interesting if we could find the rule that connects these variables?"
      ]
    },
    {
      "cell_type": "markdown",
      "metadata": {
        "id": "JuxMm6CI5FDZ"
      },
      "source": [
        "# **2. Simple Regression**\n",
        "In the previous module, we saw how Correlation and the Pearson Correlation Coefficient, r, give us a first insight into the relationship between two variables. But that is only 1 number which doesn't tell us anything about the relationship of each single datapoint with the next--and it certainly doesn't allow us to predict any future values.\n",
        "\n",
        "That is why Regression is a better aproach.\n",
        "\n",
        "To review the **concepts and vocabulary** of simple regression, watch this video:"
      ]
    },
    {
      "cell_type": "code",
      "metadata": {
        "colab": {
          "base_uri": "https://localhost:8080/",
          "height": 336
        },
        "id": "QD1bgPR5FMX7",
        "outputId": "fa111c35-ea31-4c7b-a777-18446b7a11c0"
      },
      "source": [
        "IFrame(src=\"https://www.youtube.com/embed/aq8VU5KLmkY\", width=560, height=315)"
      ],
      "execution_count": null,
      "outputs": [
        {
          "output_type": "execute_result",
          "data": {
            "text/plain": [
              "<IPython.lib.display.IFrame at 0x7cdc09f9c550>"
            ],
            "text/html": [
              "\n",
              "        <iframe\n",
              "            width=\"560\"\n",
              "            height=\"315\"\n",
              "            src=\"https://www.youtube.com/embed/aq8VU5KLmkY\"\n",
              "            frameborder=\"0\"\n",
              "            allowfullscreen\n",
              "            \n",
              "        ></iframe>\n",
              "        "
            ]
          },
          "metadata": {},
          "execution_count": 46
        }
      ]
    },
    {
      "cell_type": "markdown",
      "metadata": {
        "id": "LlLQYVED-rAr"
      },
      "source": [
        "\n",
        "##**2.1 Simple Linear Regression with statsmodels**\n",
        "The simplest regression comes in the form of\n",
        "\n",
        "                    `y = f(x) + b`\n",
        "\n",
        "where x is the independent variable and y the dependent variable (aka the class attribute). The idea is that you can find a coefficient for x (here named f) that, when paired with a constant value (here b), will allow you to calculate any dependent value y. Since there is no exponential math going on here, the result will be a straight line. That's also why we call this \"linear regression.\"\n",
        "\n",
        "So, how does simple linear regression work in Python? Well, you've already taken the first steps by plotting the independent variable x on the dependent variable y above. The rest is explained in the instructor video below:"
      ]
    },
    {
      "cell_type": "code",
      "source": [
        "IFrame(src=\"https://www.youtube.com/embed/jC1z8pIAsp8\", width=560, height=315)"
      ],
      "metadata": {
        "colab": {
          "base_uri": "https://localhost:8080/",
          "height": 336
        },
        "id": "oY0v5T7blchP",
        "outputId": "9a3aaecc-9456-482c-820a-19e55b1884c4"
      },
      "execution_count": null,
      "outputs": [
        {
          "output_type": "execute_result",
          "data": {
            "text/plain": [
              "<IPython.lib.display.IFrame at 0x7fc05290b880>"
            ],
            "text/html": [
              "\n",
              "        <iframe\n",
              "            width=\"560\"\n",
              "            height=\"315\"\n",
              "            src=\"https://www.youtube.com/embed/jC1z8pIAsp8\"\n",
              "            frameborder=\"0\"\n",
              "            allowfullscreen\n",
              "            \n",
              "        ></iframe>\n",
              "        "
            ]
          },
          "metadata": {},
          "execution_count": 3
        }
      ]
    },
    {
      "cell_type": "markdown",
      "metadata": {
        "id": "vxuPJDEhRQuM"
      },
      "source": [
        "###**2.1.1 Simple Linear Regression with statsmodels**\n",
        "Below, we will use Ordinary Least Squares to calculate our regression equation. As the video above explains, Ordinary Least Squares, or linear least squares, estimates the parameters in a regression model by minimizing the sum of the squared residuals. This method draws a line through the data points that minimizes the sum of the squared differences between the observed values and the corresponding fitted values.\n",
        "\n",
        "**If you can't remember what residuals are**, check out [this blog post](https://www.statisticshowto.com/residual/).\n",
        "\n",
        "So, let's go back to age and insurance charges! Note that, in order to format our output as\n",
        "\n",
        "                          `y = f(x) + b`\n",
        "\n",
        "We need to make sure that the calculation considers the constant b. That's why we use add_constant below. Otherwise, all we would get as output is the coefficient f."
      ]
    },
    {
      "cell_type": "code",
      "metadata": {
        "scrolled": true,
        "id": "4RVz3U4O5FDb",
        "colab": {
          "base_uri": "https://localhost:8080/"
        },
        "outputId": "697ad53e-8161-423c-a269-ab989ee20509"
      },
      "source": [
        "X = insurance['age']\n",
        "y = insurance['charges']\n",
        "X = sm.add_constant(X)\n",
        "insurance.mod1 = sm.OLS(y, X).fit()  ## sm.OLS(output, i.e. dependent variable, input, i.e. independent variable)\n",
        "insurance.mod1_summary = insurance.mod1.summary()\n",
        "print(insurance.mod1_summary)"
      ],
      "execution_count": null,
      "outputs": [
        {
          "output_type": "stream",
          "name": "stdout",
          "text": [
            "                            OLS Regression Results                            \n",
            "==============================================================================\n",
            "Dep. Variable:                charges   R-squared:                       0.089\n",
            "Model:                            OLS   Adj. R-squared:                  0.089\n",
            "Method:                 Least Squares   F-statistic:                     131.2\n",
            "Date:                Wed, 29 May 2024   Prob (F-statistic):           4.89e-29\n",
            "Time:                        15:46:06   Log-Likelihood:                -14415.\n",
            "No. Observations:                1338   AIC:                         2.883e+04\n",
            "Df Residuals:                    1336   BIC:                         2.884e+04\n",
            "Df Model:                           1                                         \n",
            "Covariance Type:            nonrobust                                         \n",
            "==============================================================================\n",
            "                 coef    std err          t      P>|t|      [0.025      0.975]\n",
            "------------------------------------------------------------------------------\n",
            "const       3165.8850    937.149      3.378      0.001    1327.440    5004.330\n",
            "age          257.7226     22.502     11.453      0.000     213.579     301.866\n",
            "==============================================================================\n",
            "Omnibus:                      399.600   Durbin-Watson:                   2.033\n",
            "Prob(Omnibus):                  0.000   Jarque-Bera (JB):              864.239\n",
            "Skew:                           1.733   Prob(JB):                    2.15e-188\n",
            "Kurtosis:                       4.869   Cond. No.                         124.\n",
            "==============================================================================\n",
            "\n",
            "Notes:\n",
            "[1] Standard Errors assume that the covariance matrix of the errors is correctly specified.\n"
          ]
        }
      ]
    },
    {
      "cell_type": "markdown",
      "metadata": {
        "id": "vuZR7vmS5FDy"
      },
      "source": [
        "### **WHOA! T.M.I.!--Understanding the Output**\n",
        "\n",
        "We're seeing a lot of information here.\n",
        "\n",
        "**Most important**: Point your eyes a little below the middle of this output. That's where you'll see the following:\n",
        "```\n",
        "         coef\t    std err\t t\t    P>|t|\t[0.025\t  0.975]\n",
        "const\t3165.8850\t937.149\t3.378\t0.001\t1327.440\t5004.330\n",
        "age\t   257.7226\t22.502\t11.453\t0.000\t 213.579\t301.866\n",
        "```\n",
        "**What does this mean?**\n",
        "\n",
        "The first number here is const coef, that is, the constant in our linear equation, here 3165.8850. It is the value for our letter b in\n",
        "\n",
        "                               `y = f(x) + b`\n",
        "\n",
        "The second important number here is age coef, that is, the factor by which we multiply the independent variable, here 257.7226. It is the value for f. So, the equation that OLS has built for us is\n",
        "\n",
        "                              `y = (257.7226 * x) + 3165.8850`\n",
        "\n",
        "\n",
        "The coefficient of 257.7226 means that as the age variable increases by 1, the predicted value of charges increases by 257.7226 plus 3165.8850.  \n",
        "\n",
        "We also meet an \"old friend\" again--the p value in the P>|t| column. Since the initial assumption, that is, the H0, of a Regression is always that all variables are independent from each other, the p value shows us how many %  of the result are really due to random chance. Remember how we learned that the magic threshold is 5%, and \"if p is low, H0 must go\"? With p being at 0.000, we're seeing here that age and charges are obviously dependent.\n",
        "\n",
        "**Now, let's look at this:**\n",
        "```\n",
        "                         OLS Regression Results                            \n",
        "==============================================================================\n",
        "Dep. Variable:                charges   R-squared:                       0.089\n",
        "Model:                            OLS   Adj. R-squared:                  0.089\n",
        "....\n",
        "No. Observations:                1338   AIC:                         2.883e+04\n",
        "Df Residuals:                    1336   BIC:                         2.884e+04                                         \n",
        "==============================================================================\n",
        "\n",
        "```\n",
        "Let's start at the bottom: The number of observations is 1338, which, since we are looking at 2 attributes, makes the degrees of freedom 1338 - 2 = 1336. No problem here. Let's move up. The R-squared value of 0.089 or 8.9% means that 8.9% of the variation in charges can be explained by using age as the predictor.\n",
        "\n",
        "To learn more about how to interpret the entire output, check out [this excellent video](https://www.youtube.com/watch?v=VvlqA-iO2HA).\n",
        "\n",
        "**Wait, what?**\n",
        "\n",
        "Let's look at these numbers again:"
      ]
    },
    {
      "cell_type": "code",
      "metadata": {
        "id": "5V_WzHe2llBm",
        "colab": {
          "base_uri": "https://localhost:8080/"
        },
        "outputId": "e1824ff3-aa1a-4228-f673-deafad35ba6b"
      },
      "source": [
        "print('Parameters: ', insurance.mod1.params)\n",
        "print('R2: ', insurance.mod1.rsquared)"
      ],
      "execution_count": null,
      "outputs": [
        {
          "output_type": "stream",
          "name": "stdout",
          "text": [
            "Parameters:  const    3165.885006\n",
            "age       257.722619\n",
            "dtype: float64\n",
            "R2:  0.08940589967885781\n"
          ]
        }
      ]
    },
    {
      "cell_type": "markdown",
      "metadata": {
        "id": "XKu3Nskwmwuk"
      },
      "source": [
        "The R-squared value is 8.9%! If we compare this to our initial impression from the scatter diagram and the p-value interpretation above, namely that age could well be closely related to charges, th R-squared value makes age a lousy predictor of most of the charges. **LOUSY**!\n",
        "\n",
        "Let's take a look at the calculated values for x (the video called them y \"hat\") and then plot them:"
      ]
    },
    {
      "cell_type": "code",
      "metadata": {
        "scrolled": true,
        "id": "F6tgl-pl5FD4",
        "colab": {
          "base_uri": "https://localhost:8080/"
        },
        "outputId": "a3be3671-6173-4f2a-8a28-a4d2c0a82625"
      },
      "source": [
        "predictions = insurance.mod1.predict(X) # Here, you'll see the CALCULATED values with the formula\n",
        "predictions"
      ],
      "execution_count": null,
      "outputs": [
        {
          "output_type": "execute_result",
          "data": {
            "text/plain": [
              "0        8062.614761\n",
              "1        7804.892142\n",
              "2       10382.118329\n",
              "3       11670.731422\n",
              "4       11413.008803\n",
              "            ...     \n",
              "1333    16052.015939\n",
              "1334     7804.892142\n",
              "1335     7804.892142\n",
              "1336     8578.059998\n",
              "1337    18886.964745\n",
              "Length: 1338, dtype: float64"
            ]
          },
          "metadata": {},
          "execution_count": 6
        }
      ]
    },
    {
      "cell_type": "markdown",
      "metadata": {
        "id": "7r-t1YjSCeAN"
      },
      "source": [
        "###**2.1.2 Plotting the results**\n",
        "Now let's build all four regression plots. We pass in the model as the first parameter, then specify the predictor variable we want to analyze."
      ]
    },
    {
      "cell_type": "code",
      "metadata": {
        "scrolled": true,
        "id": "bO66e2i45FE6",
        "colab": {
          "base_uri": "https://localhost:8080/",
          "height": 470
        },
        "outputId": "052c2fa4-7c12-48a7-9fcd-de9377893878"
      },
      "source": [
        "fig = plt.figure(figsize=(15,8))\n",
        "fig = sm.graphics.plot_regress_exog(insurance.mod1, \"age\", fig=fig)"
      ],
      "execution_count": null,
      "outputs": [
        {
          "output_type": "display_data",
          "data": {
            "text/plain": [
              "<Figure size 1500x800 with 4 Axes>"
            ],
            "image/png": "[encoded data removed]"
          },
          "metadata": {}
        }
      ]
    },
    {
      "cell_type": "markdown",
      "metadata": {
        "id": "fLwE_YqQECTW"
      },
      "source": [
        "**WOW**! Remember the R-squared number of 8.9%? Here you can see the distribution of values for the age variable. Look at the plot in the upper left-hand corner of the fitted, i.e. predicted vs. actual values. That fit line isn't all that representative, is it--although there's clearly some connection (so, the p-value was correct)? And the residuals, which should be centered around 0? Check out the upper right-hand corner graph--obviously not the case, is it?"
      ]
    },
    {
      "cell_type": "markdown",
      "metadata": {
        "id": "-vD73kRkFx_r"
      },
      "source": [
        "## **2.2. Multiple Linear Regression with scikit learn**--Numeric Attributes\n",
        "\n",
        "Well. We've seen where looking at just ONE variable in connection with our insurance charges got us--not too far. So ... what if we look at a few variables together as joint influencers of the charge variable? Perhaps that will increase the R-squared value. When we run a regression with more than one independent attribute in the X variable, that is called Multiple Regression. Here, we are using the linear model, so we are performing Multiple Linear Regression.\n",
        "\n",
        "Now, we could do this in statsmodels--but that'll be your job later. To shake things up, we will use another very popular and versatile package for this purpose: Scikit Learn. In our preparation and setup section, we already imported its linear_model subpackage.\n",
        "\n",
        "We will focus our Multiple Regression on the **joint influence of age, bmi, and number of children on charges**. You have already encountered these three in section 1 of this workbook."
      ]
    },
    {
      "cell_type": "code",
      "metadata": {
        "id": "4jpbpoNmIyxk",
        "colab": {
          "base_uri": "https://localhost:8080/"
        },
        "outputId": "38fd20c4-d760-48a5-c0ab-c82a18b18968"
      },
      "source": [
        "# Let's use the three \"big\" predictor variables from above: age, bmi, and number of children\n",
        "\n",
        "X = insurance[['age','bmi','children']] # Now we have values from three different independent attributes stored in X\n",
        "y = insurance['charges'] # This is, again, our dependent attribute\n",
        "print(X) # This is the content of our X variable"
      ],
      "execution_count": null,
      "outputs": [
        {
          "output_type": "stream",
          "name": "stdout",
          "text": [
            "      age     bmi  children\n",
            "0      19  27.900         0\n",
            "1      18  33.770         1\n",
            "2      28  33.000         3\n",
            "3      33  22.705         0\n",
            "4      32  28.880         0\n",
            "...   ...     ...       ...\n",
            "1333   50  30.970         3\n",
            "1334   18  31.920         0\n",
            "1335   18  36.850         0\n",
            "1336   21  25.800         0\n",
            "1337   61  29.070         0\n",
            "\n",
            "[1338 rows x 3 columns]\n"
          ]
        }
      ]
    },
    {
      "cell_type": "code",
      "metadata": {
        "id": "_vMb3aLKJOiA"
      },
      "source": [
        "# Defining the model for a multiple regression using the lm.fit() function:\n",
        "\n",
        "lm = linear_model.LinearRegression() # Here, we are using the linear_model subpackage from scikit-learn that we imported above\n",
        "model = lm.fit(X,y) # And here, we are building the model"
      ],
      "execution_count": null,
      "outputs": []
    },
    {
      "cell_type": "markdown",
      "metadata": {
        "id": "BDZ6CofiJvzV"
      },
      "source": [
        "You will have noticed that, when you clicked on the previous code cell, the output was ... nothing. When we run a linear regression with SKLearn, we don’t get a pretty table like in Statsmodels. But then, the model is much easier to build. What we can do is use built-in functions to return the score, the coefficients and the estimated intercepts. Let’s see how it works:"
      ]
    },
    {
      "cell_type": "code",
      "metadata": {
        "id": "fhYmaW2oJ0CN",
        "colab": {
          "base_uri": "https://localhost:8080/"
        },
        "outputId": "0b6dd332-3a63-4f3c-ee60-57c052713a47"
      },
      "source": [
        "# To find the R-squared score:\n",
        "lm.score(X,y)"
      ],
      "execution_count": null,
      "outputs": [
        {
          "output_type": "execute_result",
          "data": {
            "text/plain": [
              "0.12009819576246927"
            ]
          },
          "metadata": {},
          "execution_count": 11
        }
      ]
    },
    {
      "cell_type": "code",
      "metadata": {
        "id": "6Xbe99U6J9D9",
        "colab": {
          "base_uri": "https://localhost:8080/"
        },
        "outputId": "066b225a-638f-4abf-cb1f-72ec8099dc2e"
      },
      "source": [
        "# To find the coefficients for the predictors:\n",
        "lm.coef_"
      ],
      "execution_count": null,
      "outputs": [
        {
          "output_type": "execute_result",
          "data": {
            "text/plain": [
              "array([239.99447429, 332.0833645 , 542.86465225])"
            ]
          },
          "metadata": {},
          "execution_count": 12
        }
      ]
    },
    {
      "cell_type": "code",
      "metadata": {
        "id": "4JuKU2BhKFLp",
        "colab": {
          "base_uri": "https://localhost:8080/"
        },
        "outputId": "16378819-f0dd-4c39-c6bd-f799875a51a6"
      },
      "source": [
        "# To find the intercept:\n",
        "lm.intercept_"
      ],
      "execution_count": null,
      "outputs": [
        {
          "output_type": "execute_result",
          "data": {
            "text/plain": [
              "-6916.243347787033"
            ]
          },
          "metadata": {},
          "execution_count": 13
        }
      ]
    },
    {
      "cell_type": "markdown",
      "metadata": {
        "id": "Lm2b1ahWVCRA"
      },
      "source": [
        "What does all of this mean? Well, the R-squared value has improved from 8.9% to 12%. That's something. We are seeing our coefficients and the intercept, as well. This makes our equation\n",
        "\n",
        "\n",
        "```\n",
        "charges = 239.99 * age + 332.08 * bmi + 542.86 * children - 6916.24\n",
        "\n",
        "```\n",
        "As I said: Better already. Good? Not good enough. There's got to be a better way. And there is.\n"
      ]
    },
    {
      "cell_type": "markdown",
      "metadata": {
        "id": "XMd_g_mVWPKl"
      },
      "source": [
        "## **2.3 Multiple Linear Regression--All Attributes**\n",
        "Remember the other attributes we have in this dataset? Let's take a quick look:"
      ]
    },
    {
      "cell_type": "code",
      "metadata": {
        "id": "ufCSC6m3Wi-H",
        "colab": {
          "base_uri": "https://localhost:8080/"
        },
        "outputId": "dca2a715-9351-4920-e9c4-bff265eadbfc"
      },
      "source": [
        "insurance.info()"
      ],
      "execution_count": null,
      "outputs": [
        {
          "output_type": "stream",
          "name": "stdout",
          "text": [
            "<class 'pandas.core.frame.DataFrame'>\n",
            "RangeIndex: 1338 entries, 0 to 1337\n",
            "Data columns (total 7 columns):\n",
            " #   Column    Non-Null Count  Dtype  \n",
            "---  ------    --------------  -----  \n",
            " 0   age       1338 non-null   int64  \n",
            " 1   sex       1338 non-null   object \n",
            " 2   bmi       1338 non-null   float64\n",
            " 3   children  1338 non-null   int64  \n",
            " 4   smoker    1338 non-null   object \n",
            " 5   region    1338 non-null   object \n",
            " 6   charges   1338 non-null   float64\n",
            "dtypes: float64(2), int64(2), object(3)\n",
            "memory usage: 73.3+ KB\n"
          ]
        }
      ]
    },
    {
      "cell_type": "markdown",
      "metadata": {
        "id": "nufjV8gRWrRK"
      },
      "source": [
        "We still have sex, smoker, and region! Let's see what their influence is when combined with our numeric attributes.\n",
        "\n",
        "First, we set up our X and y attributes again."
      ]
    },
    {
      "cell_type": "code",
      "metadata": {
        "colab": {
          "base_uri": "https://localhost:8080/"
        },
        "id": "dqIDYS52XCZZ",
        "outputId": "d0542370-2d6f-46be-cdeb-0bf825744026"
      },
      "source": [
        "X = insurance.iloc[:, :-1].values\n",
        "y = insurance.iloc[:, 6].values\n",
        "print(X)\n",
        "print(y)"
      ],
      "execution_count": null,
      "outputs": [
        {
          "output_type": "stream",
          "name": "stdout",
          "text": [
            "[[19 'female' 27.9 0 'yes' 'southwest']\n",
            " [18 'male' 33.77 1 'no' 'southeast']\n",
            " [28 'male' 33.0 3 'no' 'southeast']\n",
            " ...\n",
            " [18 'female' 36.85 0 'no' 'southeast']\n",
            " [21 'female' 25.8 0 'no' 'southwest']\n",
            " [61 'female' 29.07 0 'yes' 'northwest']]\n",
            "[16884.924   1725.5523  4449.462  ...  1629.8335  2007.945  29141.3603]\n"
          ]
        }
      ]
    },
    {
      "cell_type": "markdown",
      "metadata": {
        "id": "B35j2LintRpv"
      },
      "source": [
        "Now, we can run our Multiple Regression again--this time with a process called \"Backward Elimination.\" In short, **Backward Elimination** is the process of entering all the independent variables into the equation first and **delete them one at a time** if they do not contribute to the regression equation.\n",
        "\n",
        "**Time to get up close and personal with r-squared**! Watch the video below:\n",
        "\n"
      ]
    },
    {
      "cell_type": "code",
      "source": [
        "IFrame(src=\"https://www.youtube.com/embed/bMccdk8EdGo\", width=560, height=315)"
      ],
      "metadata": {
        "colab": {
          "base_uri": "https://localhost:8080/",
          "height": 336
        },
        "id": "I7kdGr3LoUug",
        "outputId": "07c87d56-70ca-4fa6-ffbe-bd33a043ed36"
      },
      "execution_count": null,
      "outputs": [
        {
          "output_type": "execute_result",
          "data": {
            "text/plain": [
              "<IPython.lib.display.IFrame at 0x7889aa6e0bb0>"
            ],
            "text/html": [
              "\n",
              "        <iframe\n",
              "            width=\"560\"\n",
              "            height=\"315\"\n",
              "            src=\"https://www.youtube.com/embed/bMccdk8EdGo\"\n",
              "            frameborder=\"0\"\n",
              "            allowfullscreen\n",
              "            \n",
              "        ></iframe>\n",
              "        "
            ]
          },
          "metadata": {},
          "execution_count": 203
        }
      ]
    },
    {
      "cell_type": "markdown",
      "source": [
        "**OH!**\n",
        "But since regression requires only numeric variables, we will need to work with an entirely numeric dataset. Good thing we have one--otherwise, we would need to do some serious preprocessing. Let's load this dataset:"
      ],
      "metadata": {
        "id": "Be6VcPnuocOg"
      }
    },
    {
      "cell_type": "code",
      "metadata": {
        "id": "JIsRDZekua5A",
        "colab": {
          "base_uri": "https://localhost:8080/",
          "height": 206
        },
        "outputId": "be4e55b4-68ff-4edc-a34a-c81e21573bf8"
      },
      "source": [
        "insurance2 = pd.read_csv(\"https://raw.githubusercontent.com/shstreuber/Data-Mining/master/data/insurance.csv\")\n",
        "insurance2.head()"
      ],
      "execution_count": null,
      "outputs": [
        {
          "output_type": "execute_result",
          "data": {
            "text/plain": [
              "   age  sex     bmi  children  smoker  region      charges  insuranceclaim\n",
              "0   19    0  27.900         0       1       3  16884.92400               1\n",
              "1   18    1  33.770         1       0       2   1725.55230               1\n",
              "2   28    1  33.000         3       0       2   4449.46200               0\n",
              "3   33    1  22.705         0       0       1  21984.47061               0\n",
              "4   32    1  28.880         0       0       1   3866.85520               1"
            ],
            "text/html": [
              "\n",
              "  <div id=\"df-d3830892-170a-4a8c-a550-7aebb59eb584\" class=\"colab-df-container\">\n",
              "    <div>\n",
              "<style scoped>\n",
              "    .dataframe tbody tr th:only-of-type {\n",
              "        vertical-align: middle;\n",
              "    }\n",
              "\n",
              "    .dataframe tbody tr th {\n",
              "        vertical-align: top;\n",
              "    }\n",
              "\n",
              "    .dataframe thead th {\n",
              "        text-align: right;\n",
              "    }\n",
              "</style>\n",
              "<table border=\"1\" class=\"dataframe\">\n",
              "  <thead>\n",
              "    <tr style=\"text-align: right;\">\n",
              "      <th></th>\n",
              "      <th>age</th>\n",
              "      <th>sex</th>\n",
              "      <th>bmi</th>\n",
              "      <th>children</th>\n",
              "      <th>smoker</th>\n",
              "      <th>region</th>\n",
              "      <th>charges</th>\n",
              "      <th>insuranceclaim</th>\n",
              "    </tr>\n",
              "  </thead>\n",
              "  <tbody>\n",
              "    <tr>\n",
              "      <th>0</th>\n",
              "      <td>19</td>\n",
              "      <td>0</td>\n",
              "      <td>27.900</td>\n",
              "      <td>0</td>\n",
              "      <td>1</td>\n",
              "      <td>3</td>\n",
              "      <td>16884.92400</td>\n",
              "      <td>1</td>\n",
              "    </tr>\n",
              "    <tr>\n",
              "      <th>1</th>\n",
              "      <td>18</td>\n",
              "      <td>1</td>\n",
              "      <td>33.770</td>\n",
              "      <td>1</td>\n",
              "      <td>0</td>\n",
              "      <td>2</td>\n",
              "      <td>1725.55230</td>\n",
              "      <td>1</td>\n",
              "    </tr>\n",
              "    <tr>\n",
              "      <th>2</th>\n",
              "      <td>28</td>\n",
              "      <td>1</td>\n",
              "      <td>33.000</td>\n",
              "      <td>3</td>\n",
              "      <td>0</td>\n",
              "      <td>2</td>\n",
              "      <td>4449.46200</td>\n",
              "      <td>0</td>\n",
              "    </tr>\n",
              "    <tr>\n",
              "      <th>3</th>\n",
              "      <td>33</td>\n",
              "      <td>1</td>\n",
              "      <td>22.705</td>\n",
              "      <td>0</td>\n",
              "      <td>0</td>\n",
              "      <td>1</td>\n",
              "      <td>21984.47061</td>\n",
              "      <td>0</td>\n",
              "    </tr>\n",
              "    <tr>\n",
              "      <th>4</th>\n",
              "      <td>32</td>\n",
              "      <td>1</td>\n",
              "      <td>28.880</td>\n",
              "      <td>0</td>\n",
              "      <td>0</td>\n",
              "      <td>1</td>\n",
              "      <td>3866.85520</td>\n",
              "      <td>1</td>\n",
              "    </tr>\n",
              "  </tbody>\n",
              "</table>\n",
              "</div>\n",
              "    <div class=\"colab-df-buttons\">\n",
              "\n",
              "  <div class=\"colab-df-container\">\n",
              "    <button class=\"colab-df-convert\" onclick=\"convertToInteractive('df-d3830892-170a-4a8c-a550-7aebb59eb584')\"\n",
              "            title=\"Convert this dataframe to an interactive table.\"\n",
              "            style=\"display:none;\">\n",
              "\n",
              "  <svg xmlns=\"http://www.w3.org/2000/svg\" height=\"24px\" viewBox=\"0 -960 960 960\">\n",
              "    <path d=\"M120-120v-720h720v720H120Zm60-500h600v-160H180v160Zm220 220h160v-160H400v160Zm0 220h160v-160H400v160ZM180-400h160v-160H180v160Zm440 0h160v-160H620v160ZM180-180h160v-160H180v160Zm440 0h160v-160H620v160Z\"/>\n",
              "  </svg>\n",
              "    </button>\n",
              "\n",
              "  <style>\n",
              "    .colab-df-container {\n",
              "      display:flex;\n",
              "      gap: 12px;\n",
              "    }\n",
              "\n",
              "    .colab-df-convert {\n",
              "      background-color: #E8F0FE;\n",
              "      border: none;\n",
              "      border-radius: 50%;\n",
              "      cursor: pointer;\n",
              "      display: none;\n",
              "      fill: #1967D2;\n",
              "      height: 32px;\n",
              "      padding: 0 0 0 0;\n",
              "      width: 32px;\n",
              "    }\n",
              "\n",
              "    .colab-df-convert:hover {\n",
              "      background-color: #E2EBFA;\n",
              "      box-shadow: 0px 1px 2px rgba(60, 64, 67, 0.3), 0px 1px 3px 1px rgba(60, 64, 67, 0.15);\n",
              "      fill: #174EA6;\n",
              "    }\n",
              "\n",
              "    .colab-df-buttons div {\n",
              "      margin-bottom: 4px;\n",
              "    }\n",
              "\n",
              "    [theme=dark] .colab-df-convert {\n",
              "      background-color: #3B4455;\n",
              "      fill: #D2E3FC;\n",
              "    }\n",
              "\n",
              "    [theme=dark] .colab-df-convert:hover {\n",
              "      background-color: #434B5C;\n",
              "      box-shadow: 0px 1px 3px 1px rgba(0, 0, 0, 0.15);\n",
              "      filter: drop-shadow(0px 1px 2px rgba(0, 0, 0, 0.3));\n",
              "      fill: #FFFFFF;\n",
              "    }\n",
              "  </style>\n",
              "\n",
              "    <script>\n",
              "      const buttonEl =\n",
              "        document.querySelector('#df-d3830892-170a-4a8c-a550-7aebb59eb584 button.colab-df-convert');\n",
              "      buttonEl.style.display =\n",
              "        google.colab.kernel.accessAllowed ? 'block' : 'none';\n",
              "\n",
              "      async function convertToInteractive(key) {\n",
              "        const element = document.querySelector('#df-d3830892-170a-4a8c-a550-7aebb59eb584');\n",
              "        const dataTable =\n",
              "          await google.colab.kernel.invokeFunction('convertToInteractive',\n",
              "                                                    [key], {});\n",
              "        if (!dataTable) return;\n",
              "\n",
              "        const docLinkHtml = 'Like what you see? Visit the ' +\n",
              "          '<a target=\"_blank\" href=https://colab.research.google.com/notebooks/data_table.ipynb>data table notebook</a>'\n",
              "          + ' to learn more about interactive tables.';\n",
              "        element.innerHTML = '';\n",
              "        dataTable['output_type'] = 'display_data';\n",
              "        await google.colab.output.renderOutput(dataTable, element);\n",
              "        const docLink = document.createElement('div');\n",
              "        docLink.innerHTML = docLinkHtml;\n",
              "        element.appendChild(docLink);\n",
              "      }\n",
              "    </script>\n",
              "  </div>\n",
              "\n",
              "\n",
              "<div id=\"df-25154bf9-a8b6-482f-b43a-9cb18772721c\">\n",
              "  <button class=\"colab-df-quickchart\" onclick=\"quickchart('df-25154bf9-a8b6-482f-b43a-9cb18772721c')\"\n",
              "            title=\"Suggest charts\"\n",
              "            style=\"display:none;\">\n",
              "\n",
              "<svg xmlns=\"http://www.w3.org/2000/svg\" height=\"24px\"viewBox=\"0 0 24 24\"\n",
              "     width=\"24px\">\n",
              "    <g>\n",
              "        <path d=\"M19 3H5c-1.1 0-2 .9-2 2v14c0 1.1.9 2 2 2h14c1.1 0 2-.9 2-2V5c0-1.1-.9-2-2-2zM9 17H7v-7h2v7zm4 0h-2V7h2v10zm4 0h-2v-4h2v4z\"/>\n",
              "    </g>\n",
              "</svg>\n",
              "  </button>\n",
              "\n",
              "<style>\n",
              "  .colab-df-quickchart {\n",
              "      --bg-color: #E8F0FE;\n",
              "      --fill-color: #1967D2;\n",
              "      --hover-bg-color: #E2EBFA;\n",
              "      --hover-fill-color: #174EA6;\n",
              "      --disabled-fill-color: #AAA;\n",
              "      --disabled-bg-color: #DDD;\n",
              "  }\n",
              "\n",
              "  [theme=dark] .colab-df-quickchart {\n",
              "      --bg-color: #3B4455;\n",
              "      --fill-color: #D2E3FC;\n",
              "      --hover-bg-color: #434B5C;\n",
              "      --hover-fill-color: #FFFFFF;\n",
              "      --disabled-bg-color: #3B4455;\n",
              "      --disabled-fill-color: #666;\n",
              "  }\n",
              "\n",
              "  .colab-df-quickchart {\n",
              "    background-color: var(--bg-color);\n",
              "    border: none;\n",
              "    border-radius: 50%;\n",
              "    cursor: pointer;\n",
              "    display: none;\n",
              "    fill: var(--fill-color);\n",
              "    height: 32px;\n",
              "    padding: 0;\n",
              "    width: 32px;\n",
              "  }\n",
              "\n",
              "  .colab-df-quickchart:hover {\n",
              "    background-color: var(--hover-bg-color);\n",
              "    box-shadow: 0 1px 2px rgba(60, 64, 67, 0.3), 0 1px 3px 1px rgba(60, 64, 67, 0.15);\n",
              "    fill: var(--button-hover-fill-color);\n",
              "  }\n",
              "\n",
              "  .colab-df-quickchart-complete:disabled,\n",
              "  .colab-df-quickchart-complete:disabled:hover {\n",
              "    background-color: var(--disabled-bg-color);\n",
              "    fill: var(--disabled-fill-color);\n",
              "    box-shadow: none;\n",
              "  }\n",
              "\n",
              "  .colab-df-spinner {\n",
              "    border: 2px solid var(--fill-color);\n",
              "    border-color: transparent;\n",
              "    border-bottom-color: var(--fill-color);\n",
              "    animation:\n",
              "      spin 1s steps(1) infinite;\n",
              "  }\n",
              "\n",
              "  @keyframes spin {\n",
              "    0% {\n",
              "      border-color: transparent;\n",
              "      border-bottom-color: var(--fill-color);\n",
              "      border-left-color: var(--fill-color);\n",
              "    }\n",
              "    20% {\n",
              "      border-color: transparent;\n",
              "      border-left-color: var(--fill-color);\n",
              "      border-top-color: var(--fill-color);\n",
              "    }\n",
              "    30% {\n",
              "      border-color: transparent;\n",
              "      border-left-color: var(--fill-color);\n",
              "      border-top-color: var(--fill-color);\n",
              "      border-right-color: var(--fill-color);\n",
              "    }\n",
              "    40% {\n",
              "      border-color: transparent;\n",
              "      border-right-color: var(--fill-color);\n",
              "      border-top-color: var(--fill-color);\n",
              "    }\n",
              "    60% {\n",
              "      border-color: transparent;\n",
              "      border-right-color: var(--fill-color);\n",
              "    }\n",
              "    80% {\n",
              "      border-color: transparent;\n",
              "      border-right-color: var(--fill-color);\n",
              "      border-bottom-color: var(--fill-color);\n",
              "    }\n",
              "    90% {\n",
              "      border-color: transparent;\n",
              "      border-bottom-color: var(--fill-color);\n",
              "    }\n",
              "  }\n",
              "</style>\n",
              "\n",
              "  <script>\n",
              "    async function quickchart(key) {\n",
              "      const quickchartButtonEl =\n",
              "        document.querySelector('#' + key + ' button');\n",
              "      quickchartButtonEl.disabled = true;  // To prevent multiple clicks.\n",
              "      quickchartButtonEl.classList.add('colab-df-spinner');\n",
              "      try {\n",
              "        const charts = await google.colab.kernel.invokeFunction(\n",
              "            'suggestCharts', [key], {});\n",
              "      } catch (error) {\n",
              "        console.error('Error during call to suggestCharts:', error);\n",
              "      }\n",
              "      quickchartButtonEl.classList.remove('colab-df-spinner');\n",
              "      quickchartButtonEl.classList.add('colab-df-quickchart-complete');\n",
              "    }\n",
              "    (() => {\n",
              "      let quickchartButtonEl =\n",
              "        document.querySelector('#df-25154bf9-a8b6-482f-b43a-9cb18772721c button');\n",
              "      quickchartButtonEl.style.display =\n",
              "        google.colab.kernel.accessAllowed ? 'block' : 'none';\n",
              "    })();\n",
              "  </script>\n",
              "</div>\n",
              "    </div>\n",
              "  </div>\n"
            ],
            "application/vnd.google.colaboratory.intrinsic+json": {
              "type": "dataframe",
              "variable_name": "insurance2",
              "summary": "{\n  \"name\": \"insurance2\",\n  \"rows\": 1338,\n  \"fields\": [\n    {\n      \"column\": \"age\",\n      \"properties\": {\n        \"dtype\": \"number\",\n        \"std\": 14,\n        \"min\": 18,\n        \"max\": 64,\n        \"num_unique_values\": 47,\n        \"samples\": [\n          21,\n          45,\n          36\n        ],\n        \"semantic_type\": \"\",\n        \"description\": \"\"\n      }\n    },\n    {\n      \"column\": \"sex\",\n      \"properties\": {\n        \"dtype\": \"number\",\n        \"std\": 0,\n        \"min\": 0,\n        \"max\": 1,\n        \"num_unique_values\": 2,\n        \"samples\": [\n          1,\n          0\n        ],\n        \"semantic_type\": \"\",\n        \"description\": \"\"\n      }\n    },\n    {\n      \"column\": \"bmi\",\n      \"properties\": {\n        \"dtype\": \"number\",\n        \"std\": 6.098186911679014,\n        \"min\": 15.96,\n        \"max\": 53.13,\n        \"num_unique_values\": 548,\n        \"samples\": [\n          23.18,\n          26.885\n        ],\n        \"semantic_type\": \"\",\n        \"description\": \"\"\n      }\n    },\n    {\n      \"column\": \"children\",\n      \"properties\": {\n        \"dtype\": \"number\",\n        \"std\": 1,\n        \"min\": 0,\n        \"max\": 5,\n        \"num_unique_values\": 6,\n        \"samples\": [\n          0,\n          1\n        ],\n        \"semantic_type\": \"\",\n        \"description\": \"\"\n      }\n    },\n    {\n      \"column\": \"smoker\",\n      \"properties\": {\n        \"dtype\": \"number\",\n        \"std\": 0,\n        \"min\": 0,\n        \"max\": 1,\n        \"num_unique_values\": 2,\n        \"samples\": [\n          0,\n          1\n        ],\n        \"semantic_type\": \"\",\n        \"description\": \"\"\n      }\n    },\n    {\n      \"column\": \"region\",\n      \"properties\": {\n        \"dtype\": \"number\",\n        \"std\": 1,\n        \"min\": 0,\n        \"max\": 3,\n        \"num_unique_values\": 4,\n        \"samples\": [\n          2,\n          0\n        ],\n        \"semantic_type\": \"\",\n        \"description\": \"\"\n      }\n    },\n    {\n      \"column\": \"charges\",\n      \"properties\": {\n        \"dtype\": \"number\",\n        \"std\": 12110.011236694001,\n        \"min\": 1121.8739,\n        \"max\": 63770.42801,\n        \"num_unique_values\": 1337,\n        \"samples\": [\n          8688.85885,\n          5708.867\n        ],\n        \"semantic_type\": \"\",\n        \"description\": \"\"\n      }\n    },\n    {\n      \"column\": \"insuranceclaim\",\n      \"properties\": {\n        \"dtype\": \"number\",\n        \"std\": 0,\n        \"min\": 0,\n        \"max\": 1,\n        \"num_unique_values\": 2,\n        \"samples\": [\n          0,\n          1\n        ],\n        \"semantic_type\": \"\",\n        \"description\": \"\"\n      }\n    }\n  ]\n}"
            }
          },
          "metadata": {},
          "execution_count": 16
        }
      ]
    },
    {
      "cell_type": "markdown",
      "metadata": {
        "id": "MXL3P6g_wPmP"
      },
      "source": [
        "There is an additional column called \"insuranceclaim\". We will delete this column for now. (NOTE: If you click the \"run\" icon below more than once, you will get a runtime error because Python is trying to delete a column that has already been deleted)."
      ]
    },
    {
      "cell_type": "code",
      "metadata": {
        "id": "GUKsKfPGwhPm",
        "colab": {
          "base_uri": "https://localhost:8080/",
          "height": 206
        },
        "outputId": "a47467f6-fac6-48cc-eac6-49e0adaa2e77"
      },
      "source": [
        "del insurance2['insuranceclaim']\n",
        "insurance2.head()"
      ],
      "execution_count": null,
      "outputs": [
        {
          "output_type": "execute_result",
          "data": {
            "text/plain": [
              "   age  sex     bmi  children  smoker  region      charges\n",
              "0   19    0  27.900         0       1       3  16884.92400\n",
              "1   18    1  33.770         1       0       2   1725.55230\n",
              "2   28    1  33.000         3       0       2   4449.46200\n",
              "3   33    1  22.705         0       0       1  21984.47061\n",
              "4   32    1  28.880         0       0       1   3866.85520"
            ],
            "text/html": [
              "\n",
              "  <div id=\"df-59d2baf1-b6fa-4047-bc74-0f6aafc789b9\" class=\"colab-df-container\">\n",
              "    <div>\n",
              "<style scoped>\n",
              "    .dataframe tbody tr th:only-of-type {\n",
              "        vertical-align: middle;\n",
              "    }\n",
              "\n",
              "    .dataframe tbody tr th {\n",
              "        vertical-align: top;\n",
              "    }\n",
              "\n",
              "    .dataframe thead th {\n",
              "        text-align: right;\n",
              "    }\n",
              "</style>\n",
              "<table border=\"1\" class=\"dataframe\">\n",
              "  <thead>\n",
              "    <tr style=\"text-align: right;\">\n",
              "      <th></th>\n",
              "      <th>age</th>\n",
              "      <th>sex</th>\n",
              "      <th>bmi</th>\n",
              "      <th>children</th>\n",
              "      <th>smoker</th>\n",
              "      <th>region</th>\n",
              "      <th>charges</th>\n",
              "    </tr>\n",
              "  </thead>\n",
              "  <tbody>\n",
              "    <tr>\n",
              "      <th>0</th>\n",
              "      <td>19</td>\n",
              "      <td>0</td>\n",
              "      <td>27.900</td>\n",
              "      <td>0</td>\n",
              "      <td>1</td>\n",
              "      <td>3</td>\n",
              "      <td>16884.92400</td>\n",
              "    </tr>\n",
              "    <tr>\n",
              "      <th>1</th>\n",
              "      <td>18</td>\n",
              "      <td>1</td>\n",
              "      <td>33.770</td>\n",
              "      <td>1</td>\n",
              "      <td>0</td>\n",
              "      <td>2</td>\n",
              "      <td>1725.55230</td>\n",
              "    </tr>\n",
              "    <tr>\n",
              "      <th>2</th>\n",
              "      <td>28</td>\n",
              "      <td>1</td>\n",
              "      <td>33.000</td>\n",
              "      <td>3</td>\n",
              "      <td>0</td>\n",
              "      <td>2</td>\n",
              "      <td>4449.46200</td>\n",
              "    </tr>\n",
              "    <tr>\n",
              "      <th>3</th>\n",
              "      <td>33</td>\n",
              "      <td>1</td>\n",
              "      <td>22.705</td>\n",
              "      <td>0</td>\n",
              "      <td>0</td>\n",
              "      <td>1</td>\n",
              "      <td>21984.47061</td>\n",
              "    </tr>\n",
              "    <tr>\n",
              "      <th>4</th>\n",
              "      <td>32</td>\n",
              "      <td>1</td>\n",
              "      <td>28.880</td>\n",
              "      <td>0</td>\n",
              "      <td>0</td>\n",
              "      <td>1</td>\n",
              "      <td>3866.85520</td>\n",
              "    </tr>\n",
              "  </tbody>\n",
              "</table>\n",
              "</div>\n",
              "    <div class=\"colab-df-buttons\">\n",
              "\n",
              "  <div class=\"colab-df-container\">\n",
              "    <button class=\"colab-df-convert\" onclick=\"convertToInteractive('df-59d2baf1-b6fa-4047-bc74-0f6aafc789b9')\"\n",
              "            title=\"Convert this dataframe to an interactive table.\"\n",
              "            style=\"display:none;\">\n",
              "\n",
              "  <svg xmlns=\"http://www.w3.org/2000/svg\" height=\"24px\" viewBox=\"0 -960 960 960\">\n",
              "    <path d=\"M120-120v-720h720v720H120Zm60-500h600v-160H180v160Zm220 220h160v-160H400v160Zm0 220h160v-160H400v160ZM180-400h160v-160H180v160Zm440 0h160v-160H620v160ZM180-180h160v-160H180v160Zm440 0h160v-160H620v160Z\"/>\n",
              "  </svg>\n",
              "    </button>\n",
              "\n",
              "  <style>\n",
              "    .colab-df-container {\n",
              "      display:flex;\n",
              "      gap: 12px;\n",
              "    }\n",
              "\n",
              "    .colab-df-convert {\n",
              "      background-color: #E8F0FE;\n",
              "      border: none;\n",
              "      border-radius: 50%;\n",
              "      cursor: pointer;\n",
              "      display: none;\n",
              "      fill: #1967D2;\n",
              "      height: 32px;\n",
              "      padding: 0 0 0 0;\n",
              "      width: 32px;\n",
              "    }\n",
              "\n",
              "    .colab-df-convert:hover {\n",
              "      background-color: #E2EBFA;\n",
              "      box-shadow: 0px 1px 2px rgba(60, 64, 67, 0.3), 0px 1px 3px 1px rgba(60, 64, 67, 0.15);\n",
              "      fill: #174EA6;\n",
              "    }\n",
              "\n",
              "    .colab-df-buttons div {\n",
              "      margin-bottom: 4px;\n",
              "    }\n",
              "\n",
              "    [theme=dark] .colab-df-convert {\n",
              "      background-color: #3B4455;\n",
              "      fill: #D2E3FC;\n",
              "    }\n",
              "\n",
              "    [theme=dark] .colab-df-convert:hover {\n",
              "      background-color: #434B5C;\n",
              "      box-shadow: 0px 1px 3px 1px rgba(0, 0, 0, 0.15);\n",
              "      filter: drop-shadow(0px 1px 2px rgba(0, 0, 0, 0.3));\n",
              "      fill: #FFFFFF;\n",
              "    }\n",
              "  </style>\n",
              "\n",
              "    <script>\n",
              "      const buttonEl =\n",
              "        document.querySelector('#df-59d2baf1-b6fa-4047-bc74-0f6aafc789b9 button.colab-df-convert');\n",
              "      buttonEl.style.display =\n",
              "        google.colab.kernel.accessAllowed ? 'block' : 'none';\n",
              "\n",
              "      async function convertToInteractive(key) {\n",
              "        const element = document.querySelector('#df-59d2baf1-b6fa-4047-bc74-0f6aafc789b9');\n",
              "        const dataTable =\n",
              "          await google.colab.kernel.invokeFunction('convertToInteractive',\n",
              "                                                    [key], {});\n",
              "        if (!dataTable) return;\n",
              "\n",
              "        const docLinkHtml = 'Like what you see? Visit the ' +\n",
              "          '<a target=\"_blank\" href=https://colab.research.google.com/notebooks/data_table.ipynb>data table notebook</a>'\n",
              "          + ' to learn more about interactive tables.';\n",
              "        element.innerHTML = '';\n",
              "        dataTable['output_type'] = 'display_data';\n",
              "        await google.colab.output.renderOutput(dataTable, element);\n",
              "        const docLink = document.createElement('div');\n",
              "        docLink.innerHTML = docLinkHtml;\n",
              "        element.appendChild(docLink);\n",
              "      }\n",
              "    </script>\n",
              "  </div>\n",
              "\n",
              "\n",
              "<div id=\"df-524033ee-fb19-45f5-89db-a23572a5ea73\">\n",
              "  <button class=\"colab-df-quickchart\" onclick=\"quickchart('df-524033ee-fb19-45f5-89db-a23572a5ea73')\"\n",
              "            title=\"Suggest charts\"\n",
              "            style=\"display:none;\">\n",
              "\n",
              "<svg xmlns=\"http://www.w3.org/2000/svg\" height=\"24px\"viewBox=\"0 0 24 24\"\n",
              "     width=\"24px\">\n",
              "    <g>\n",
              "        <path d=\"M19 3H5c-1.1 0-2 .9-2 2v14c0 1.1.9 2 2 2h14c1.1 0 2-.9 2-2V5c0-1.1-.9-2-2-2zM9 17H7v-7h2v7zm4 0h-2V7h2v10zm4 0h-2v-4h2v4z\"/>\n",
              "    </g>\n",
              "</svg>\n",
              "  </button>\n",
              "\n",
              "<style>\n",
              "  .colab-df-quickchart {\n",
              "      --bg-color: #E8F0FE;\n",
              "      --fill-color: #1967D2;\n",
              "      --hover-bg-color: #E2EBFA;\n",
              "      --hover-fill-color: #174EA6;\n",
              "      --disabled-fill-color: #AAA;\n",
              "      --disabled-bg-color: #DDD;\n",
              "  }\n",
              "\n",
              "  [theme=dark] .colab-df-quickchart {\n",
              "      --bg-color: #3B4455;\n",
              "      --fill-color: #D2E3FC;\n",
              "      --hover-bg-color: #434B5C;\n",
              "      --hover-fill-color: #FFFFFF;\n",
              "      --disabled-bg-color: #3B4455;\n",
              "      --disabled-fill-color: #666;\n",
              "  }\n",
              "\n",
              "  .colab-df-quickchart {\n",
              "    background-color: var(--bg-color);\n",
              "    border: none;\n",
              "    border-radius: 50%;\n",
              "    cursor: pointer;\n",
              "    display: none;\n",
              "    fill: var(--fill-color);\n",
              "    height: 32px;\n",
              "    padding: 0;\n",
              "    width: 32px;\n",
              "  }\n",
              "\n",
              "  .colab-df-quickchart:hover {\n",
              "    background-color: var(--hover-bg-color);\n",
              "    box-shadow: 0 1px 2px rgba(60, 64, 67, 0.3), 0 1px 3px 1px rgba(60, 64, 67, 0.15);\n",
              "    fill: var(--button-hover-fill-color);\n",
              "  }\n",
              "\n",
              "  .colab-df-quickchart-complete:disabled,\n",
              "  .colab-df-quickchart-complete:disabled:hover {\n",
              "    background-color: var(--disabled-bg-color);\n",
              "    fill: var(--disabled-fill-color);\n",
              "    box-shadow: none;\n",
              "  }\n",
              "\n",
              "  .colab-df-spinner {\n",
              "    border: 2px solid var(--fill-color);\n",
              "    border-color: transparent;\n",
              "    border-bottom-color: var(--fill-color);\n",
              "    animation:\n",
              "      spin 1s steps(1) infinite;\n",
              "  }\n",
              "\n",
              "  @keyframes spin {\n",
              "    0% {\n",
              "      border-color: transparent;\n",
              "      border-bottom-color: var(--fill-color);\n",
              "      border-left-color: var(--fill-color);\n",
              "    }\n",
              "    20% {\n",
              "      border-color: transparent;\n",
              "      border-left-color: var(--fill-color);\n",
              "      border-top-color: var(--fill-color);\n",
              "    }\n",
              "    30% {\n",
              "      border-color: transparent;\n",
              "      border-left-color: var(--fill-color);\n",
              "      border-top-color: var(--fill-color);\n",
              "      border-right-color: var(--fill-color);\n",
              "    }\n",
              "    40% {\n",
              "      border-color: transparent;\n",
              "      border-right-color: var(--fill-color);\n",
              "      border-top-color: var(--fill-color);\n",
              "    }\n",
              "    60% {\n",
              "      border-color: transparent;\n",
              "      border-right-color: var(--fill-color);\n",
              "    }\n",
              "    80% {\n",
              "      border-color: transparent;\n",
              "      border-right-color: var(--fill-color);\n",
              "      border-bottom-color: var(--fill-color);\n",
              "    }\n",
              "    90% {\n",
              "      border-color: transparent;\n",
              "      border-bottom-color: var(--fill-color);\n",
              "    }\n",
              "  }\n",
              "</style>\n",
              "\n",
              "  <script>\n",
              "    async function quickchart(key) {\n",
              "      const quickchartButtonEl =\n",
              "        document.querySelector('#' + key + ' button');\n",
              "      quickchartButtonEl.disabled = true;  // To prevent multiple clicks.\n",
              "      quickchartButtonEl.classList.add('colab-df-spinner');\n",
              "      try {\n",
              "        const charts = await google.colab.kernel.invokeFunction(\n",
              "            'suggestCharts', [key], {});\n",
              "      } catch (error) {\n",
              "        console.error('Error during call to suggestCharts:', error);\n",
              "      }\n",
              "      quickchartButtonEl.classList.remove('colab-df-spinner');\n",
              "      quickchartButtonEl.classList.add('colab-df-quickchart-complete');\n",
              "    }\n",
              "    (() => {\n",
              "      let quickchartButtonEl =\n",
              "        document.querySelector('#df-524033ee-fb19-45f5-89db-a23572a5ea73 button');\n",
              "      quickchartButtonEl.style.display =\n",
              "        google.colab.kernel.accessAllowed ? 'block' : 'none';\n",
              "    })();\n",
              "  </script>\n",
              "</div>\n",
              "    </div>\n",
              "  </div>\n"
            ],
            "application/vnd.google.colaboratory.intrinsic+json": {
              "type": "dataframe",
              "variable_name": "insurance2",
              "summary": "{\n  \"name\": \"insurance2\",\n  \"rows\": 1338,\n  \"fields\": [\n    {\n      \"column\": \"age\",\n      \"properties\": {\n        \"dtype\": \"number\",\n        \"std\": 14,\n        \"min\": 18,\n        \"max\": 64,\n        \"num_unique_values\": 47,\n        \"samples\": [\n          21,\n          45,\n          36\n        ],\n        \"semantic_type\": \"\",\n        \"description\": \"\"\n      }\n    },\n    {\n      \"column\": \"sex\",\n      \"properties\": {\n        \"dtype\": \"number\",\n        \"std\": 0,\n        \"min\": 0,\n        \"max\": 1,\n        \"num_unique_values\": 2,\n        \"samples\": [\n          1,\n          0\n        ],\n        \"semantic_type\": \"\",\n        \"description\": \"\"\n      }\n    },\n    {\n      \"column\": \"bmi\",\n      \"properties\": {\n        \"dtype\": \"number\",\n        \"std\": 6.098186911679014,\n        \"min\": 15.96,\n        \"max\": 53.13,\n        \"num_unique_values\": 548,\n        \"samples\": [\n          23.18,\n          26.885\n        ],\n        \"semantic_type\": \"\",\n        \"description\": \"\"\n      }\n    },\n    {\n      \"column\": \"children\",\n      \"properties\": {\n        \"dtype\": \"number\",\n        \"std\": 1,\n        \"min\": 0,\n        \"max\": 5,\n        \"num_unique_values\": 6,\n        \"samples\": [\n          0,\n          1\n        ],\n        \"semantic_type\": \"\",\n        \"description\": \"\"\n      }\n    },\n    {\n      \"column\": \"smoker\",\n      \"properties\": {\n        \"dtype\": \"number\",\n        \"std\": 0,\n        \"min\": 0,\n        \"max\": 1,\n        \"num_unique_values\": 2,\n        \"samples\": [\n          0,\n          1\n        ],\n        \"semantic_type\": \"\",\n        \"description\": \"\"\n      }\n    },\n    {\n      \"column\": \"region\",\n      \"properties\": {\n        \"dtype\": \"number\",\n        \"std\": 1,\n        \"min\": 0,\n        \"max\": 3,\n        \"num_unique_values\": 4,\n        \"samples\": [\n          2,\n          0\n        ],\n        \"semantic_type\": \"\",\n        \"description\": \"\"\n      }\n    },\n    {\n      \"column\": \"charges\",\n      \"properties\": {\n        \"dtype\": \"number\",\n        \"std\": 12110.011236694001,\n        \"min\": 1121.8739,\n        \"max\": 63770.42801,\n        \"num_unique_values\": 1337,\n        \"samples\": [\n          8688.85885,\n          5708.867\n        ],\n        \"semantic_type\": \"\",\n        \"description\": \"\"\n      }\n    }\n  ]\n}"
            }
          },
          "metadata": {},
          "execution_count": 17
        }
      ]
    },
    {
      "cell_type": "markdown",
      "metadata": {
        "id": "aBahGGV3u0Cr"
      },
      "source": [
        "Now we can start eliminating attributes if they don't contribute to an optimal regression result (again, let's watch r-squared). We will use statsmodels this time around. First, we will set up X and y again so that we replace the strings currently in these variables with numbers:\n",
        "\n"
      ]
    },
    {
      "cell_type": "code",
      "metadata": {
        "id": "4wPiF3n_vFmN",
        "colab": {
          "base_uri": "https://localhost:8080/"
        },
        "outputId": "d755d372-e3c3-4d83-de7d-f87f78662314"
      },
      "source": [
        "X = insurance2.iloc[:, :-1].values\n",
        "y = insurance2.iloc[:, 6].values\n",
        "\n",
        "X = np.append(arr = np.ones((1338, 1)).astype(int), values = X, axis = 1) # We are building our numpy array\n",
        "\n",
        "X_opt = X[:, [0, 1, 2, 3, 4, 5, 6]] # Now we combine all 6 input variables into our first iteration\n",
        "regressor_OLS = sm.OLS(endog = y, exog = X_opt).fit() # Now we set up our regressor function with OLS again as before.\n",
        "print(regressor_OLS.summary())"
      ],
      "execution_count": null,
      "outputs": [
        {
          "output_type": "stream",
          "name": "stdout",
          "text": [
            "                            OLS Regression Results                            \n",
            "==============================================================================\n",
            "Dep. Variable:                      y   R-squared:                       0.751\n",
            "Model:                            OLS   Adj. R-squared:                  0.750\n",
            "Method:                 Least Squares   F-statistic:                     668.1\n",
            "Date:                Wed, 29 May 2024   Prob (F-statistic):               0.00\n",
            "Time:                        16:14:32   Log-Likelihood:                -13548.\n",
            "No. Observations:                1338   AIC:                         2.711e+04\n",
            "Df Residuals:                    1331   BIC:                         2.715e+04\n",
            "Df Model:                           6                                         \n",
            "Covariance Type:            nonrobust                                         \n",
            "==============================================================================\n",
            "                 coef    std err          t      P>|t|      [0.025      0.975]\n",
            "------------------------------------------------------------------------------\n",
            "const      -1.182e+04    955.130    -12.371      0.000   -1.37e+04   -9941.729\n",
            "x1           257.2881     11.886     21.647      0.000     233.971     280.605\n",
            "x2          -131.1106    332.811     -0.394      0.694    -784.001     521.780\n",
            "x3           332.5701     27.722     11.997      0.000     278.186     386.954\n",
            "x4           479.3694    137.644      3.483      0.001     209.346     749.393\n",
            "x5          2.382e+04    411.843     57.839      0.000     2.3e+04    2.46e+04\n",
            "x6          -353.6400    151.927     -2.328      0.020    -651.682     -55.598\n",
            "==============================================================================\n",
            "Omnibus:                      299.003   Durbin-Watson:                   2.088\n",
            "Prob(Omnibus):                  0.000   Jarque-Bera (JB):              713.975\n",
            "Skew:                           1.207   Prob(JB):                    9.17e-156\n",
            "Kurtosis:                       5.642   Cond. No.                         296.\n",
            "==============================================================================\n",
            "\n",
            "Notes:\n",
            "[1] Standard Errors assume that the covariance matrix of the errors is correctly specified.\n"
          ]
        }
      ]
    },
    {
      "cell_type": "markdown",
      "metadata": {
        "id": "Va2LVCq4wD3s"
      },
      "source": [
        "Wow! With all variables combined, we can achieve and r-squared value of 75%. Nice. But you never know if two variables maybe negatively impact each other. So, let's remove one and see if that will help us increase r-squared."
      ]
    },
    {
      "cell_type": "code",
      "metadata": {
        "id": "Tnee2qiYxRZ2",
        "colab": {
          "base_uri": "https://localhost:8080/"
        },
        "outputId": "959d7977-0797-4a22-e15f-77b210c67f47"
      },
      "source": [
        "# How about age? That wasn't so good before.\n",
        "\n",
        "X_opt = X[:, [0, 2, 3, 4, 5]] # Age has been removed\n",
        "regressor_OLS = sm.OLS(endog = y, exog = X_opt).fit() # Now we set up our regressor function with OLS again as before.\n",
        "print(regressor_OLS.summary())"
      ],
      "execution_count": null,
      "outputs": [
        {
          "output_type": "stream",
          "name": "stdout",
          "text": [
            "                            OLS Regression Results                            \n",
            "==============================================================================\n",
            "Dep. Variable:                      y   R-squared:                       0.662\n",
            "Model:                            OLS   Adj. R-squared:                  0.661\n",
            "Method:                 Least Squares   F-statistic:                     651.6\n",
            "Date:                Wed, 29 May 2024   Prob (F-statistic):          9.46e-312\n",
            "Time:                        16:16:06   Log-Likelihood:                -13753.\n",
            "No. Observations:                1338   AIC:                         2.752e+04\n",
            "Df Residuals:                    1333   BIC:                         2.754e+04\n",
            "Df Model:                           4                                         \n",
            "Covariance Type:            nonrobust                                         \n",
            "==============================================================================\n",
            "                 coef    std err          t      P>|t|      [0.025      0.975]\n",
            "------------------------------------------------------------------------------\n",
            "const      -3952.3555   1016.546     -3.888      0.000   -5946.560   -1958.151\n",
            "x1          -308.5802    387.342     -0.797      0.426   -1068.446     451.286\n",
            "x2           387.6727     31.675     12.239      0.000     325.534     449.811\n",
            "x3           599.5993    160.088      3.745      0.000     285.548     913.651\n",
            "x4          2.361e+04    479.335     49.254      0.000    2.27e+04    2.45e+04\n",
            "==============================================================================\n",
            "Omnibus:                      159.206   Durbin-Watson:                   2.041\n",
            "Prob(Omnibus):                  0.000   Jarque-Bera (JB):              248.941\n",
            "Skew:                           0.827   Prob(JB):                     8.77e-55\n",
            "Kurtosis:                       4.315   Cond. No.                         166.\n",
            "==============================================================================\n",
            "\n",
            "Notes:\n",
            "[1] Standard Errors assume that the covariance matrix of the errors is correctly specified.\n"
          ]
        }
      ]
    },
    {
      "cell_type": "markdown",
      "metadata": {
        "id": "LzuhKnWexQa_"
      },
      "source": [
        "Oh. Well, that actually decreased R-squared. How about eliminating sex?"
      ]
    },
    {
      "cell_type": "code",
      "metadata": {
        "id": "046pUvdayP5F",
        "colab": {
          "base_uri": "https://localhost:8080/"
        },
        "outputId": "f417e777-245f-47a7-8505-65e80ec7608f"
      },
      "source": [
        "# bmi looked pretty split before. Removing bmi now.\n",
        "\n",
        "X_opt = X[:, [0, 2, 4, 5, 6]] # Age has been removed\n",
        "regressor_OLS = sm.OLS(endog = y, exog = X_opt).fit() # Now we set up our regressor function with OLS again as before.\n",
        "print(regressor_OLS.summary())"
      ],
      "execution_count": null,
      "outputs": [
        {
          "output_type": "stream",
          "name": "stdout",
          "text": [
            "                            OLS Regression Results                            \n",
            "==============================================================================\n",
            "Dep. Variable:                      y   R-squared:                       0.624\n",
            "Model:                            OLS   Adj. R-squared:                  0.623\n",
            "Method:                 Least Squares   F-statistic:                     552.2\n",
            "Date:                Wed, 29 May 2024   Prob (F-statistic):          5.67e-281\n",
            "Time:                        16:17:07   Log-Likelihood:                -13824.\n",
            "No. Observations:                1338   AIC:                         2.766e+04\n",
            "Df Residuals:                    1333   BIC:                         2.768e+04\n",
            "Df Model:                           4                                         \n",
            "Covariance Type:            nonrobust                                         \n",
            "==============================================================================\n",
            "                 coef    std err          t      P>|t|      [0.025      0.975]\n",
            "------------------------------------------------------------------------------\n",
            "const       7889.1464    447.098     17.645      0.000    7012.055    8766.238\n",
            "x1           -89.8193    408.081     -0.220      0.826    -890.370     710.732\n",
            "x2           623.9783    168.847      3.696      0.000     292.743     955.214\n",
            "x3          2.361e+04    505.532     46.703      0.000    2.26e+04    2.46e+04\n",
            "x4           -60.3274    184.194     -0.328      0.743    -421.669     301.014\n",
            "==============================================================================\n",
            "Omnibus:                      139.457   Durbin-Watson:                   2.030\n",
            "Prob(Omnibus):                  0.000   Jarque-Bera (JB):              219.037\n",
            "Skew:                           0.740   Prob(JB):                     2.73e-48\n",
            "Kurtosis:                       4.319   Cond. No.                         6.44\n",
            "==============================================================================\n",
            "\n",
            "Notes:\n",
            "[1] Standard Errors assume that the covariance matrix of the errors is correctly specified.\n"
          ]
        }
      ]
    },
    {
      "cell_type": "markdown",
      "metadata": {
        "id": "pVbGCdbm4tGP"
      },
      "source": [
        "Wow. That dropped the r-squared function even faster. How about bmi, then?"
      ]
    },
    {
      "cell_type": "code",
      "metadata": {
        "id": "KnYxeXSV41Tw",
        "colab": {
          "base_uri": "https://localhost:8080/"
        },
        "outputId": "3f611c77-0095-4392-95d2-6f027e84b561"
      },
      "source": [
        "X_opt = X[:, [0, 1, 3, 4, 5, 6]] # Removed bmi\n",
        "regressor_OLS = sm.OLS(endog = y, exog = X_opt).fit() # Now we set up our regressor function with OLS again as before.\n",
        "print(regressor_OLS.summary())"
      ],
      "execution_count": null,
      "outputs": [
        {
          "output_type": "stream",
          "name": "stdout",
          "text": [
            "                            OLS Regression Results                            \n",
            "==============================================================================\n",
            "Dep. Variable:                      y   R-squared:                       0.751\n",
            "Model:                            OLS   Adj. R-squared:                  0.750\n",
            "Method:                 Least Squares   F-statistic:                     802.2\n",
            "Date:                Wed, 29 May 2024   Prob (F-statistic):               0.00\n",
            "Time:                        16:17:26   Log-Likelihood:                -13548.\n",
            "No. Observations:                1338   AIC:                         2.711e+04\n",
            "Df Residuals:                    1332   BIC:                         2.714e+04\n",
            "Df Model:                           5                                         \n",
            "Covariance Type:            nonrobust                                         \n",
            "==============================================================================\n",
            "                 coef    std err          t      P>|t|      [0.025      0.975]\n",
            "------------------------------------------------------------------------------\n",
            "const      -1.187e+04    945.876    -12.546      0.000   -1.37e+04      -1e+04\n",
            "x1           257.4050     11.878     21.670      0.000     234.103     280.707\n",
            "x2           332.0420     27.681     11.995      0.000     277.739     386.345\n",
            "x3           478.4405    137.580      3.478      0.001     208.543     748.338\n",
            "x4          2.381e+04    410.543     57.992      0.000     2.3e+04    2.46e+04\n",
            "x5          -353.4491    151.878     -2.327      0.020    -651.395     -55.504\n",
            "==============================================================================\n",
            "Omnibus:                      299.380   Durbin-Watson:                   2.088\n",
            "Prob(Omnibus):                  0.000   Jarque-Bera (JB):              715.644\n",
            "Skew:                           1.208   Prob(JB):                    3.98e-156\n",
            "Kurtosis:                       5.646   Cond. No.                         293.\n",
            "==============================================================================\n",
            "\n",
            "Notes:\n",
            "[1] Standard Errors assume that the covariance matrix of the errors is correctly specified.\n"
          ]
        }
      ]
    },
    {
      "cell_type": "markdown",
      "metadata": {
        "id": "uuLfrDK85LL5"
      },
      "source": [
        "Heh. Removing bmi did nothing to our r-squared--except for saving us the computing resources that would come from applying the regression to the full dataset including bmi."
      ]
    },
    {
      "cell_type": "code",
      "metadata": {
        "id": "8TKLUEeo5lEP",
        "colab": {
          "base_uri": "https://localhost:8080/"
        },
        "outputId": "04b07746-7af5-4511-dcf1-8da3ec0b71ec"
      },
      "source": [
        "X_opt = X[:, [0, 1, 3, 4, 6]] # Removing bmi and region\n",
        "regressor_OLS = sm.OLS(endog = y, exog = X_opt).fit() # Now we set up our regressor function with OLS again as before.\n",
        "print(regressor_OLS.summary())"
      ],
      "execution_count": null,
      "outputs": [
        {
          "output_type": "stream",
          "name": "stdout",
          "text": [
            "                            OLS Regression Results                            \n",
            "==============================================================================\n",
            "Dep. Variable:                      y   R-squared:                       0.121\n",
            "Model:                            OLS   Adj. R-squared:                  0.119\n",
            "Method:                 Least Squares   F-statistic:                     46.00\n",
            "Date:                Wed, 29 May 2024   Prob (F-statistic):           3.07e-36\n",
            "Time:                        16:17:55   Log-Likelihood:                -14391.\n",
            "No. Observations:                1338   AIC:                         2.879e+04\n",
            "Df Residuals:                    1333   BIC:                         2.882e+04\n",
            "Df Model:                           4                                         \n",
            "Covariance Type:            nonrobust                                         \n",
            "==============================================================================\n",
            "                 coef    std err          t      P>|t|      [0.025      0.975]\n",
            "------------------------------------------------------------------------------\n",
            "const      -6661.4688   1767.161     -3.770      0.000   -1.01e+04   -3194.749\n",
            "x1           239.5156     22.285     10.748      0.000     195.798     283.233\n",
            "x2           343.1195     51.949      6.605      0.000     241.209     445.030\n",
            "x3           548.2032    258.194      2.123      0.034      41.692    1054.714\n",
            "x4          -382.8295    285.035     -1.343      0.179    -941.995     176.336\n",
            "==============================================================================\n",
            "Omnibus:                      326.596   Durbin-Watson:                   2.015\n",
            "Prob(Omnibus):                  0.000   Jarque-Bera (JB):              607.061\n",
            "Skew:                           1.524   Prob(JB):                    1.51e-132\n",
            "Kurtosis:                       4.265   Cond. No.                         292.\n",
            "==============================================================================\n",
            "\n",
            "Notes:\n",
            "[1] Standard Errors assume that the covariance matrix of the errors is correctly specified.\n"
          ]
        }
      ]
    },
    {
      "cell_type": "markdown",
      "metadata": {
        "id": "rBbDBO39595l"
      },
      "source": [
        "Well, looks like we definitely want to keep region! What about smoker?"
      ]
    },
    {
      "cell_type": "code",
      "metadata": {
        "id": "k1offbs66OaG",
        "colab": {
          "base_uri": "https://localhost:8080/"
        },
        "outputId": "f1a77bc6-a386-4214-e627-e7a617ab00f2"
      },
      "source": [
        "X_opt = X[:, [0, 1, 3, 5, 6]] # Removing bmi and smoker\n",
        "regressor_OLS = sm.OLS(endog = y, exog = X_opt).fit() # Now we set up our regressor function with OLS again as before.\n",
        "print(regressor_OLS.summary())"
      ],
      "execution_count": null,
      "outputs": [
        {
          "output_type": "stream",
          "name": "stdout",
          "text": [
            "                            OLS Regression Results                            \n",
            "==============================================================================\n",
            "Dep. Variable:                      y   R-squared:                       0.748\n",
            "Model:                            OLS   Adj. R-squared:                  0.748\n",
            "Method:                 Least Squares   F-statistic:                     991.5\n",
            "Date:                Wed, 29 May 2024   Prob (F-statistic):               0.00\n",
            "Time:                        16:18:03   Log-Likelihood:                -13554.\n",
            "No. Observations:                1338   AIC:                         2.712e+04\n",
            "Df Residuals:                    1333   BIC:                         2.714e+04\n",
            "Df Model:                           4                                         \n",
            "Covariance Type:            nonrobust                                         \n",
            "==============================================================================\n",
            "                 coef    std err          t      P>|t|      [0.025      0.975]\n",
            "------------------------------------------------------------------------------\n",
            "const      -1.144e+04    941.848    -12.148      0.000   -1.33e+04   -9594.347\n",
            "x1           259.1306     11.917     21.744      0.000     235.752     282.509\n",
            "x2           332.5786     27.795     11.965      0.000     278.051     387.106\n",
            "x3          2.382e+04    412.232     57.785      0.000     2.3e+04    2.46e+04\n",
            "x4          -345.3032    152.490     -2.264      0.024    -644.450     -46.156\n",
            "==============================================================================\n",
            "Omnibus:                      296.928   Durbin-Watson:                   2.077\n",
            "Prob(Omnibus):                  0.000   Jarque-Bera (JB):              700.740\n",
            "Skew:                           1.204   Prob(JB):                    6.86e-153\n",
            "Kurtosis:                       5.602   Cond. No.                         291.\n",
            "==============================================================================\n",
            "\n",
            "Notes:\n",
            "[1] Standard Errors assume that the covariance matrix of the errors is correctly specified.\n"
          ]
        }
      ]
    },
    {
      "cell_type": "markdown",
      "metadata": {
        "id": "UZEpARD-6coY"
      },
      "source": [
        "Wow. We just saved ourselves processing 2,600 values and lost less than 1 percent in our r-squared value. That seems like a pretty good deal!"
      ]
    },
    {
      "cell_type": "markdown",
      "metadata": {
        "id": "i1snN5oGnk9A"
      },
      "source": [
        "##**WAIT! What was the Goal again?**\n",
        "\n",
        "We started this entire regression journey because we wanted to find a function that would allow us to **PREDICT** future values of the charges attribute. This means that we would want to combine all our X inputs (as we did above) in order to find y values based on the regression formula. This also means that we need more independent attributes with no values in the associated y attribute, so that we can actually **CALCULATE** y.\n",
        "\n",
        "But our dataset is clean, with 1338 values in each column.\n",
        "\n",
        "So ... we need to either invent more independent attribute values, OR we need to delete some of those y attribute data, so that we can actually calculate them.\n",
        "\n",
        "Inventing data is a big no-no when you're dealing with actual data (although data scientists will often create artificial datasets to prove a theory). This means that the only other thing left to us is to delete data from the y column.\n",
        "\n",
        "But how? And how much?\n",
        "\n"
      ]
    },
    {
      "cell_type": "markdown",
      "metadata": {
        "id": "aOW4wCWorK78"
      },
      "source": [
        "##**2.4 Training and Test Datasets**\n",
        "What we really need at this point is two different datasets. We need one dataset to build, or **TRAIN**, our regression function. Then, we can use a second dataset on which to **TEST** whether our function actually works. However, since we have only one dataset, we will have to\n",
        "* Split the dataset into a larger training dataset and a smaller testing dataset\n",
        "* Build our function on the basis of the training dataset\n",
        "* Remove the y values in the test dataset\n",
        "* Apply our function to the test dataset\n",
        "* Compare the computed values for the test dataset (the Y hat values!) with the actual values in y that we did, of course, not throw away entirely.\n",
        "\n",
        "In fact, that's what we will do with all data from hereon out."
      ]
    },
    {
      "cell_type": "markdown",
      "metadata": {
        "id": "BhGSu-yGspVb"
      },
      "source": [
        "###**2.4.1 Building the Training and Test Set**\n",
        "We will use the generic train_test_split function from scikit-learn for this. We will build a separate X_train and X_test frame and a y_train and a y_test frame."
      ]
    },
    {
      "cell_type": "code",
      "metadata": {
        "id": "r5ghof9Cszhb",
        "colab": {
          "base_uri": "https://localhost:8080/"
        },
        "outputId": "d06f37ae-e000-4c84-a066-230e9a015539"
      },
      "source": [
        "from sklearn.model_selection import train_test_split\n",
        "\n",
        "X_train, X_test, y_train, y_test = train_test_split(X_opt, y, test_size = 0.2, random_state = 0) # Size of test data is 20%, size of training data is 80%\n",
        "\n",
        "print('X Train', X_train.shape)\n",
        "print('X Test', X_test.shape)"
      ],
      "execution_count": null,
      "outputs": [
        {
          "output_type": "stream",
          "name": "stdout",
          "text": [
            "X Train (1070, 5)\n",
            "X Test (268, 5)\n"
          ]
        }
      ]
    },
    {
      "cell_type": "markdown",
      "metadata": {
        "id": "FmX2RqjG7KXe"
      },
      "source": [
        "###**2.4.2 Finding the Regression Formula**\n",
        "Now we can find the regression formula in the training set!"
      ]
    },
    {
      "cell_type": "code",
      "metadata": {
        "id": "M2bK_KqTn1OB",
        "colab": {
          "base_uri": "https://localhost:8080/"
        },
        "outputId": "9b74d189-1ee5-46cf-fac5-1cea3a8e9478"
      },
      "source": [
        "from sklearn.linear_model import LinearRegression\n",
        "regressor = LinearRegression()\n",
        "regressor.fit(X_train, y_train)\n",
        "\n",
        "print('Model accuracy score:', round(regressor.score(X_train,y_train)*100,2))"
      ],
      "execution_count": null,
      "outputs": [
        {
          "output_type": "stream",
          "name": "stdout",
          "text": [
            "Model accuracy score: 73.48\n"
          ]
        }
      ]
    },
    {
      "cell_type": "markdown",
      "metadata": {
        "id": "-MZyZ2149Lgn"
      },
      "source": [
        "The model accuracy score is basically the r-squared value expressed as percentage and rounded to two decimals. Good."
      ]
    },
    {
      "cell_type": "markdown",
      "metadata": {
        "id": "8Lktme0f9pw9"
      },
      "source": [
        "###**2.4.3 Applying the Regression Formula to the Test Set**\n",
        "Now we can plug our X_test set values into the formula and calculate the y_test values to predict. In order not to confuse the actual y_test values with the values we are going to calculate, we will call our predicted values y_pred."
      ]
    },
    {
      "cell_type": "code",
      "metadata": {
        "id": "yyrgSN1Y9fTd",
        "colab": {
          "base_uri": "https://localhost:8080/"
        },
        "outputId": "3b13f792-8acd-4db1-c4cd-65b0321d02ea"
      },
      "source": [
        "y_pred = regressor.predict(X_test)\n",
        "print(y_pred[0:10])"
      ],
      "execution_count": null,
      "outputs": [
        {
          "output_type": "stream",
          "name": "stdout",
          "text": [
            "[11120.40787644  9830.57702054 37641.23907107 16645.5937302\n",
            "  7396.20737603  4398.47127815  1923.90465065 13427.18898623\n",
            "  8065.19024546  6552.89896696]\n"
          ]
        }
      ]
    },
    {
      "cell_type": "markdown",
      "metadata": {
        "id": "-F0B6G_7_aGc"
      },
      "source": [
        "###**2.4.4 Comparing predictions and actual values in the test set**\n",
        "What good are the predictions if you can't tell how close to reality they are? That's where our y_test comes in. Now we can compare our y_pred and y_test, and we will see how good our prediction is."
      ]
    },
    {
      "cell_type": "code",
      "metadata": {
        "id": "a2-bykaQFsGk",
        "colab": {
          "base_uri": "https://localhost:8080/",
          "height": 850
        },
        "outputId": "c77c0dcc-d081-4237-9f06-32f89cb37449"
      },
      "source": [
        "charges_pred = pd.DataFrame({'Prediction (y_pred)':y_pred,'Actual Values (y_test)':y_test}).round(2)\n",
        "print(charges_pred.shape)\n",
        "charges_pred.head(25)"
      ],
      "execution_count": null,
      "outputs": [
        {
          "output_type": "stream",
          "name": "stdout",
          "text": [
            "(268, 2)\n"
          ]
        },
        {
          "output_type": "execute_result",
          "data": {
            "text/plain": [
              "    Prediction (y_pred)  Actual Values (y_test)\n",
              "0              11120.41                 9724.53\n",
              "1               9830.58                 8547.69\n",
              "2              37641.24                45702.02\n",
              "3              16645.59                12950.07\n",
              "4               7396.21                 9644.25\n",
              "5               4398.47                 4500.34\n",
              "6               1923.90                 2198.19\n",
              "7              13427.19                11436.74\n",
              "8               8065.19                 7537.16\n",
              "9               6552.90                 5425.02\n",
              "10              3617.26                 6753.04\n",
              "11              9827.37                10493.95\n",
              "12              8715.76                 7337.75\n",
              "13              4579.12                 4185.10\n",
              "14             28292.08                18310.74\n",
              "15             10201.22                10702.64\n",
              "16             11764.58                12523.60\n",
              "17              6004.81                 3490.55\n",
              "18              7752.70                 6457.84\n",
              "19             27481.54                33475.82\n",
              "20             33222.63                23967.38\n",
              "21             13864.57                12643.38\n",
              "22             12135.26                23045.57\n",
              "23             32931.79                23065.42\n",
              "24              4872.42                 1674.63"
            ],
            "text/html": [
              "\n",
              "  <div id=\"df-edb6a486-3365-476f-8285-cef1b8c92626\" class=\"colab-df-container\">\n",
              "    <div>\n",
              "<style scoped>\n",
              "    .dataframe tbody tr th:only-of-type {\n",
              "        vertical-align: middle;\n",
              "    }\n",
              "\n",
              "    .dataframe tbody tr th {\n",
              "        vertical-align: top;\n",
              "    }\n",
              "\n",
              "    .dataframe thead th {\n",
              "        text-align: right;\n",
              "    }\n",
              "</style>\n",
              "<table border=\"1\" class=\"dataframe\">\n",
              "  <thead>\n",
              "    <tr style=\"text-align: right;\">\n",
              "      <th></th>\n",
              "      <th>Prediction (y_pred)</th>\n",
              "      <th>Actual Values (y_test)</th>\n",
              "    </tr>\n",
              "  </thead>\n",
              "  <tbody>\n",
              "    <tr>\n",
              "      <th>0</th>\n",
              "      <td>11120.41</td>\n",
              "      <td>9724.53</td>\n",
              "    </tr>\n",
              "    <tr>\n",
              "      <th>1</th>\n",
              "      <td>9830.58</td>\n",
              "      <td>8547.69</td>\n",
              "    </tr>\n",
              "    <tr>\n",
              "      <th>2</th>\n",
              "      <td>37641.24</td>\n",
              "      <td>45702.02</td>\n",
              "    </tr>\n",
              "    <tr>\n",
              "      <th>3</th>\n",
              "      <td>16645.59</td>\n",
              "      <td>12950.07</td>\n",
              "    </tr>\n",
              "    <tr>\n",
              "      <th>4</th>\n",
              "      <td>7396.21</td>\n",
              "      <td>9644.25</td>\n",
              "    </tr>\n",
              "    <tr>\n",
              "      <th>5</th>\n",
              "      <td>4398.47</td>\n",
              "      <td>4500.34</td>\n",
              "    </tr>\n",
              "    <tr>\n",
              "      <th>6</th>\n",
              "      <td>1923.90</td>\n",
              "      <td>2198.19</td>\n",
              "    </tr>\n",
              "    <tr>\n",
              "      <th>7</th>\n",
              "      <td>13427.19</td>\n",
              "      <td>11436.74</td>\n",
              "    </tr>\n",
              "    <tr>\n",
              "      <th>8</th>\n",
              "      <td>8065.19</td>\n",
              "      <td>7537.16</td>\n",
              "    </tr>\n",
              "    <tr>\n",
              "      <th>9</th>\n",
              "      <td>6552.90</td>\n",
              "      <td>5425.02</td>\n",
              "    </tr>\n",
              "    <tr>\n",
              "      <th>10</th>\n",
              "      <td>3617.26</td>\n",
              "      <td>6753.04</td>\n",
              "    </tr>\n",
              "    <tr>\n",
              "      <th>11</th>\n",
              "      <td>9827.37</td>\n",
              "      <td>10493.95</td>\n",
              "    </tr>\n",
              "    <tr>\n",
              "      <th>12</th>\n",
              "      <td>8715.76</td>\n",
              "      <td>7337.75</td>\n",
              "    </tr>\n",
              "    <tr>\n",
              "      <th>13</th>\n",
              "      <td>4579.12</td>\n",
              "      <td>4185.10</td>\n",
              "    </tr>\n",
              "    <tr>\n",
              "      <th>14</th>\n",
              "      <td>28292.08</td>\n",
              "      <td>18310.74</td>\n",
              "    </tr>\n",
              "    <tr>\n",
              "      <th>15</th>\n",
              "      <td>10201.22</td>\n",
              "      <td>10702.64</td>\n",
              "    </tr>\n",
              "    <tr>\n",
              "      <th>16</th>\n",
              "      <td>11764.58</td>\n",
              "      <td>12523.60</td>\n",
              "    </tr>\n",
              "    <tr>\n",
              "      <th>17</th>\n",
              "      <td>6004.81</td>\n",
              "      <td>3490.55</td>\n",
              "    </tr>\n",
              "    <tr>\n",
              "      <th>18</th>\n",
              "      <td>7752.70</td>\n",
              "      <td>6457.84</td>\n",
              "    </tr>\n",
              "    <tr>\n",
              "      <th>19</th>\n",
              "      <td>27481.54</td>\n",
              "      <td>33475.82</td>\n",
              "    </tr>\n",
              "    <tr>\n",
              "      <th>20</th>\n",
              "      <td>33222.63</td>\n",
              "      <td>23967.38</td>\n",
              "    </tr>\n",
              "    <tr>\n",
              "      <th>21</th>\n",
              "      <td>13864.57</td>\n",
              "      <td>12643.38</td>\n",
              "    </tr>\n",
              "    <tr>\n",
              "      <th>22</th>\n",
              "      <td>12135.26</td>\n",
              "      <td>23045.57</td>\n",
              "    </tr>\n",
              "    <tr>\n",
              "      <th>23</th>\n",
              "      <td>32931.79</td>\n",
              "      <td>23065.42</td>\n",
              "    </tr>\n",
              "    <tr>\n",
              "      <th>24</th>\n",
              "      <td>4872.42</td>\n",
              "      <td>1674.63</td>\n",
              "    </tr>\n",
              "  </tbody>\n",
              "</table>\n",
              "</div>\n",
              "    <div class=\"colab-df-buttons\">\n",
              "\n",
              "  <div class=\"colab-df-container\">\n",
              "    <button class=\"colab-df-convert\" onclick=\"convertToInteractive('df-edb6a486-3365-476f-8285-cef1b8c92626')\"\n",
              "            title=\"Convert this dataframe to an interactive table.\"\n",
              "            style=\"display:none;\">\n",
              "\n",
              "  <svg xmlns=\"http://www.w3.org/2000/svg\" height=\"24px\" viewBox=\"0 -960 960 960\">\n",
              "    <path d=\"M120-120v-720h720v720H120Zm60-500h600v-160H180v160Zm220 220h160v-160H400v160Zm0 220h160v-160H400v160ZM180-400h160v-160H180v160Zm440 0h160v-160H620v160ZM180-180h160v-160H180v160Zm440 0h160v-160H620v160Z\"/>\n",
              "  </svg>\n",
              "    </button>\n",
              "\n",
              "  <style>\n",
              "    .colab-df-container {\n",
              "      display:flex;\n",
              "      gap: 12px;\n",
              "    }\n",
              "\n",
              "    .colab-df-convert {\n",
              "      background-color: #E8F0FE;\n",
              "      border: none;\n",
              "      border-radius: 50%;\n",
              "      cursor: pointer;\n",
              "      display: none;\n",
              "      fill: #1967D2;\n",
              "      height: 32px;\n",
              "      padding: 0 0 0 0;\n",
              "      width: 32px;\n",
              "    }\n",
              "\n",
              "    .colab-df-convert:hover {\n",
              "      background-color: #E2EBFA;\n",
              "      box-shadow: 0px 1px 2px rgba(60, 64, 67, 0.3), 0px 1px 3px 1px rgba(60, 64, 67, 0.15);\n",
              "      fill: #174EA6;\n",
              "    }\n",
              "\n",
              "    .colab-df-buttons div {\n",
              "      margin-bottom: 4px;\n",
              "    }\n",
              "\n",
              "    [theme=dark] .colab-df-convert {\n",
              "      background-color: #3B4455;\n",
              "      fill: #D2E3FC;\n",
              "    }\n",
              "\n",
              "    [theme=dark] .colab-df-convert:hover {\n",
              "      background-color: #434B5C;\n",
              "      box-shadow: 0px 1px 3px 1px rgba(0, 0, 0, 0.15);\n",
              "      filter: drop-shadow(0px 1px 2px rgba(0, 0, 0, 0.3));\n",
              "      fill: #FFFFFF;\n",
              "    }\n",
              "  </style>\n",
              "\n",
              "    <script>\n",
              "      const buttonEl =\n",
              "        document.querySelector('#df-edb6a486-3365-476f-8285-cef1b8c92626 button.colab-df-convert');\n",
              "      buttonEl.style.display =\n",
              "        google.colab.kernel.accessAllowed ? 'block' : 'none';\n",
              "\n",
              "      async function convertToInteractive(key) {\n",
              "        const element = document.querySelector('#df-edb6a486-3365-476f-8285-cef1b8c92626');\n",
              "        const dataTable =\n",
              "          await google.colab.kernel.invokeFunction('convertToInteractive',\n",
              "                                                    [key], {});\n",
              "        if (!dataTable) return;\n",
              "\n",
              "        const docLinkHtml = 'Like what you see? Visit the ' +\n",
              "          '<a target=\"_blank\" href=https://colab.research.google.com/notebooks/data_table.ipynb>data table notebook</a>'\n",
              "          + ' to learn more about interactive tables.';\n",
              "        element.innerHTML = '';\n",
              "        dataTable['output_type'] = 'display_data';\n",
              "        await google.colab.output.renderOutput(dataTable, element);\n",
              "        const docLink = document.createElement('div');\n",
              "        docLink.innerHTML = docLinkHtml;\n",
              "        element.appendChild(docLink);\n",
              "      }\n",
              "    </script>\n",
              "  </div>\n",
              "\n",
              "\n",
              "<div id=\"df-f67784ee-f393-4c85-b0da-6bc406805db6\">\n",
              "  <button class=\"colab-df-quickchart\" onclick=\"quickchart('df-f67784ee-f393-4c85-b0da-6bc406805db6')\"\n",
              "            title=\"Suggest charts\"\n",
              "            style=\"display:none;\">\n",
              "\n",
              "<svg xmlns=\"http://www.w3.org/2000/svg\" height=\"24px\"viewBox=\"0 0 24 24\"\n",
              "     width=\"24px\">\n",
              "    <g>\n",
              "        <path d=\"M19 3H5c-1.1 0-2 .9-2 2v14c0 1.1.9 2 2 2h14c1.1 0 2-.9 2-2V5c0-1.1-.9-2-2-2zM9 17H7v-7h2v7zm4 0h-2V7h2v10zm4 0h-2v-4h2v4z\"/>\n",
              "    </g>\n",
              "</svg>\n",
              "  </button>\n",
              "\n",
              "<style>\n",
              "  .colab-df-quickchart {\n",
              "      --bg-color: #E8F0FE;\n",
              "      --fill-color: #1967D2;\n",
              "      --hover-bg-color: #E2EBFA;\n",
              "      --hover-fill-color: #174EA6;\n",
              "      --disabled-fill-color: #AAA;\n",
              "      --disabled-bg-color: #DDD;\n",
              "  }\n",
              "\n",
              "  [theme=dark] .colab-df-quickchart {\n",
              "      --bg-color: #3B4455;\n",
              "      --fill-color: #D2E3FC;\n",
              "      --hover-bg-color: #434B5C;\n",
              "      --hover-fill-color: #FFFFFF;\n",
              "      --disabled-bg-color: #3B4455;\n",
              "      --disabled-fill-color: #666;\n",
              "  }\n",
              "\n",
              "  .colab-df-quickchart {\n",
              "    background-color: var(--bg-color);\n",
              "    border: none;\n",
              "    border-radius: 50%;\n",
              "    cursor: pointer;\n",
              "    display: none;\n",
              "    fill: var(--fill-color);\n",
              "    height: 32px;\n",
              "    padding: 0;\n",
              "    width: 32px;\n",
              "  }\n",
              "\n",
              "  .colab-df-quickchart:hover {\n",
              "    background-color: var(--hover-bg-color);\n",
              "    box-shadow: 0 1px 2px rgba(60, 64, 67, 0.3), 0 1px 3px 1px rgba(60, 64, 67, 0.15);\n",
              "    fill: var(--button-hover-fill-color);\n",
              "  }\n",
              "\n",
              "  .colab-df-quickchart-complete:disabled,\n",
              "  .colab-df-quickchart-complete:disabled:hover {\n",
              "    background-color: var(--disabled-bg-color);\n",
              "    fill: var(--disabled-fill-color);\n",
              "    box-shadow: none;\n",
              "  }\n",
              "\n",
              "  .colab-df-spinner {\n",
              "    border: 2px solid var(--fill-color);\n",
              "    border-color: transparent;\n",
              "    border-bottom-color: var(--fill-color);\n",
              "    animation:\n",
              "      spin 1s steps(1) infinite;\n",
              "  }\n",
              "\n",
              "  @keyframes spin {\n",
              "    0% {\n",
              "      border-color: transparent;\n",
              "      border-bottom-color: var(--fill-color);\n",
              "      border-left-color: var(--fill-color);\n",
              "    }\n",
              "    20% {\n",
              "      border-color: transparent;\n",
              "      border-left-color: var(--fill-color);\n",
              "      border-top-color: var(--fill-color);\n",
              "    }\n",
              "    30% {\n",
              "      border-color: transparent;\n",
              "      border-left-color: var(--fill-color);\n",
              "      border-top-color: var(--fill-color);\n",
              "      border-right-color: var(--fill-color);\n",
              "    }\n",
              "    40% {\n",
              "      border-color: transparent;\n",
              "      border-right-color: var(--fill-color);\n",
              "      border-top-color: var(--fill-color);\n",
              "    }\n",
              "    60% {\n",
              "      border-color: transparent;\n",
              "      border-right-color: var(--fill-color);\n",
              "    }\n",
              "    80% {\n",
              "      border-color: transparent;\n",
              "      border-right-color: var(--fill-color);\n",
              "      border-bottom-color: var(--fill-color);\n",
              "    }\n",
              "    90% {\n",
              "      border-color: transparent;\n",
              "      border-bottom-color: var(--fill-color);\n",
              "    }\n",
              "  }\n",
              "</style>\n",
              "\n",
              "  <script>\n",
              "    async function quickchart(key) {\n",
              "      const quickchartButtonEl =\n",
              "        document.querySelector('#' + key + ' button');\n",
              "      quickchartButtonEl.disabled = true;  // To prevent multiple clicks.\n",
              "      quickchartButtonEl.classList.add('colab-df-spinner');\n",
              "      try {\n",
              "        const charts = await google.colab.kernel.invokeFunction(\n",
              "            'suggestCharts', [key], {});\n",
              "      } catch (error) {\n",
              "        console.error('Error during call to suggestCharts:', error);\n",
              "      }\n",
              "      quickchartButtonEl.classList.remove('colab-df-spinner');\n",
              "      quickchartButtonEl.classList.add('colab-df-quickchart-complete');\n",
              "    }\n",
              "    (() => {\n",
              "      let quickchartButtonEl =\n",
              "        document.querySelector('#df-f67784ee-f393-4c85-b0da-6bc406805db6 button');\n",
              "      quickchartButtonEl.style.display =\n",
              "        google.colab.kernel.accessAllowed ? 'block' : 'none';\n",
              "    })();\n",
              "  </script>\n",
              "</div>\n",
              "    </div>\n",
              "  </div>\n"
            ],
            "application/vnd.google.colaboratory.intrinsic+json": {
              "type": "dataframe",
              "variable_name": "charges_pred",
              "summary": "{\n  \"name\": \"charges_pred\",\n  \"rows\": 268,\n  \"fields\": [\n    {\n      \"column\": \"Prediction (y_pred)\",\n      \"properties\": {\n        \"dtype\": \"number\",\n        \"std\": 10826.845954557208,\n        \"min\": 224.17,\n        \"max\": 40384.5,\n        \"num_unique_values\": 267,\n        \"samples\": [\n          28768.75,\n          10092.68,\n          4742.21\n        ],\n        \"semantic_type\": \"\",\n        \"description\": \"\"\n      }\n    },\n    {\n      \"column\": \"Actual Values (y_test)\",\n      \"properties\": {\n        \"dtype\": \"number\",\n        \"std\": 12638.273269182586,\n        \"min\": 1131.51,\n        \"max\": 52590.83,\n        \"num_unique_values\": 268,\n        \"samples\": [\n          7729.65,\n          10795.94,\n          23045.57\n        ],\n        \"semantic_type\": \"\",\n        \"description\": \"\"\n      }\n    }\n  ]\n}"
            }
          },
          "metadata": {},
          "execution_count": 27
        }
      ]
    },
    {
      "cell_type": "markdown",
      "metadata": {
        "id": "GyIJg-MtACBm"
      },
      "source": [
        "We can see that the y_pred data are a bit more extreme on each end than the y_test data. That's why accuracy is at around 73%--not great, but certainly better than 8.9% or 12%.\n",
        "\n",
        "<img src=\"https://miro.medium.com/v2/resize:fit:720/format:webp/1*Do0lysWTXigG3F79FRRtKQ.png\">"
      ]
    },
    {
      "cell_type": "markdown",
      "metadata": {
        "id": "oSjghpUTTwM1"
      },
      "source": [
        "# **3. Classification with Logistic Regression**\n",
        "You just learned how to use Simple Regression and a training/ test set split to calculate and predict **numeric output**. That's because Regression is a mathematical tool.\n",
        "\n",
        "But what if we are interested in **categorical output**? What if we want to use a student's grades to predict whether they will pass or fail a class at the end of the semester? Or use a soccer team's past number of goals in a tournament to determine if it will win or lose the World Cup? Or see if  body weight, calorie intake, fat intake, and age have an influence on the probability of having a heart attack (yes vs. no)?\n",
        "\n",
        "We will use the first insurance dataset again, but with an additional insuranceclaim dimension that contains 1 (claim valid) or 0 (claim invalid). We are setting the dataframe up from scratch again first, though."
      ]
    },
    {
      "cell_type": "markdown",
      "metadata": {
        "id": "2ZbUDYSqcnrF"
      },
      "source": [
        "##**3.1 What is Logistic Regression?**\n",
        "We have already seen the questions Logistic Regression tries to answer. Basically, there are THREE RULES for Logistic Regression:\n",
        "1. The dependent variable should be dichotomous (e.g., yes/ no, present/ absent, pass/ fail, and so on).\n",
        "2. There should be no outliers in the data.\n",
        "3. There should be no high correlations (multicollinearity) among the predictors (i.e. we'll have to set up a correlation matrix among the predictors and look for small Pearson Correlation Coefficients (r, with which we have already worked multiple times).\n",
        "\n",
        "###**How does Logistic Regression Work?**\n",
        "Logistic Regression isn't all that different from Multiple Linear Regression. But where the output of Multiple Linear Regression is continuous, the output of Logistic Regression is binary or \"dichotomous.\" In other words, we don't want a number at the end; we want one of two values. That requires some additional math--namely [a logistic function](https://careerfoundry.com/en/blog/data-analytics/what-is-logistic-regression/), which is based on calculating the odds of an outcome. For example, let's say that, since in the past your soccer team has won 20 out of 21 games in the World Cup tournament, the odds of them winning finals are 20 to 21, or, when expressed as an odds ratio, they are 20/21. To standardize these odds ratios to a 1 or 0 outcome, we need the *logit function*, which is there Logistic Regression gets its name. This function applies a log odds logarithm to the outcome of a multiple regression.\n",
        "\n",
        "To learn more about the math behind Logistic Regression, watch this great 9-minute video:\n"
      ]
    },
    {
      "cell_type": "code",
      "metadata": {
        "colab": {
          "base_uri": "https://localhost:8080/",
          "height": 336
        },
        "id": "65_kl-FahUJY",
        "outputId": "6446bd9e-2c54-44b9-d2ab-163577a4bd6f"
      },
      "source": [
        "IFrame(src=\"https://www.youtube.com/embed/yIYKR4sgzI8\", width=560, height=315)"
      ],
      "execution_count": null,
      "outputs": [
        {
          "output_type": "execute_result",
          "data": {
            "text/plain": [
              "<IPython.lib.display.IFrame at 0x7889a69123b0>"
            ],
            "text/html": [
              "\n",
              "        <iframe\n",
              "            width=\"560\"\n",
              "            height=\"315\"\n",
              "            src=\"https://www.youtube.com/embed/yIYKR4sgzI8\"\n",
              "            frameborder=\"0\"\n",
              "            allowfullscreen\n",
              "            \n",
              "        ></iframe>\n",
              "        "
            ]
          },
          "metadata": {},
          "execution_count": 189
        }
      ]
    },
    {
      "cell_type": "markdown",
      "metadata": {
        "id": "_CD3LbCqhtnt"
      },
      "source": [
        "##**3.2 Working with Logistic Regression**\n",
        "Here is how Logistic Regression works for our example:\n",
        "\n",
        "Remember how, when working with the insurance2 dataset, we deleted that insuranceclaim column? Well, we are going to use it now. For that purpose, we are reading the dataset in again and name it insurance3."
      ]
    },
    {
      "cell_type": "code",
      "metadata": {
        "id": "ccjvFo9ugIgy",
        "colab": {
          "base_uri": "https://localhost:8080/",
          "height": 206
        },
        "outputId": "76b6b2c6-b438-4871-b176-1f30cc2dbb1e"
      },
      "source": [
        "insurance3 = pd.read_csv(\"https://raw.githubusercontent.com/shstreuber/Data-Mining/master/data/insurance.csv\")\n",
        "insurance3.head()"
      ],
      "execution_count": null,
      "outputs": [
        {
          "output_type": "execute_result",
          "data": {
            "text/plain": [
              "   age  sex     bmi  children  smoker  region      charges  insuranceclaim\n",
              "0   19    0  27.900         0       1       3  16884.92400               1\n",
              "1   18    1  33.770         1       0       2   1725.55230               1\n",
              "2   28    1  33.000         3       0       2   4449.46200               0\n",
              "3   33    1  22.705         0       0       1  21984.47061               0\n",
              "4   32    1  28.880         0       0       1   3866.85520               1"
            ],
            "text/html": [
              "\n",
              "  <div id=\"df-e1d7c10c-c364-474e-9b34-76c92a421ac7\" class=\"colab-df-container\">\n",
              "    <div>\n",
              "<style scoped>\n",
              "    .dataframe tbody tr th:only-of-type {\n",
              "        vertical-align: middle;\n",
              "    }\n",
              "\n",
              "    .dataframe tbody tr th {\n",
              "        vertical-align: top;\n",
              "    }\n",
              "\n",
              "    .dataframe thead th {\n",
              "        text-align: right;\n",
              "    }\n",
              "</style>\n",
              "<table border=\"1\" class=\"dataframe\">\n",
              "  <thead>\n",
              "    <tr style=\"text-align: right;\">\n",
              "      <th></th>\n",
              "      <th>age</th>\n",
              "      <th>sex</th>\n",
              "      <th>bmi</th>\n",
              "      <th>children</th>\n",
              "      <th>smoker</th>\n",
              "      <th>region</th>\n",
              "      <th>charges</th>\n",
              "      <th>insuranceclaim</th>\n",
              "    </tr>\n",
              "  </thead>\n",
              "  <tbody>\n",
              "    <tr>\n",
              "      <th>0</th>\n",
              "      <td>19</td>\n",
              "      <td>0</td>\n",
              "      <td>27.900</td>\n",
              "      <td>0</td>\n",
              "      <td>1</td>\n",
              "      <td>3</td>\n",
              "      <td>16884.92400</td>\n",
              "      <td>1</td>\n",
              "    </tr>\n",
              "    <tr>\n",
              "      <th>1</th>\n",
              "      <td>18</td>\n",
              "      <td>1</td>\n",
              "      <td>33.770</td>\n",
              "      <td>1</td>\n",
              "      <td>0</td>\n",
              "      <td>2</td>\n",
              "      <td>1725.55230</td>\n",
              "      <td>1</td>\n",
              "    </tr>\n",
              "    <tr>\n",
              "      <th>2</th>\n",
              "      <td>28</td>\n",
              "      <td>1</td>\n",
              "      <td>33.000</td>\n",
              "      <td>3</td>\n",
              "      <td>0</td>\n",
              "      <td>2</td>\n",
              "      <td>4449.46200</td>\n",
              "      <td>0</td>\n",
              "    </tr>\n",
              "    <tr>\n",
              "      <th>3</th>\n",
              "      <td>33</td>\n",
              "      <td>1</td>\n",
              "      <td>22.705</td>\n",
              "      <td>0</td>\n",
              "      <td>0</td>\n",
              "      <td>1</td>\n",
              "      <td>21984.47061</td>\n",
              "      <td>0</td>\n",
              "    </tr>\n",
              "    <tr>\n",
              "      <th>4</th>\n",
              "      <td>32</td>\n",
              "      <td>1</td>\n",
              "      <td>28.880</td>\n",
              "      <td>0</td>\n",
              "      <td>0</td>\n",
              "      <td>1</td>\n",
              "      <td>3866.85520</td>\n",
              "      <td>1</td>\n",
              "    </tr>\n",
              "  </tbody>\n",
              "</table>\n",
              "</div>\n",
              "    <div class=\"colab-df-buttons\">\n",
              "\n",
              "  <div class=\"colab-df-container\">\n",
              "    <button class=\"colab-df-convert\" onclick=\"convertToInteractive('df-e1d7c10c-c364-474e-9b34-76c92a421ac7')\"\n",
              "            title=\"Convert this dataframe to an interactive table.\"\n",
              "            style=\"display:none;\">\n",
              "\n",
              "  <svg xmlns=\"http://www.w3.org/2000/svg\" height=\"24px\" viewBox=\"0 -960 960 960\">\n",
              "    <path d=\"M120-120v-720h720v720H120Zm60-500h600v-160H180v160Zm220 220h160v-160H400v160Zm0 220h160v-160H400v160ZM180-400h160v-160H180v160Zm440 0h160v-160H620v160ZM180-180h160v-160H180v160Zm440 0h160v-160H620v160Z\"/>\n",
              "  </svg>\n",
              "    </button>\n",
              "\n",
              "  <style>\n",
              "    .colab-df-container {\n",
              "      display:flex;\n",
              "      gap: 12px;\n",
              "    }\n",
              "\n",
              "    .colab-df-convert {\n",
              "      background-color: #E8F0FE;\n",
              "      border: none;\n",
              "      border-radius: 50%;\n",
              "      cursor: pointer;\n",
              "      display: none;\n",
              "      fill: #1967D2;\n",
              "      height: 32px;\n",
              "      padding: 0 0 0 0;\n",
              "      width: 32px;\n",
              "    }\n",
              "\n",
              "    .colab-df-convert:hover {\n",
              "      background-color: #E2EBFA;\n",
              "      box-shadow: 0px 1px 2px rgba(60, 64, 67, 0.3), 0px 1px 3px 1px rgba(60, 64, 67, 0.15);\n",
              "      fill: #174EA6;\n",
              "    }\n",
              "\n",
              "    .colab-df-buttons div {\n",
              "      margin-bottom: 4px;\n",
              "    }\n",
              "\n",
              "    [theme=dark] .colab-df-convert {\n",
              "      background-color: #3B4455;\n",
              "      fill: #D2E3FC;\n",
              "    }\n",
              "\n",
              "    [theme=dark] .colab-df-convert:hover {\n",
              "      background-color: #434B5C;\n",
              "      box-shadow: 0px 1px 3px 1px rgba(0, 0, 0, 0.15);\n",
              "      filter: drop-shadow(0px 1px 2px rgba(0, 0, 0, 0.3));\n",
              "      fill: #FFFFFF;\n",
              "    }\n",
              "  </style>\n",
              "\n",
              "    <script>\n",
              "      const buttonEl =\n",
              "        document.querySelector('#df-e1d7c10c-c364-474e-9b34-76c92a421ac7 button.colab-df-convert');\n",
              "      buttonEl.style.display =\n",
              "        google.colab.kernel.accessAllowed ? 'block' : 'none';\n",
              "\n",
              "      async function convertToInteractive(key) {\n",
              "        const element = document.querySelector('#df-e1d7c10c-c364-474e-9b34-76c92a421ac7');\n",
              "        const dataTable =\n",
              "          await google.colab.kernel.invokeFunction('convertToInteractive',\n",
              "                                                    [key], {});\n",
              "        if (!dataTable) return;\n",
              "\n",
              "        const docLinkHtml = 'Like what you see? Visit the ' +\n",
              "          '<a target=\"_blank\" href=https://colab.research.google.com/notebooks/data_table.ipynb>data table notebook</a>'\n",
              "          + ' to learn more about interactive tables.';\n",
              "        element.innerHTML = '';\n",
              "        dataTable['output_type'] = 'display_data';\n",
              "        await google.colab.output.renderOutput(dataTable, element);\n",
              "        const docLink = document.createElement('div');\n",
              "        docLink.innerHTML = docLinkHtml;\n",
              "        element.appendChild(docLink);\n",
              "      }\n",
              "    </script>\n",
              "  </div>\n",
              "\n",
              "\n",
              "<div id=\"df-df5c0a6f-8c31-4b65-81c1-fd505b8ed165\">\n",
              "  <button class=\"colab-df-quickchart\" onclick=\"quickchart('df-df5c0a6f-8c31-4b65-81c1-fd505b8ed165')\"\n",
              "            title=\"Suggest charts\"\n",
              "            style=\"display:none;\">\n",
              "\n",
              "<svg xmlns=\"http://www.w3.org/2000/svg\" height=\"24px\"viewBox=\"0 0 24 24\"\n",
              "     width=\"24px\">\n",
              "    <g>\n",
              "        <path d=\"M19 3H5c-1.1 0-2 .9-2 2v14c0 1.1.9 2 2 2h14c1.1 0 2-.9 2-2V5c0-1.1-.9-2-2-2zM9 17H7v-7h2v7zm4 0h-2V7h2v10zm4 0h-2v-4h2v4z\"/>\n",
              "    </g>\n",
              "</svg>\n",
              "  </button>\n",
              "\n",
              "<style>\n",
              "  .colab-df-quickchart {\n",
              "      --bg-color: #E8F0FE;\n",
              "      --fill-color: #1967D2;\n",
              "      --hover-bg-color: #E2EBFA;\n",
              "      --hover-fill-color: #174EA6;\n",
              "      --disabled-fill-color: #AAA;\n",
              "      --disabled-bg-color: #DDD;\n",
              "  }\n",
              "\n",
              "  [theme=dark] .colab-df-quickchart {\n",
              "      --bg-color: #3B4455;\n",
              "      --fill-color: #D2E3FC;\n",
              "      --hover-bg-color: #434B5C;\n",
              "      --hover-fill-color: #FFFFFF;\n",
              "      --disabled-bg-color: #3B4455;\n",
              "      --disabled-fill-color: #666;\n",
              "  }\n",
              "\n",
              "  .colab-df-quickchart {\n",
              "    background-color: var(--bg-color);\n",
              "    border: none;\n",
              "    border-radius: 50%;\n",
              "    cursor: pointer;\n",
              "    display: none;\n",
              "    fill: var(--fill-color);\n",
              "    height: 32px;\n",
              "    padding: 0;\n",
              "    width: 32px;\n",
              "  }\n",
              "\n",
              "  .colab-df-quickchart:hover {\n",
              "    background-color: var(--hover-bg-color);\n",
              "    box-shadow: 0 1px 2px rgba(60, 64, 67, 0.3), 0 1px 3px 1px rgba(60, 64, 67, 0.15);\n",
              "    fill: var(--button-hover-fill-color);\n",
              "  }\n",
              "\n",
              "  .colab-df-quickchart-complete:disabled,\n",
              "  .colab-df-quickchart-complete:disabled:hover {\n",
              "    background-color: var(--disabled-bg-color);\n",
              "    fill: var(--disabled-fill-color);\n",
              "    box-shadow: none;\n",
              "  }\n",
              "\n",
              "  .colab-df-spinner {\n",
              "    border: 2px solid var(--fill-color);\n",
              "    border-color: transparent;\n",
              "    border-bottom-color: var(--fill-color);\n",
              "    animation:\n",
              "      spin 1s steps(1) infinite;\n",
              "  }\n",
              "\n",
              "  @keyframes spin {\n",
              "    0% {\n",
              "      border-color: transparent;\n",
              "      border-bottom-color: var(--fill-color);\n",
              "      border-left-color: var(--fill-color);\n",
              "    }\n",
              "    20% {\n",
              "      border-color: transparent;\n",
              "      border-left-color: var(--fill-color);\n",
              "      border-top-color: var(--fill-color);\n",
              "    }\n",
              "    30% {\n",
              "      border-color: transparent;\n",
              "      border-left-color: var(--fill-color);\n",
              "      border-top-color: var(--fill-color);\n",
              "      border-right-color: var(--fill-color);\n",
              "    }\n",
              "    40% {\n",
              "      border-color: transparent;\n",
              "      border-right-color: var(--fill-color);\n",
              "      border-top-color: var(--fill-color);\n",
              "    }\n",
              "    60% {\n",
              "      border-color: transparent;\n",
              "      border-right-color: var(--fill-color);\n",
              "    }\n",
              "    80% {\n",
              "      border-color: transparent;\n",
              "      border-right-color: var(--fill-color);\n",
              "      border-bottom-color: var(--fill-color);\n",
              "    }\n",
              "    90% {\n",
              "      border-color: transparent;\n",
              "      border-bottom-color: var(--fill-color);\n",
              "    }\n",
              "  }\n",
              "</style>\n",
              "\n",
              "  <script>\n",
              "    async function quickchart(key) {\n",
              "      const quickchartButtonEl =\n",
              "        document.querySelector('#' + key + ' button');\n",
              "      quickchartButtonEl.disabled = true;  // To prevent multiple clicks.\n",
              "      quickchartButtonEl.classList.add('colab-df-spinner');\n",
              "      try {\n",
              "        const charts = await google.colab.kernel.invokeFunction(\n",
              "            'suggestCharts', [key], {});\n",
              "      } catch (error) {\n",
              "        console.error('Error during call to suggestCharts:', error);\n",
              "      }\n",
              "      quickchartButtonEl.classList.remove('colab-df-spinner');\n",
              "      quickchartButtonEl.classList.add('colab-df-quickchart-complete');\n",
              "    }\n",
              "    (() => {\n",
              "      let quickchartButtonEl =\n",
              "        document.querySelector('#df-df5c0a6f-8c31-4b65-81c1-fd505b8ed165 button');\n",
              "      quickchartButtonEl.style.display =\n",
              "        google.colab.kernel.accessAllowed ? 'block' : 'none';\n",
              "    })();\n",
              "  </script>\n",
              "</div>\n",
              "    </div>\n",
              "  </div>\n"
            ],
            "application/vnd.google.colaboratory.intrinsic+json": {
              "type": "dataframe",
              "variable_name": "insurance3",
              "summary": "{\n  \"name\": \"insurance3\",\n  \"rows\": 1338,\n  \"fields\": [\n    {\n      \"column\": \"age\",\n      \"properties\": {\n        \"dtype\": \"number\",\n        \"std\": 14,\n        \"min\": 18,\n        \"max\": 64,\n        \"num_unique_values\": 47,\n        \"samples\": [\n          21,\n          45,\n          36\n        ],\n        \"semantic_type\": \"\",\n        \"description\": \"\"\n      }\n    },\n    {\n      \"column\": \"sex\",\n      \"properties\": {\n        \"dtype\": \"number\",\n        \"std\": 0,\n        \"min\": 0,\n        \"max\": 1,\n        \"num_unique_values\": 2,\n        \"samples\": [\n          1,\n          0\n        ],\n        \"semantic_type\": \"\",\n        \"description\": \"\"\n      }\n    },\n    {\n      \"column\": \"bmi\",\n      \"properties\": {\n        \"dtype\": \"number\",\n        \"std\": 6.098186911679014,\n        \"min\": 15.96,\n        \"max\": 53.13,\n        \"num_unique_values\": 548,\n        \"samples\": [\n          23.18,\n          26.885\n        ],\n        \"semantic_type\": \"\",\n        \"description\": \"\"\n      }\n    },\n    {\n      \"column\": \"children\",\n      \"properties\": {\n        \"dtype\": \"number\",\n        \"std\": 1,\n        \"min\": 0,\n        \"max\": 5,\n        \"num_unique_values\": 6,\n        \"samples\": [\n          0,\n          1\n        ],\n        \"semantic_type\": \"\",\n        \"description\": \"\"\n      }\n    },\n    {\n      \"column\": \"smoker\",\n      \"properties\": {\n        \"dtype\": \"number\",\n        \"std\": 0,\n        \"min\": 0,\n        \"max\": 1,\n        \"num_unique_values\": 2,\n        \"samples\": [\n          0,\n          1\n        ],\n        \"semantic_type\": \"\",\n        \"description\": \"\"\n      }\n    },\n    {\n      \"column\": \"region\",\n      \"properties\": {\n        \"dtype\": \"number\",\n        \"std\": 1,\n        \"min\": 0,\n        \"max\": 3,\n        \"num_unique_values\": 4,\n        \"samples\": [\n          2,\n          0\n        ],\n        \"semantic_type\": \"\",\n        \"description\": \"\"\n      }\n    },\n    {\n      \"column\": \"charges\",\n      \"properties\": {\n        \"dtype\": \"number\",\n        \"std\": 12110.011236694001,\n        \"min\": 1121.8739,\n        \"max\": 63770.42801,\n        \"num_unique_values\": 1337,\n        \"samples\": [\n          8688.85885,\n          5708.867\n        ],\n        \"semantic_type\": \"\",\n        \"description\": \"\"\n      }\n    },\n    {\n      \"column\": \"insuranceclaim\",\n      \"properties\": {\n        \"dtype\": \"number\",\n        \"std\": 0,\n        \"min\": 0,\n        \"max\": 1,\n        \"num_unique_values\": 2,\n        \"samples\": [\n          0,\n          1\n        ],\n        \"semantic_type\": \"\",\n        \"description\": \"\"\n      }\n    }\n  ]\n}"
            }
          },
          "metadata": {},
          "execution_count": 28
        }
      ]
    },
    {
      "cell_type": "markdown",
      "metadata": {
        "id": "doEJdDDviPPE"
      },
      "source": [
        "###**3.2.1 Satisfying the Three Rules**\n",
        "We already see that insuranceclaim is binary or dichotomous and seems to have values of 1 and 0. That satisfies Rule #1 above. On to our second rule--we need to check for multicollinearity, i.e. connections among the attributes themselves. For that, we are setting up a correlation matrix:"
      ]
    },
    {
      "cell_type": "code",
      "metadata": {
        "id": "15Q9_Y6wi6WE",
        "colab": {
          "base_uri": "https://localhost:8080/",
          "height": 300
        },
        "outputId": "a94bc109-2bbb-4bbe-9cc6-2813eee57857"
      },
      "source": [
        "corr = insurance3.corr()\n",
        "corr"
      ],
      "execution_count": null,
      "outputs": [
        {
          "output_type": "execute_result",
          "data": {
            "text/plain": [
              "                     age       sex       bmi  children    smoker    region  \\\n",
              "age             1.000000 -0.020856  0.109272  0.042469 -0.025019  0.002127   \n",
              "sex            -0.020856  1.000000  0.046371  0.017163  0.076185  0.004588   \n",
              "bmi             0.109272  0.046371  1.000000  0.012759  0.003750  0.157566   \n",
              "children        0.042469  0.017163  0.012759  1.000000  0.007673  0.016569   \n",
              "smoker         -0.025019  0.076185  0.003750  0.007673  1.000000 -0.002181   \n",
              "region          0.002127  0.004588  0.157566  0.016569 -0.002181  1.000000   \n",
              "charges         0.299008  0.057292  0.198341  0.067998  0.787251 -0.006208   \n",
              "insuranceclaim  0.113723  0.031565  0.384198 -0.409526  0.333261  0.020891   \n",
              "\n",
              "                 charges  insuranceclaim  \n",
              "age             0.299008        0.113723  \n",
              "sex             0.057292        0.031565  \n",
              "bmi             0.198341        0.384198  \n",
              "children        0.067998       -0.409526  \n",
              "smoker          0.787251        0.333261  \n",
              "region         -0.006208        0.020891  \n",
              "charges         1.000000        0.309418  \n",
              "insuranceclaim  0.309418        1.000000  "
            ],
            "text/html": [
              "\n",
              "  <div id=\"df-2a517320-bf58-4e51-8002-baab161f23b3\" class=\"colab-df-container\">\n",
              "    <div>\n",
              "<style scoped>\n",
              "    .dataframe tbody tr th:only-of-type {\n",
              "        vertical-align: middle;\n",
              "    }\n",
              "\n",
              "    .dataframe tbody tr th {\n",
              "        vertical-align: top;\n",
              "    }\n",
              "\n",
              "    .dataframe thead th {\n",
              "        text-align: right;\n",
              "    }\n",
              "</style>\n",
              "<table border=\"1\" class=\"dataframe\">\n",
              "  <thead>\n",
              "    <tr style=\"text-align: right;\">\n",
              "      <th></th>\n",
              "      <th>age</th>\n",
              "      <th>sex</th>\n",
              "      <th>bmi</th>\n",
              "      <th>children</th>\n",
              "      <th>smoker</th>\n",
              "      <th>region</th>\n",
              "      <th>charges</th>\n",
              "      <th>insuranceclaim</th>\n",
              "    </tr>\n",
              "  </thead>\n",
              "  <tbody>\n",
              "    <tr>\n",
              "      <th>age</th>\n",
              "      <td>1.000000</td>\n",
              "      <td>-0.020856</td>\n",
              "      <td>0.109272</td>\n",
              "      <td>0.042469</td>\n",
              "      <td>-0.025019</td>\n",
              "      <td>0.002127</td>\n",
              "      <td>0.299008</td>\n",
              "      <td>0.113723</td>\n",
              "    </tr>\n",
              "    <tr>\n",
              "      <th>sex</th>\n",
              "      <td>-0.020856</td>\n",
              "      <td>1.000000</td>\n",
              "      <td>0.046371</td>\n",
              "      <td>0.017163</td>\n",
              "      <td>0.076185</td>\n",
              "      <td>0.004588</td>\n",
              "      <td>0.057292</td>\n",
              "      <td>0.031565</td>\n",
              "    </tr>\n",
              "    <tr>\n",
              "      <th>bmi</th>\n",
              "      <td>0.109272</td>\n",
              "      <td>0.046371</td>\n",
              "      <td>1.000000</td>\n",
              "      <td>0.012759</td>\n",
              "      <td>0.003750</td>\n",
              "      <td>0.157566</td>\n",
              "      <td>0.198341</td>\n",
              "      <td>0.384198</td>\n",
              "    </tr>\n",
              "    <tr>\n",
              "      <th>children</th>\n",
              "      <td>0.042469</td>\n",
              "      <td>0.017163</td>\n",
              "      <td>0.012759</td>\n",
              "      <td>1.000000</td>\n",
              "      <td>0.007673</td>\n",
              "      <td>0.016569</td>\n",
              "      <td>0.067998</td>\n",
              "      <td>-0.409526</td>\n",
              "    </tr>\n",
              "    <tr>\n",
              "      <th>smoker</th>\n",
              "      <td>-0.025019</td>\n",
              "      <td>0.076185</td>\n",
              "      <td>0.003750</td>\n",
              "      <td>0.007673</td>\n",
              "      <td>1.000000</td>\n",
              "      <td>-0.002181</td>\n",
              "      <td>0.787251</td>\n",
              "      <td>0.333261</td>\n",
              "    </tr>\n",
              "    <tr>\n",
              "      <th>region</th>\n",
              "      <td>0.002127</td>\n",
              "      <td>0.004588</td>\n",
              "      <td>0.157566</td>\n",
              "      <td>0.016569</td>\n",
              "      <td>-0.002181</td>\n",
              "      <td>1.000000</td>\n",
              "      <td>-0.006208</td>\n",
              "      <td>0.020891</td>\n",
              "    </tr>\n",
              "    <tr>\n",
              "      <th>charges</th>\n",
              "      <td>0.299008</td>\n",
              "      <td>0.057292</td>\n",
              "      <td>0.198341</td>\n",
              "      <td>0.067998</td>\n",
              "      <td>0.787251</td>\n",
              "      <td>-0.006208</td>\n",
              "      <td>1.000000</td>\n",
              "      <td>0.309418</td>\n",
              "    </tr>\n",
              "    <tr>\n",
              "      <th>insuranceclaim</th>\n",
              "      <td>0.113723</td>\n",
              "      <td>0.031565</td>\n",
              "      <td>0.384198</td>\n",
              "      <td>-0.409526</td>\n",
              "      <td>0.333261</td>\n",
              "      <td>0.020891</td>\n",
              "      <td>0.309418</td>\n",
              "      <td>1.000000</td>\n",
              "    </tr>\n",
              "  </tbody>\n",
              "</table>\n",
              "</div>\n",
              "    <div class=\"colab-df-buttons\">\n",
              "\n",
              "  <div class=\"colab-df-container\">\n",
              "    <button class=\"colab-df-convert\" onclick=\"convertToInteractive('df-2a517320-bf58-4e51-8002-baab161f23b3')\"\n",
              "            title=\"Convert this dataframe to an interactive table.\"\n",
              "            style=\"display:none;\">\n",
              "\n",
              "  <svg xmlns=\"http://www.w3.org/2000/svg\" height=\"24px\" viewBox=\"0 -960 960 960\">\n",
              "    <path d=\"M120-120v-720h720v720H120Zm60-500h600v-160H180v160Zm220 220h160v-160H400v160Zm0 220h160v-160H400v160ZM180-400h160v-160H180v160Zm440 0h160v-160H620v160ZM180-180h160v-160H180v160Zm440 0h160v-160H620v160Z\"/>\n",
              "  </svg>\n",
              "    </button>\n",
              "\n",
              "  <style>\n",
              "    .colab-df-container {\n",
              "      display:flex;\n",
              "      gap: 12px;\n",
              "    }\n",
              "\n",
              "    .colab-df-convert {\n",
              "      background-color: #E8F0FE;\n",
              "      border: none;\n",
              "      border-radius: 50%;\n",
              "      cursor: pointer;\n",
              "      display: none;\n",
              "      fill: #1967D2;\n",
              "      height: 32px;\n",
              "      padding: 0 0 0 0;\n",
              "      width: 32px;\n",
              "    }\n",
              "\n",
              "    .colab-df-convert:hover {\n",
              "      background-color: #E2EBFA;\n",
              "      box-shadow: 0px 1px 2px rgba(60, 64, 67, 0.3), 0px 1px 3px 1px rgba(60, 64, 67, 0.15);\n",
              "      fill: #174EA6;\n",
              "    }\n",
              "\n",
              "    .colab-df-buttons div {\n",
              "      margin-bottom: 4px;\n",
              "    }\n",
              "\n",
              "    [theme=dark] .colab-df-convert {\n",
              "      background-color: #3B4455;\n",
              "      fill: #D2E3FC;\n",
              "    }\n",
              "\n",
              "    [theme=dark] .colab-df-convert:hover {\n",
              "      background-color: #434B5C;\n",
              "      box-shadow: 0px 1px 3px 1px rgba(0, 0, 0, 0.15);\n",
              "      filter: drop-shadow(0px 1px 2px rgba(0, 0, 0, 0.3));\n",
              "      fill: #FFFFFF;\n",
              "    }\n",
              "  </style>\n",
              "\n",
              "    <script>\n",
              "      const buttonEl =\n",
              "        document.querySelector('#df-2a517320-bf58-4e51-8002-baab161f23b3 button.colab-df-convert');\n",
              "      buttonEl.style.display =\n",
              "        google.colab.kernel.accessAllowed ? 'block' : 'none';\n",
              "\n",
              "      async function convertToInteractive(key) {\n",
              "        const element = document.querySelector('#df-2a517320-bf58-4e51-8002-baab161f23b3');\n",
              "        const dataTable =\n",
              "          await google.colab.kernel.invokeFunction('convertToInteractive',\n",
              "                                                    [key], {});\n",
              "        if (!dataTable) return;\n",
              "\n",
              "        const docLinkHtml = 'Like what you see? Visit the ' +\n",
              "          '<a target=\"_blank\" href=https://colab.research.google.com/notebooks/data_table.ipynb>data table notebook</a>'\n",
              "          + ' to learn more about interactive tables.';\n",
              "        element.innerHTML = '';\n",
              "        dataTable['output_type'] = 'display_data';\n",
              "        await google.colab.output.renderOutput(dataTable, element);\n",
              "        const docLink = document.createElement('div');\n",
              "        docLink.innerHTML = docLinkHtml;\n",
              "        element.appendChild(docLink);\n",
              "      }\n",
              "    </script>\n",
              "  </div>\n",
              "\n",
              "\n",
              "<div id=\"df-d817be33-162c-4cb6-9f4d-8bab47b50021\">\n",
              "  <button class=\"colab-df-quickchart\" onclick=\"quickchart('df-d817be33-162c-4cb6-9f4d-8bab47b50021')\"\n",
              "            title=\"Suggest charts\"\n",
              "            style=\"display:none;\">\n",
              "\n",
              "<svg xmlns=\"http://www.w3.org/2000/svg\" height=\"24px\"viewBox=\"0 0 24 24\"\n",
              "     width=\"24px\">\n",
              "    <g>\n",
              "        <path d=\"M19 3H5c-1.1 0-2 .9-2 2v14c0 1.1.9 2 2 2h14c1.1 0 2-.9 2-2V5c0-1.1-.9-2-2-2zM9 17H7v-7h2v7zm4 0h-2V7h2v10zm4 0h-2v-4h2v4z\"/>\n",
              "    </g>\n",
              "</svg>\n",
              "  </button>\n",
              "\n",
              "<style>\n",
              "  .colab-df-quickchart {\n",
              "      --bg-color: #E8F0FE;\n",
              "      --fill-color: #1967D2;\n",
              "      --hover-bg-color: #E2EBFA;\n",
              "      --hover-fill-color: #174EA6;\n",
              "      --disabled-fill-color: #AAA;\n",
              "      --disabled-bg-color: #DDD;\n",
              "  }\n",
              "\n",
              "  [theme=dark] .colab-df-quickchart {\n",
              "      --bg-color: #3B4455;\n",
              "      --fill-color: #D2E3FC;\n",
              "      --hover-bg-color: #434B5C;\n",
              "      --hover-fill-color: #FFFFFF;\n",
              "      --disabled-bg-color: #3B4455;\n",
              "      --disabled-fill-color: #666;\n",
              "  }\n",
              "\n",
              "  .colab-df-quickchart {\n",
              "    background-color: var(--bg-color);\n",
              "    border: none;\n",
              "    border-radius: 50%;\n",
              "    cursor: pointer;\n",
              "    display: none;\n",
              "    fill: var(--fill-color);\n",
              "    height: 32px;\n",
              "    padding: 0;\n",
              "    width: 32px;\n",
              "  }\n",
              "\n",
              "  .colab-df-quickchart:hover {\n",
              "    background-color: var(--hover-bg-color);\n",
              "    box-shadow: 0 1px 2px rgba(60, 64, 67, 0.3), 0 1px 3px 1px rgba(60, 64, 67, 0.15);\n",
              "    fill: var(--button-hover-fill-color);\n",
              "  }\n",
              "\n",
              "  .colab-df-quickchart-complete:disabled,\n",
              "  .colab-df-quickchart-complete:disabled:hover {\n",
              "    background-color: var(--disabled-bg-color);\n",
              "    fill: var(--disabled-fill-color);\n",
              "    box-shadow: none;\n",
              "  }\n",
              "\n",
              "  .colab-df-spinner {\n",
              "    border: 2px solid var(--fill-color);\n",
              "    border-color: transparent;\n",
              "    border-bottom-color: var(--fill-color);\n",
              "    animation:\n",
              "      spin 1s steps(1) infinite;\n",
              "  }\n",
              "\n",
              "  @keyframes spin {\n",
              "    0% {\n",
              "      border-color: transparent;\n",
              "      border-bottom-color: var(--fill-color);\n",
              "      border-left-color: var(--fill-color);\n",
              "    }\n",
              "    20% {\n",
              "      border-color: transparent;\n",
              "      border-left-color: var(--fill-color);\n",
              "      border-top-color: var(--fill-color);\n",
              "    }\n",
              "    30% {\n",
              "      border-color: transparent;\n",
              "      border-left-color: var(--fill-color);\n",
              "      border-top-color: var(--fill-color);\n",
              "      border-right-color: var(--fill-color);\n",
              "    }\n",
              "    40% {\n",
              "      border-color: transparent;\n",
              "      border-right-color: var(--fill-color);\n",
              "      border-top-color: var(--fill-color);\n",
              "    }\n",
              "    60% {\n",
              "      border-color: transparent;\n",
              "      border-right-color: var(--fill-color);\n",
              "    }\n",
              "    80% {\n",
              "      border-color: transparent;\n",
              "      border-right-color: var(--fill-color);\n",
              "      border-bottom-color: var(--fill-color);\n",
              "    }\n",
              "    90% {\n",
              "      border-color: transparent;\n",
              "      border-bottom-color: var(--fill-color);\n",
              "    }\n",
              "  }\n",
              "</style>\n",
              "\n",
              "  <script>\n",
              "    async function quickchart(key) {\n",
              "      const quickchartButtonEl =\n",
              "        document.querySelector('#' + key + ' button');\n",
              "      quickchartButtonEl.disabled = true;  // To prevent multiple clicks.\n",
              "      quickchartButtonEl.classList.add('colab-df-spinner');\n",
              "      try {\n",
              "        const charts = await google.colab.kernel.invokeFunction(\n",
              "            'suggestCharts', [key], {});\n",
              "      } catch (error) {\n",
              "        console.error('Error during call to suggestCharts:', error);\n",
              "      }\n",
              "      quickchartButtonEl.classList.remove('colab-df-spinner');\n",
              "      quickchartButtonEl.classList.add('colab-df-quickchart-complete');\n",
              "    }\n",
              "    (() => {\n",
              "      let quickchartButtonEl =\n",
              "        document.querySelector('#df-d817be33-162c-4cb6-9f4d-8bab47b50021 button');\n",
              "      quickchartButtonEl.style.display =\n",
              "        google.colab.kernel.accessAllowed ? 'block' : 'none';\n",
              "    })();\n",
              "  </script>\n",
              "</div>\n",
              "    </div>\n",
              "  </div>\n"
            ],
            "application/vnd.google.colaboratory.intrinsic+json": {
              "type": "dataframe",
              "variable_name": "corr",
              "summary": "{\n  \"name\": \"corr\",\n  \"rows\": 8,\n  \"fields\": [\n    {\n      \"column\": \"age\",\n      \"properties\": {\n        \"dtype\": \"number\",\n        \"std\": 0.3439420221986397,\n        \"min\": -0.02501875153628507,\n        \"max\": 1.0,\n        \"num_unique_values\": 8,\n        \"samples\": [\n          -0.020855872182863337,\n          0.0021273131073653523,\n          1.0\n        ],\n        \"semantic_type\": \"\",\n        \"description\": \"\"\n      }\n    },\n    {\n      \"column\": \"sex\",\n      \"properties\": {\n        \"dtype\": \"number\",\n        \"std\": 0.3441910120342778,\n        \"min\": -0.020855872182863337,\n        \"max\": 1.0,\n        \"num_unique_values\": 8,\n        \"samples\": [\n          1.0,\n          0.004588385485136127,\n          -0.020855872182863337\n        ],\n        \"semantic_type\": \"\",\n        \"description\": \"\"\n      }\n    },\n    {\n      \"column\": \"bmi\",\n      \"properties\": {\n        \"dtype\": \"number\",\n        \"std\": 0.331436426058513,\n        \"min\": 0.0037504259049804325,\n        \"max\": 1.0,\n        \"num_unique_values\": 8,\n        \"samples\": [\n          0.046371150646294546,\n          0.15756584854084824,\n          0.1092718815485351\n        ],\n        \"semantic_type\": \"\",\n        \"description\": \"\"\n      }\n    },\n    {\n      \"column\": \"children\",\n      \"properties\": {\n        \"dtype\": \"number\",\n        \"std\": 0.3970709017376582,\n        \"min\": -0.409526474894832,\n        \"max\": 1.0,\n        \"num_unique_values\": 8,\n        \"samples\": [\n          0.017162977748757323,\n          0.01656944563989276,\n          0.04246899855884958\n        ],\n        \"semantic_type\": \"\",\n        \"description\": \"\"\n      }\n    },\n    {\n      \"column\": \"smoker\",\n      \"properties\": {\n        \"dtype\": \"number\",\n        \"std\": 0.4040479497437776,\n        \"min\": -0.02501875153628507,\n        \"max\": 1.0,\n        \"num_unique_values\": 8,\n        \"samples\": [\n          0.07618481692109509,\n          -0.0021806820409346773,\n          -0.02501875153628507\n        ],\n        \"semantic_type\": \"\",\n        \"description\": \"\"\n      }\n    },\n    {\n      \"column\": \"region\",\n      \"properties\": {\n        \"dtype\": \"number\",\n        \"std\": 0.3479727592671527,\n        \"min\": -0.006208234909444468,\n        \"max\": 1.0,\n        \"num_unique_values\": 8,\n        \"samples\": [\n          0.004588385485136127,\n          1.0,\n          0.0021273131073653523\n        ],\n        \"semantic_type\": \"\",\n        \"description\": \"\"\n      }\n    },\n    {\n      \"column\": \"charges\",\n      \"properties\": {\n        \"dtype\": \"number\",\n        \"std\": 0.3649030463285345,\n        \"min\": -0.006208234909444468,\n        \"max\": 1.0,\n        \"num_unique_values\": 8,\n        \"samples\": [\n          0.05729206220202543,\n          -0.006208234909444468,\n          0.299008193330648\n        ],\n        \"semantic_type\": \"\",\n        \"description\": \"\"\n      }\n    },\n    {\n      \"column\": \"insuranceclaim\",\n      \"properties\": {\n        \"dtype\": \"number\",\n        \"std\": 0.40335480854504535,\n        \"min\": -0.409526474894832,\n        \"max\": 1.0,\n        \"num_unique_values\": 8,\n        \"samples\": [\n          0.03156527083493361,\n          0.02089146595125545,\n          0.1137225624127475\n        ],\n        \"semantic_type\": \"\",\n        \"description\": \"\"\n      }\n    }\n  ]\n}"
            }
          },
          "metadata": {},
          "execution_count": 29
        }
      ]
    },
    {
      "cell_type": "markdown",
      "metadata": {
        "id": "DMnRyOGojHrQ"
      },
      "source": [
        "##Your Turn\n",
        "Which variables have > 50% correlation? Type the variable below:"
      ]
    },
    {
      "cell_type": "code",
      "metadata": {
        "id": "IGU-GtAdjjLO",
        "colab": {
          "base_uri": "https://localhost:8080/",
          "height": 280
        },
        "collapsed": true,
        "outputId": "96fc43e4-a1a0-4265-f6eb-f53737650e55"
      },
      "source": [
        "smoker and charges"
      ],
      "execution_count": null,
      "outputs": [
        {
          "output_type": "error",
          "ename": "AttributeError",
          "evalue": "'DataFrame' object has no attribute 'insurance'",
          "traceback": [
            "\u001b[0;31m---------------------------------------------------------------------------\u001b[0m",
            "\u001b[0;31mAttributeError\u001b[0m                            Traceback (most recent call last)",
            "\u001b[0;32m<ipython-input-34-b11bae90b709>\u001b[0m in \u001b[0;36m<cell line: 1>\u001b[0;34m()\u001b[0m\n\u001b[0;32m----> 1\u001b[0;31m \u001b[0mcorr\u001b[0m \u001b[0;34m=\u001b[0m \u001b[0mcorr\u001b[0m\u001b[0;34m.\u001b[0m\u001b[0minsurance\u001b[0m\u001b[0;34m(\u001b[0m\u001b[0;36m5\u001b[0m\u001b[0;34m,\u001b[0m\u001b[0;36m7\u001b[0m\u001b[0;34m)\u001b[0m\u001b[0;34m\u001b[0m\u001b[0;34m\u001b[0m\u001b[0m\n\u001b[0m\u001b[1;32m      2\u001b[0m \u001b[0mcorr\u001b[0m\u001b[0;34m\u001b[0m\u001b[0;34m\u001b[0m\u001b[0m\n",
            "\u001b[0;32m/usr/local/lib/python3.10/dist-packages/pandas/core/generic.py\u001b[0m in \u001b[0;36m__getattr__\u001b[0;34m(self, name)\u001b[0m\n\u001b[1;32m   5987\u001b[0m         ):\n\u001b[1;32m   5988\u001b[0m             \u001b[0;32mreturn\u001b[0m \u001b[0mself\u001b[0m\u001b[0;34m[\u001b[0m\u001b[0mname\u001b[0m\u001b[0;34m]\u001b[0m\u001b[0;34m\u001b[0m\u001b[0;34m\u001b[0m\u001b[0m\n\u001b[0;32m-> 5989\u001b[0;31m         \u001b[0;32mreturn\u001b[0m \u001b[0mobject\u001b[0m\u001b[0;34m.\u001b[0m\u001b[0m__getattribute__\u001b[0m\u001b[0;34m(\u001b[0m\u001b[0mself\u001b[0m\u001b[0;34m,\u001b[0m \u001b[0mname\u001b[0m\u001b[0;34m)\u001b[0m\u001b[0;34m\u001b[0m\u001b[0;34m\u001b[0m\u001b[0m\n\u001b[0m\u001b[1;32m   5990\u001b[0m \u001b[0;34m\u001b[0m\u001b[0m\n\u001b[1;32m   5991\u001b[0m     \u001b[0;32mdef\u001b[0m \u001b[0m__setattr__\u001b[0m\u001b[0;34m(\u001b[0m\u001b[0mself\u001b[0m\u001b[0;34m,\u001b[0m \u001b[0mname\u001b[0m\u001b[0;34m:\u001b[0m \u001b[0mstr\u001b[0m\u001b[0;34m,\u001b[0m \u001b[0mvalue\u001b[0m\u001b[0;34m)\u001b[0m \u001b[0;34m->\u001b[0m \u001b[0;32mNone\u001b[0m\u001b[0;34m:\u001b[0m\u001b[0;34m\u001b[0m\u001b[0;34m\u001b[0m\u001b[0m\n",
            "\u001b[0;31mAttributeError\u001b[0m: 'DataFrame' object has no attribute 'insurance'"
          ]
        }
      ]
    },
    {
      "cell_type": "markdown",
      "metadata": {
        "id": "7iAH5yI-jkWB"
      },
      "source": [
        "To make things fancy, we can even visualize the correlations in a heat map using the [seaborn package](https://seaborn.pydata.org/introduction.html), which is one of the really great graphics packages in Python! This works like so (and will give you the answer to the Your Turn question above):"
      ]
    },
    {
      "cell_type": "code",
      "metadata": {
        "id": "LHWDG0qMjxPD",
        "colab": {
          "base_uri": "https://localhost:8080/",
          "height": 852
        },
        "outputId": "28929a1e-a947-4c62-ba9e-2ea9015a556d"
      },
      "source": [
        "import seaborn as sns\n",
        "\n",
        "f, ax = plt.subplots(figsize = (10, 10))\n",
        "sns.heatmap(corr, mask = np.zeros_like(corr, dtype = bool),\n",
        "            cmap = sns.diverging_palette(150, 275, as_cmap = True), square = True, ax = ax)"
      ],
      "execution_count": null,
      "outputs": [
        {
          "output_type": "execute_result",
          "data": {
            "text/plain": [
              "<Axes: >"
            ]
          },
          "metadata": {},
          "execution_count": 32
        },
        {
          "output_type": "display_data",
          "data": {
            "text/plain": [
              "<Figure size 1000x1000 with 2 Axes>"
            ],
            "image/png": "[encoded data removed]"
          },
          "metadata": {}
        }
      ]
    },
    {
      "cell_type": "markdown",
      "metadata": {
        "id": "hEtlLG4bkqCl"
      },
      "source": [
        "Compare what you see on this heatmap of correlations with the answer you typed in the field above. Does your answer match what we see here?"
      ]
    },
    {
      "cell_type": "markdown",
      "metadata": {
        "id": "B5emqGlflAz2"
      },
      "source": [
        "###**3.2.2 Preprocessing the Data: Training and Test Set**\n",
        "The data set consists of record of 1338 patients in total. To train our model we will be using 1000 records. We will be using 300 records for testing, and we will use the last 38 records to cross check our model. Instead of splitting percentage-wise, as we did above, we are now splitting by row number:"
      ]
    },
    {
      "cell_type": "code",
      "metadata": {
        "id": "REMMALG2lXAn"
      },
      "source": [
        "dfTrain = insurance3[:1000]\n",
        "dfTest = insurance3[1000:1300]\n",
        "dfCheck = insurance3[1300:]"
      ],
      "execution_count": null,
      "outputs": []
    },
    {
      "cell_type": "markdown",
      "metadata": {
        "id": "ncO3C2H2luMz"
      },
      "source": [
        "Next, we separate the label and features (for both training and test dataset). In addition to that, we will also convert them into NumPy arrays as our machine learning algorithm processes data in NumPy array format."
      ]
    },
    {
      "cell_type": "code",
      "source": [
        "# Convert 'insuranceclaim' column to numpy array for training and testing sets\n",
        "train_y = np.asarray(dfTrain['insuranceclaim'])\n",
        "train_x = np.asarray(dfTrain.drop('insuranceclaim', axis=1)) # We remove insurancelcaim from the predictors (because it's the output variable)\n",
        "\n",
        "test_y = np.asarray(dfTest['insuranceclaim'])\n",
        "test_x = np.asarray(dfTest.drop('insuranceclaim', axis=1))\n",
        "\n",
        "# Display train_x to verify the changes\n",
        "train_x"
      ],
      "metadata": {
        "id": "c2avUK9Nz6zE",
        "colab": {
          "base_uri": "https://localhost:8080/"
        },
        "outputId": "df778e2a-0780-4e77-cf2b-f7b5f7afd61b"
      },
      "execution_count": null,
      "outputs": [
        {
          "output_type": "execute_result",
          "data": {
            "text/plain": [
              "array([[1.90000000e+01, 0.00000000e+00, 2.79000000e+01, ...,\n",
              "        1.00000000e+00, 3.00000000e+00, 1.68849240e+04],\n",
              "       [1.80000000e+01, 1.00000000e+00, 3.37700000e+01, ...,\n",
              "        0.00000000e+00, 2.00000000e+00, 1.72555230e+03],\n",
              "       [2.80000000e+01, 1.00000000e+00, 3.30000000e+01, ...,\n",
              "        0.00000000e+00, 2.00000000e+00, 4.44946200e+03],\n",
              "       ...,\n",
              "       [6.30000000e+01, 0.00000000e+00, 3.68500000e+01, ...,\n",
              "        0.00000000e+00, 2.00000000e+00, 1.38879685e+04],\n",
              "       [3.30000000e+01, 0.00000000e+00, 3.62900000e+01, ...,\n",
              "        0.00000000e+00, 0.00000000e+00, 6.55175010e+03],\n",
              "       [3.60000000e+01, 0.00000000e+00, 2.68850000e+01, ...,\n",
              "        0.00000000e+00, 1.00000000e+00, 5.26781815e+03]])"
            ]
          },
          "metadata": {},
          "execution_count": 36
        }
      ]
    },
    {
      "cell_type": "markdown",
      "metadata": {
        "id": "betS8VQImVFp"
      },
      "source": [
        "This is what the numpy array looks like. No worries. All the data is there.\n",
        "\n",
        "As the final step before using machine learning, we will normalize our inputs. Machine Learning models often benefit substantially from input normalization. It also makes it easier for us to understand the importance of each feature later, when we’ll be looking at the model weights.  We’ll standardize the data such that each variable has 0 mean and standard deviation of 1.\n",
        "\n",
        "One way of doing this is by using the means:"
      ]
    },
    {
      "cell_type": "code",
      "metadata": {
        "id": "XvSUsuPqmlrE"
      },
      "source": [
        "means = np.mean(train_x, axis=0)\n",
        "std = np.std(train_x, axis=0)\n",
        "\n",
        "train_x = (train_x - means)/std\n",
        "test_x = (test_x - means)/std"
      ],
      "execution_count": null,
      "outputs": []
    },
    {
      "cell_type": "markdown",
      "source": [
        "Another way of doing this is with a function called StandardScaler that we need to import (because we didn't import it at the beginning of this file):"
      ],
      "metadata": {
        "id": "nvcYKu-S4R4u"
      }
    },
    {
      "cell_type": "code",
      "source": [
        "from sklearn.preprocessing import StandardScaler\n",
        "\n",
        "# Standardize the numeric columns\n",
        "scaler = StandardScaler()\n",
        "train_x = scaler.fit_transform(train_x)\n",
        "test_x = scaler.transform(test_x)"
      ],
      "metadata": {
        "id": "jim44jnh4Ve7"
      },
      "execution_count": null,
      "outputs": []
    },
    {
      "cell_type": "markdown",
      "metadata": {
        "id": "eIc8rrtmmpqm"
      },
      "source": [
        "Now, we can start with our Logistic Regression!"
      ]
    },
    {
      "cell_type": "markdown",
      "metadata": {
        "id": "aDUMkaanmwZz"
      },
      "source": [
        "###**3.2.3 Building the Model**\n",
        "We can now train our classification model with logistic regression. First, we create a model and then use the fit function to train the model. We use the [LogisticRegression() function](https://scikit-learn.org/stable/modules/generated/sklearn.linear_model.LogisticRegression.html) from scikit-learn. Follow the link to learn more about this very versatile function!"
      ]
    },
    {
      "cell_type": "code",
      "metadata": {
        "id": "9tpyBEWUm8wu",
        "colab": {
          "base_uri": "https://localhost:8080/",
          "height": 74
        },
        "outputId": "70838a37-b4bb-4bf0-a986-8e00f710341f"
      },
      "source": [
        "from sklearn.linear_model import LogisticRegression\n",
        "\n",
        "model = LogisticRegression()\n",
        "model.fit(train_x, train_y)"
      ],
      "execution_count": null,
      "outputs": [
        {
          "output_type": "execute_result",
          "data": {
            "text/plain": [
              "LogisticRegression()"
            ],
            "text/html": [
              "<style>#sk-container-id-1 {color: black;background-color: white;}#sk-container-id-1 pre{padding: 0;}#sk-container-id-1 div.sk-toggleable {background-color: white;}#sk-container-id-1 label.sk-toggleable__label {cursor: pointer;display: block;width: 100%;margin-bottom: 0;padding: 0.3em;box-sizing: border-box;text-align: center;}#sk-container-id-1 label.sk-toggleable__label-arrow:before {content: \"▸\";float: left;margin-right: 0.25em;color: #696969;}#sk-container-id-1 label.sk-toggleable__label-arrow:hover:before {color: black;}#sk-container-id-1 div.sk-estimator:hover label.sk-toggleable__label-arrow:before {color: black;}#sk-container-id-1 div.sk-toggleable__content {max-height: 0;max-width: 0;overflow: hidden;text-align: left;background-color: #f0f8ff;}#sk-container-id-1 div.sk-toggleable__content pre {margin: 0.2em;color: black;border-radius: 0.25em;background-color: #f0f8ff;}#sk-container-id-1 input.sk-toggleable__control:checked~div.sk-toggleable__content {max-height: 200px;max-width: 100%;overflow: auto;}#sk-container-id-1 input.sk-toggleable__control:checked~label.sk-toggleable__label-arrow:before {content: \"▾\";}#sk-container-id-1 div.sk-estimator input.sk-toggleable__control:checked~label.sk-toggleable__label {background-color: #d4ebff;}#sk-container-id-1 div.sk-label input.sk-toggleable__control:checked~label.sk-toggleable__label {background-color: #d4ebff;}#sk-container-id-1 input.sk-hidden--visually {border: 0;clip: rect(1px 1px 1px 1px);clip: rect(1px, 1px, 1px, 1px);height: 1px;margin: -1px;overflow: hidden;padding: 0;position: absolute;width: 1px;}#sk-container-id-1 div.sk-estimator {font-family: monospace;background-color: #f0f8ff;border: 1px dotted black;border-radius: 0.25em;box-sizing: border-box;margin-bottom: 0.5em;}#sk-container-id-1 div.sk-estimator:hover {background-color: #d4ebff;}#sk-container-id-1 div.sk-parallel-item::after {content: \"\";width: 100%;border-bottom: 1px solid gray;flex-grow: 1;}#sk-container-id-1 div.sk-label:hover label.sk-toggleable__label {background-color: #d4ebff;}#sk-container-id-1 div.sk-serial::before {content: \"\";position: absolute;border-left: 1px solid gray;box-sizing: border-box;top: 0;bottom: 0;left: 50%;z-index: 0;}#sk-container-id-1 div.sk-serial {display: flex;flex-direction: column;align-items: center;background-color: white;padding-right: 0.2em;padding-left: 0.2em;position: relative;}#sk-container-id-1 div.sk-item {position: relative;z-index: 1;}#sk-container-id-1 div.sk-parallel {display: flex;align-items: stretch;justify-content: center;background-color: white;position: relative;}#sk-container-id-1 div.sk-item::before, #sk-container-id-1 div.sk-parallel-item::before {content: \"\";position: absolute;border-left: 1px solid gray;box-sizing: border-box;top: 0;bottom: 0;left: 50%;z-index: -1;}#sk-container-id-1 div.sk-parallel-item {display: flex;flex-direction: column;z-index: 1;position: relative;background-color: white;}#sk-container-id-1 div.sk-parallel-item:first-child::after {align-self: flex-end;width: 50%;}#sk-container-id-1 div.sk-parallel-item:last-child::after {align-self: flex-start;width: 50%;}#sk-container-id-1 div.sk-parallel-item:only-child::after {width: 0;}#sk-container-id-1 div.sk-dashed-wrapped {border: 1px dashed gray;margin: 0 0.4em 0.5em 0.4em;box-sizing: border-box;padding-bottom: 0.4em;background-color: white;}#sk-container-id-1 div.sk-label label {font-family: monospace;font-weight: bold;display: inline-block;line-height: 1.2em;}#sk-container-id-1 div.sk-label-container {text-align: center;}#sk-container-id-1 div.sk-container {/* jupyter's `normalize.less` sets `[hidden] { display: none; }` but bootstrap.min.css set `[hidden] { display: none !important; }` so we also need the `!important` here to be able to override the default hidden behavior on the sphinx rendered scikit-learn.org. See: https://github.com/scikit-learn/scikit-learn/issues/21755 */display: inline-block !important;position: relative;}#sk-container-id-1 div.sk-text-repr-fallback {display: none;}</style><div id=\"sk-container-id-1\" class=\"sk-top-container\"><div class=\"sk-text-repr-fallback\"><pre>LogisticRegression()</pre><b>In a Jupyter environment, please rerun this cell to show the HTML representation or trust the notebook. <br />On GitHub, the HTML representation is unable to render, please try loading this page with nbviewer.org.</b></div><div class=\"sk-container\" hidden><div class=\"sk-item\"><div class=\"sk-estimator sk-toggleable\"><input class=\"sk-toggleable__control sk-hidden--visually\" id=\"sk-estimator-id-1\" type=\"checkbox\" checked><label for=\"sk-estimator-id-1\" class=\"sk-toggleable__label sk-toggleable__label-arrow\">LogisticRegression</label><div class=\"sk-toggleable__content\"><pre>LogisticRegression()</pre></div></div></div></div></div>"
            ]
          },
          "metadata": {},
          "execution_count": 39
        }
      ]
    },
    {
      "cell_type": "markdown",
      "metadata": {
        "id": "Hnj3pE-MnB-U"
      },
      "source": [
        "###**3.2.4 Testing the Model**\n",
        "Now we use our test data to determine the accuracy of the model."
      ]
    },
    {
      "cell_type": "code",
      "metadata": {
        "id": "8gMgKplInId-",
        "colab": {
          "base_uri": "https://localhost:8080/"
        },
        "outputId": "8b93da0f-a806-4d77-c0a6-f732485f44c2"
      },
      "source": [
        "accuracy = model.score(test_x, test_y)\n",
        "print(\"accuracy = \", accuracy * 100, \"%\")"
      ],
      "execution_count": null,
      "outputs": [
        {
          "output_type": "stream",
          "name": "stdout",
          "text": [
            "accuracy =  86.0 %\n"
          ]
        }
      ]
    },
    {
      "cell_type": "markdown",
      "metadata": {
        "id": "2MA3nhscnhju"
      },
      "source": [
        "###**3.2.5 Using the Model for Predictions**\n",
        "Now we can use the model for predictions on the test set!"
      ]
    },
    {
      "cell_type": "code",
      "metadata": {
        "id": "0U4TYyrynuvn",
        "colab": {
          "base_uri": "https://localhost:8080/"
        },
        "outputId": "1ee04574-4c85-4dae-cb4f-7bd368088bdc"
      },
      "source": [
        "pred = model.predict(test_x)\n",
        "print(pred)"
      ],
      "execution_count": null,
      "outputs": [
        {
          "output_type": "stream",
          "name": "stdout",
          "text": [
            "[1 1 0 1 0 0 0 1 0 0 0 0 0 1 1 1 0 0 0 0 1 1 1 0 1 1 1 0 1 0 1 1 1 1 1 0 1\n",
            " 1 1 0 1 0 1 0 1 1 1 1 0 1 1 1 1 1 0 1 1 1 1 1 1 0 1 0 0 0 1 1 0 1 1 1 1 0\n",
            " 0 0 1 0 1 0 0 0 0 1 0 0 1 1 1 0 1 1 0 1 0 0 1 1 1 1 0 0 1 1 1 1 1 0 0 0 1\n",
            " 1 1 0 0 1 0 1 1 0 1 1 1 1 1 1 1 0 1 0 0 1 1 0 1 0 0 0 1 1 1 0 1 0 0 0 1 1\n",
            " 0 1 1 1 1 1 0 0 1 0 1 1 1 1 1 1 0 1 1 0 0 1 1 1 1 0 0 0 1 0 1 1 1 1 1 0 1\n",
            " 0 1 1 1 1 0 0 1 1 0 0 1 1 0 0 0 1 1 1 0 0 1 1 1 1 1 0 0 0 0 1 1 0 1 0 0 0\n",
            " 1 1 0 1 0 1 1 1 1 1 0 1 0 1 0 1 0 1 1 1 0 1 1 0 0 0 1 1 1 0 1 0 1 1 0 0 0\n",
            " 1 0 1 0 0 0 1 1 1 1 0 1 1 0 0 1 1 1 1 1 0 1 1 1 0 1 1 0 0 1 1 0 1 0 0 1 0\n",
            " 0 0 0 0]\n"
          ]
        }
      ]
    },
    {
      "cell_type": "markdown",
      "metadata": {
        "id": "KO7gX0N-n8Rn"
      },
      "source": [
        "And here is our entire analysis process--and the calculated output! We are seeing how the function allowed us to predict 1 or 0, just as we needed!"
      ]
    },
    {
      "cell_type": "code",
      "metadata": {
        "id": "6WjwSDqCn21_",
        "colab": {
          "base_uri": "https://localhost:8080/",
          "height": 833
        },
        "outputId": "4242e076-4f88-453a-b8c9-93adfa6c124b"
      },
      "source": [
        "# Let's compare the actual y and the predicted y\n",
        "\n",
        "realvsmodel = pd.DataFrame(pred,test_y)\n",
        "realvsmodel = pd.DataFrame({'predicted':pred,'original':test_y})\n",
        "realvsmodel.head(25)"
      ],
      "execution_count": null,
      "outputs": [
        {
          "output_type": "execute_result",
          "data": {
            "text/plain": [
              "    predicted  original\n",
              "0           1         0\n",
              "1           1         1\n",
              "2           0         0\n",
              "3           1         1\n",
              "4           0         0\n",
              "5           0         0\n",
              "6           0         0\n",
              "7           1         1\n",
              "8           0         0\n",
              "9           0         0\n",
              "10          0         0\n",
              "11          0         1\n",
              "12          0         0\n",
              "13          1         1\n",
              "14          1         1\n",
              "15          1         0\n",
              "16          0         0\n",
              "17          0         0\n",
              "18          0         0\n",
              "19          0         0\n",
              "20          1         1\n",
              "21          1         1\n",
              "22          1         1\n",
              "23          0         0\n",
              "24          1         1"
            ],
            "text/html": [
              "\n",
              "  <div id=\"df-e3d6273e-5b26-4736-a872-143737b2748b\" class=\"colab-df-container\">\n",
              "    <div>\n",
              "<style scoped>\n",
              "    .dataframe tbody tr th:only-of-type {\n",
              "        vertical-align: middle;\n",
              "    }\n",
              "\n",
              "    .dataframe tbody tr th {\n",
              "        vertical-align: top;\n",
              "    }\n",
              "\n",
              "    .dataframe thead th {\n",
              "        text-align: right;\n",
              "    }\n",
              "</style>\n",
              "<table border=\"1\" class=\"dataframe\">\n",
              "  <thead>\n",
              "    <tr style=\"text-align: right;\">\n",
              "      <th></th>\n",
              "      <th>predicted</th>\n",
              "      <th>original</th>\n",
              "    </tr>\n",
              "  </thead>\n",
              "  <tbody>\n",
              "    <tr>\n",
              "      <th>0</th>\n",
              "      <td>1</td>\n",
              "      <td>0</td>\n",
              "    </tr>\n",
              "    <tr>\n",
              "      <th>1</th>\n",
              "      <td>1</td>\n",
              "      <td>1</td>\n",
              "    </tr>\n",
              "    <tr>\n",
              "      <th>2</th>\n",
              "      <td>0</td>\n",
              "      <td>0</td>\n",
              "    </tr>\n",
              "    <tr>\n",
              "      <th>3</th>\n",
              "      <td>1</td>\n",
              "      <td>1</td>\n",
              "    </tr>\n",
              "    <tr>\n",
              "      <th>4</th>\n",
              "      <td>0</td>\n",
              "      <td>0</td>\n",
              "    </tr>\n",
              "    <tr>\n",
              "      <th>5</th>\n",
              "      <td>0</td>\n",
              "      <td>0</td>\n",
              "    </tr>\n",
              "    <tr>\n",
              "      <th>6</th>\n",
              "      <td>0</td>\n",
              "      <td>0</td>\n",
              "    </tr>\n",
              "    <tr>\n",
              "      <th>7</th>\n",
              "      <td>1</td>\n",
              "      <td>1</td>\n",
              "    </tr>\n",
              "    <tr>\n",
              "      <th>8</th>\n",
              "      <td>0</td>\n",
              "      <td>0</td>\n",
              "    </tr>\n",
              "    <tr>\n",
              "      <th>9</th>\n",
              "      <td>0</td>\n",
              "      <td>0</td>\n",
              "    </tr>\n",
              "    <tr>\n",
              "      <th>10</th>\n",
              "      <td>0</td>\n",
              "      <td>0</td>\n",
              "    </tr>\n",
              "    <tr>\n",
              "      <th>11</th>\n",
              "      <td>0</td>\n",
              "      <td>1</td>\n",
              "    </tr>\n",
              "    <tr>\n",
              "      <th>12</th>\n",
              "      <td>0</td>\n",
              "      <td>0</td>\n",
              "    </tr>\n",
              "    <tr>\n",
              "      <th>13</th>\n",
              "      <td>1</td>\n",
              "      <td>1</td>\n",
              "    </tr>\n",
              "    <tr>\n",
              "      <th>14</th>\n",
              "      <td>1</td>\n",
              "      <td>1</td>\n",
              "    </tr>\n",
              "    <tr>\n",
              "      <th>15</th>\n",
              "      <td>1</td>\n",
              "      <td>0</td>\n",
              "    </tr>\n",
              "    <tr>\n",
              "      <th>16</th>\n",
              "      <td>0</td>\n",
              "      <td>0</td>\n",
              "    </tr>\n",
              "    <tr>\n",
              "      <th>17</th>\n",
              "      <td>0</td>\n",
              "      <td>0</td>\n",
              "    </tr>\n",
              "    <tr>\n",
              "      <th>18</th>\n",
              "      <td>0</td>\n",
              "      <td>0</td>\n",
              "    </tr>\n",
              "    <tr>\n",
              "      <th>19</th>\n",
              "      <td>0</td>\n",
              "      <td>0</td>\n",
              "    </tr>\n",
              "    <tr>\n",
              "      <th>20</th>\n",
              "      <td>1</td>\n",
              "      <td>1</td>\n",
              "    </tr>\n",
              "    <tr>\n",
              "      <th>21</th>\n",
              "      <td>1</td>\n",
              "      <td>1</td>\n",
              "    </tr>\n",
              "    <tr>\n",
              "      <th>22</th>\n",
              "      <td>1</td>\n",
              "      <td>1</td>\n",
              "    </tr>\n",
              "    <tr>\n",
              "      <th>23</th>\n",
              "      <td>0</td>\n",
              "      <td>0</td>\n",
              "    </tr>\n",
              "    <tr>\n",
              "      <th>24</th>\n",
              "      <td>1</td>\n",
              "      <td>1</td>\n",
              "    </tr>\n",
              "  </tbody>\n",
              "</table>\n",
              "</div>\n",
              "    <div class=\"colab-df-buttons\">\n",
              "\n",
              "  <div class=\"colab-df-container\">\n",
              "    <button class=\"colab-df-convert\" onclick=\"convertToInteractive('df-e3d6273e-5b26-4736-a872-143737b2748b')\"\n",
              "            title=\"Convert this dataframe to an interactive table.\"\n",
              "            style=\"display:none;\">\n",
              "\n",
              "  <svg xmlns=\"http://www.w3.org/2000/svg\" height=\"24px\" viewBox=\"0 -960 960 960\">\n",
              "    <path d=\"M120-120v-720h720v720H120Zm60-500h600v-160H180v160Zm220 220h160v-160H400v160Zm0 220h160v-160H400v160ZM180-400h160v-160H180v160Zm440 0h160v-160H620v160ZM180-180h160v-160H180v160Zm440 0h160v-160H620v160Z\"/>\n",
              "  </svg>\n",
              "    </button>\n",
              "\n",
              "  <style>\n",
              "    .colab-df-container {\n",
              "      display:flex;\n",
              "      gap: 12px;\n",
              "    }\n",
              "\n",
              "    .colab-df-convert {\n",
              "      background-color: #E8F0FE;\n",
              "      border: none;\n",
              "      border-radius: 50%;\n",
              "      cursor: pointer;\n",
              "      display: none;\n",
              "      fill: #1967D2;\n",
              "      height: 32px;\n",
              "      padding: 0 0 0 0;\n",
              "      width: 32px;\n",
              "    }\n",
              "\n",
              "    .colab-df-convert:hover {\n",
              "      background-color: #E2EBFA;\n",
              "      box-shadow: 0px 1px 2px rgba(60, 64, 67, 0.3), 0px 1px 3px 1px rgba(60, 64, 67, 0.15);\n",
              "      fill: #174EA6;\n",
              "    }\n",
              "\n",
              "    .colab-df-buttons div {\n",
              "      margin-bottom: 4px;\n",
              "    }\n",
              "\n",
              "    [theme=dark] .colab-df-convert {\n",
              "      background-color: #3B4455;\n",
              "      fill: #D2E3FC;\n",
              "    }\n",
              "\n",
              "    [theme=dark] .colab-df-convert:hover {\n",
              "      background-color: #434B5C;\n",
              "      box-shadow: 0px 1px 3px 1px rgba(0, 0, 0, 0.15);\n",
              "      filter: drop-shadow(0px 1px 2px rgba(0, 0, 0, 0.3));\n",
              "      fill: #FFFFFF;\n",
              "    }\n",
              "  </style>\n",
              "\n",
              "    <script>\n",
              "      const buttonEl =\n",
              "        document.querySelector('#df-e3d6273e-5b26-4736-a872-143737b2748b button.colab-df-convert');\n",
              "      buttonEl.style.display =\n",
              "        google.colab.kernel.accessAllowed ? 'block' : 'none';\n",
              "\n",
              "      async function convertToInteractive(key) {\n",
              "        const element = document.querySelector('#df-e3d6273e-5b26-4736-a872-143737b2748b');\n",
              "        const dataTable =\n",
              "          await google.colab.kernel.invokeFunction('convertToInteractive',\n",
              "                                                    [key], {});\n",
              "        if (!dataTable) return;\n",
              "\n",
              "        const docLinkHtml = 'Like what you see? Visit the ' +\n",
              "          '<a target=\"_blank\" href=https://colab.research.google.com/notebooks/data_table.ipynb>data table notebook</a>'\n",
              "          + ' to learn more about interactive tables.';\n",
              "        element.innerHTML = '';\n",
              "        dataTable['output_type'] = 'display_data';\n",
              "        await google.colab.output.renderOutput(dataTable, element);\n",
              "        const docLink = document.createElement('div');\n",
              "        docLink.innerHTML = docLinkHtml;\n",
              "        element.appendChild(docLink);\n",
              "      }\n",
              "    </script>\n",
              "  </div>\n",
              "\n",
              "\n",
              "<div id=\"df-14c43356-c4b5-4dab-aafc-138b589a9193\">\n",
              "  <button class=\"colab-df-quickchart\" onclick=\"quickchart('df-14c43356-c4b5-4dab-aafc-138b589a9193')\"\n",
              "            title=\"Suggest charts\"\n",
              "            style=\"display:none;\">\n",
              "\n",
              "<svg xmlns=\"http://www.w3.org/2000/svg\" height=\"24px\"viewBox=\"0 0 24 24\"\n",
              "     width=\"24px\">\n",
              "    <g>\n",
              "        <path d=\"M19 3H5c-1.1 0-2 .9-2 2v14c0 1.1.9 2 2 2h14c1.1 0 2-.9 2-2V5c0-1.1-.9-2-2-2zM9 17H7v-7h2v7zm4 0h-2V7h2v10zm4 0h-2v-4h2v4z\"/>\n",
              "    </g>\n",
              "</svg>\n",
              "  </button>\n",
              "\n",
              "<style>\n",
              "  .colab-df-quickchart {\n",
              "      --bg-color: #E8F0FE;\n",
              "      --fill-color: #1967D2;\n",
              "      --hover-bg-color: #E2EBFA;\n",
              "      --hover-fill-color: #174EA6;\n",
              "      --disabled-fill-color: #AAA;\n",
              "      --disabled-bg-color: #DDD;\n",
              "  }\n",
              "\n",
              "  [theme=dark] .colab-df-quickchart {\n",
              "      --bg-color: #3B4455;\n",
              "      --fill-color: #D2E3FC;\n",
              "      --hover-bg-color: #434B5C;\n",
              "      --hover-fill-color: #FFFFFF;\n",
              "      --disabled-bg-color: #3B4455;\n",
              "      --disabled-fill-color: #666;\n",
              "  }\n",
              "\n",
              "  .colab-df-quickchart {\n",
              "    background-color: var(--bg-color);\n",
              "    border: none;\n",
              "    border-radius: 50%;\n",
              "    cursor: pointer;\n",
              "    display: none;\n",
              "    fill: var(--fill-color);\n",
              "    height: 32px;\n",
              "    padding: 0;\n",
              "    width: 32px;\n",
              "  }\n",
              "\n",
              "  .colab-df-quickchart:hover {\n",
              "    background-color: var(--hover-bg-color);\n",
              "    box-shadow: 0 1px 2px rgba(60, 64, 67, 0.3), 0 1px 3px 1px rgba(60, 64, 67, 0.15);\n",
              "    fill: var(--button-hover-fill-color);\n",
              "  }\n",
              "\n",
              "  .colab-df-quickchart-complete:disabled,\n",
              "  .colab-df-quickchart-complete:disabled:hover {\n",
              "    background-color: var(--disabled-bg-color);\n",
              "    fill: var(--disabled-fill-color);\n",
              "    box-shadow: none;\n",
              "  }\n",
              "\n",
              "  .colab-df-spinner {\n",
              "    border: 2px solid var(--fill-color);\n",
              "    border-color: transparent;\n",
              "    border-bottom-color: var(--fill-color);\n",
              "    animation:\n",
              "      spin 1s steps(1) infinite;\n",
              "  }\n",
              "\n",
              "  @keyframes spin {\n",
              "    0% {\n",
              "      border-color: transparent;\n",
              "      border-bottom-color: var(--fill-color);\n",
              "      border-left-color: var(--fill-color);\n",
              "    }\n",
              "    20% {\n",
              "      border-color: transparent;\n",
              "      border-left-color: var(--fill-color);\n",
              "      border-top-color: var(--fill-color);\n",
              "    }\n",
              "    30% {\n",
              "      border-color: transparent;\n",
              "      border-left-color: var(--fill-color);\n",
              "      border-top-color: var(--fill-color);\n",
              "      border-right-color: var(--fill-color);\n",
              "    }\n",
              "    40% {\n",
              "      border-color: transparent;\n",
              "      border-right-color: var(--fill-color);\n",
              "      border-top-color: var(--fill-color);\n",
              "    }\n",
              "    60% {\n",
              "      border-color: transparent;\n",
              "      border-right-color: var(--fill-color);\n",
              "    }\n",
              "    80% {\n",
              "      border-color: transparent;\n",
              "      border-right-color: var(--fill-color);\n",
              "      border-bottom-color: var(--fill-color);\n",
              "    }\n",
              "    90% {\n",
              "      border-color: transparent;\n",
              "      border-bottom-color: var(--fill-color);\n",
              "    }\n",
              "  }\n",
              "</style>\n",
              "\n",
              "  <script>\n",
              "    async function quickchart(key) {\n",
              "      const quickchartButtonEl =\n",
              "        document.querySelector('#' + key + ' button');\n",
              "      quickchartButtonEl.disabled = true;  // To prevent multiple clicks.\n",
              "      quickchartButtonEl.classList.add('colab-df-spinner');\n",
              "      try {\n",
              "        const charts = await google.colab.kernel.invokeFunction(\n",
              "            'suggestCharts', [key], {});\n",
              "      } catch (error) {\n",
              "        console.error('Error during call to suggestCharts:', error);\n",
              "      }\n",
              "      quickchartButtonEl.classList.remove('colab-df-spinner');\n",
              "      quickchartButtonEl.classList.add('colab-df-quickchart-complete');\n",
              "    }\n",
              "    (() => {\n",
              "      let quickchartButtonEl =\n",
              "        document.querySelector('#df-14c43356-c4b5-4dab-aafc-138b589a9193 button');\n",
              "      quickchartButtonEl.style.display =\n",
              "        google.colab.kernel.accessAllowed ? 'block' : 'none';\n",
              "    })();\n",
              "  </script>\n",
              "</div>\n",
              "    </div>\n",
              "  </div>\n"
            ],
            "application/vnd.google.colaboratory.intrinsic+json": {
              "type": "dataframe",
              "variable_name": "realvsmodel",
              "summary": "{\n  \"name\": \"realvsmodel\",\n  \"rows\": 300,\n  \"fields\": [\n    {\n      \"column\": \"predicted\",\n      \"properties\": {\n        \"dtype\": \"number\",\n        \"std\": 0,\n        \"min\": 0,\n        \"max\": 1,\n        \"num_unique_values\": 2,\n        \"samples\": [\n          0,\n          1\n        ],\n        \"semantic_type\": \"\",\n        \"description\": \"\"\n      }\n    },\n    {\n      \"column\": \"original\",\n      \"properties\": {\n        \"dtype\": \"number\",\n        \"std\": 0,\n        \"min\": 0,\n        \"max\": 1,\n        \"num_unique_values\": 2,\n        \"samples\": [\n          1,\n          0\n        ],\n        \"semantic_type\": \"\",\n        \"description\": \"\"\n      }\n    }\n  ]\n}"
            }
          },
          "metadata": {},
          "execution_count": 42
        }
      ]
    },
    {
      "cell_type": "markdown",
      "metadata": {
        "id": "8csdTkgQoIdv"
      },
      "source": [
        "##Your Turn\n",
        "1. Create a subset of the adult dataset with just the numeric variables.\n",
        "2. Can you use Logistic Regression to predict the sex of someone based on the all the numeric inputs? Use this as your guiding question for your exploration. Follow all the steps in section 3.2."
      ]
    },
    {
      "cell_type": "code",
      "source": [
        "#data as adult dataframe\n",
        "adult4 = pd.read_csv(\"https://raw.githubusercontent.com/shstreuber/Data-Mining/master/data/adult.data.simplified24.csv\")\n",
        "adult4.head() #checking to see if it transfered correctly"
      ],
      "metadata": {
        "colab": {
          "base_uri": "https://localhost:8080/",
          "height": 313
        },
        "id": "2lJ3SrR5gmXb",
        "outputId": "fd370951-0ed9-4120-e934-1690553b08d1"
      },
      "execution_count": null,
      "outputs": [
        {
          "output_type": "execute_result",
          "data": {
            "text/plain": [
              "   age         workclass  education  educationyears       maritalstatus  \\\n",
              "0   39         State-gov  Bachelors              13       Never-married   \n",
              "1   50  Self-emp-not-inc  Bachelors              13  Married-civ-spouse   \n",
              "2   38           Private    HS-grad               9            Divorced   \n",
              "3   53           Private       11th               7  Married-civ-spouse   \n",
              "4   28           Private  Bachelors              13  Married-civ-spouse   \n",
              "\n",
              "          occupation   relationship   race     sex  hoursperweek  \\\n",
              "0       Adm-clerical  Not-in-family  White    Male            40   \n",
              "1    Exec-managerial        Husband  White    Male            13   \n",
              "2  Handlers-cleaners  Not-in-family  White    Male            40   \n",
              "3  Handlers-cleaners        Husband  Black    Male            40   \n",
              "4     Prof-specialty           Wife  Black  Female            40   \n",
              "\n",
              "   nativecountry  incomeUSD  \n",
              "0  United-States      43747  \n",
              "1  United-States      38907  \n",
              "2  United-States      25055  \n",
              "3  United-States      26733  \n",
              "4           Cuba      23429  "
            ],
            "text/html": [
              "\n",
              "  <div id=\"df-63a42d85-515c-457a-a411-d59992ca1dd5\" class=\"colab-df-container\">\n",
              "    <div>\n",
              "<style scoped>\n",
              "    .dataframe tbody tr th:only-of-type {\n",
              "        vertical-align: middle;\n",
              "    }\n",
              "\n",
              "    .dataframe tbody tr th {\n",
              "        vertical-align: top;\n",
              "    }\n",
              "\n",
              "    .dataframe thead th {\n",
              "        text-align: right;\n",
              "    }\n",
              "</style>\n",
              "<table border=\"1\" class=\"dataframe\">\n",
              "  <thead>\n",
              "    <tr style=\"text-align: right;\">\n",
              "      <th></th>\n",
              "      <th>age</th>\n",
              "      <th>workclass</th>\n",
              "      <th>education</th>\n",
              "      <th>educationyears</th>\n",
              "      <th>maritalstatus</th>\n",
              "      <th>occupation</th>\n",
              "      <th>relationship</th>\n",
              "      <th>race</th>\n",
              "      <th>sex</th>\n",
              "      <th>hoursperweek</th>\n",
              "      <th>nativecountry</th>\n",
              "      <th>incomeUSD</th>\n",
              "    </tr>\n",
              "  </thead>\n",
              "  <tbody>\n",
              "    <tr>\n",
              "      <th>0</th>\n",
              "      <td>39</td>\n",
              "      <td>State-gov</td>\n",
              "      <td>Bachelors</td>\n",
              "      <td>13</td>\n",
              "      <td>Never-married</td>\n",
              "      <td>Adm-clerical</td>\n",
              "      <td>Not-in-family</td>\n",
              "      <td>White</td>\n",
              "      <td>Male</td>\n",
              "      <td>40</td>\n",
              "      <td>United-States</td>\n",
              "      <td>43747</td>\n",
              "    </tr>\n",
              "    <tr>\n",
              "      <th>1</th>\n",
              "      <td>50</td>\n",
              "      <td>Self-emp-not-inc</td>\n",
              "      <td>Bachelors</td>\n",
              "      <td>13</td>\n",
              "      <td>Married-civ-spouse</td>\n",
              "      <td>Exec-managerial</td>\n",
              "      <td>Husband</td>\n",
              "      <td>White</td>\n",
              "      <td>Male</td>\n",
              "      <td>13</td>\n",
              "      <td>United-States</td>\n",
              "      <td>38907</td>\n",
              "    </tr>\n",
              "    <tr>\n",
              "      <th>2</th>\n",
              "      <td>38</td>\n",
              "      <td>Private</td>\n",
              "      <td>HS-grad</td>\n",
              "      <td>9</td>\n",
              "      <td>Divorced</td>\n",
              "      <td>Handlers-cleaners</td>\n",
              "      <td>Not-in-family</td>\n",
              "      <td>White</td>\n",
              "      <td>Male</td>\n",
              "      <td>40</td>\n",
              "      <td>United-States</td>\n",
              "      <td>25055</td>\n",
              "    </tr>\n",
              "    <tr>\n",
              "      <th>3</th>\n",
              "      <td>53</td>\n",
              "      <td>Private</td>\n",
              "      <td>11th</td>\n",
              "      <td>7</td>\n",
              "      <td>Married-civ-spouse</td>\n",
              "      <td>Handlers-cleaners</td>\n",
              "      <td>Husband</td>\n",
              "      <td>Black</td>\n",
              "      <td>Male</td>\n",
              "      <td>40</td>\n",
              "      <td>United-States</td>\n",
              "      <td>26733</td>\n",
              "    </tr>\n",
              "    <tr>\n",
              "      <th>4</th>\n",
              "      <td>28</td>\n",
              "      <td>Private</td>\n",
              "      <td>Bachelors</td>\n",
              "      <td>13</td>\n",
              "      <td>Married-civ-spouse</td>\n",
              "      <td>Prof-specialty</td>\n",
              "      <td>Wife</td>\n",
              "      <td>Black</td>\n",
              "      <td>Female</td>\n",
              "      <td>40</td>\n",
              "      <td>Cuba</td>\n",
              "      <td>23429</td>\n",
              "    </tr>\n",
              "  </tbody>\n",
              "</table>\n",
              "</div>\n",
              "    <div class=\"colab-df-buttons\">\n",
              "\n",
              "  <div class=\"colab-df-container\">\n",
              "    <button class=\"colab-df-convert\" onclick=\"convertToInteractive('df-63a42d85-515c-457a-a411-d59992ca1dd5')\"\n",
              "            title=\"Convert this dataframe to an interactive table.\"\n",
              "            style=\"display:none;\">\n",
              "\n",
              "  <svg xmlns=\"http://www.w3.org/2000/svg\" height=\"24px\" viewBox=\"0 -960 960 960\">\n",
              "    <path d=\"M120-120v-720h720v720H120Zm60-500h600v-160H180v160Zm220 220h160v-160H400v160Zm0 220h160v-160H400v160ZM180-400h160v-160H180v160Zm440 0h160v-160H620v160ZM180-180h160v-160H180v160Zm440 0h160v-160H620v160Z\"/>\n",
              "  </svg>\n",
              "    </button>\n",
              "\n",
              "  <style>\n",
              "    .colab-df-container {\n",
              "      display:flex;\n",
              "      gap: 12px;\n",
              "    }\n",
              "\n",
              "    .colab-df-convert {\n",
              "      background-color: #E8F0FE;\n",
              "      border: none;\n",
              "      border-radius: 50%;\n",
              "      cursor: pointer;\n",
              "      display: none;\n",
              "      fill: #1967D2;\n",
              "      height: 32px;\n",
              "      padding: 0 0 0 0;\n",
              "      width: 32px;\n",
              "    }\n",
              "\n",
              "    .colab-df-convert:hover {\n",
              "      background-color: #E2EBFA;\n",
              "      box-shadow: 0px 1px 2px rgba(60, 64, 67, 0.3), 0px 1px 3px 1px rgba(60, 64, 67, 0.15);\n",
              "      fill: #174EA6;\n",
              "    }\n",
              "\n",
              "    .colab-df-buttons div {\n",
              "      margin-bottom: 4px;\n",
              "    }\n",
              "\n",
              "    [theme=dark] .colab-df-convert {\n",
              "      background-color: #3B4455;\n",
              "      fill: #D2E3FC;\n",
              "    }\n",
              "\n",
              "    [theme=dark] .colab-df-convert:hover {\n",
              "      background-color: #434B5C;\n",
              "      box-shadow: 0px 1px 3px 1px rgba(0, 0, 0, 0.15);\n",
              "      filter: drop-shadow(0px 1px 2px rgba(0, 0, 0, 0.3));\n",
              "      fill: #FFFFFF;\n",
              "    }\n",
              "  </style>\n",
              "\n",
              "    <script>\n",
              "      const buttonEl =\n",
              "        document.querySelector('#df-63a42d85-515c-457a-a411-d59992ca1dd5 button.colab-df-convert');\n",
              "      buttonEl.style.display =\n",
              "        google.colab.kernel.accessAllowed ? 'block' : 'none';\n",
              "\n",
              "      async function convertToInteractive(key) {\n",
              "        const element = document.querySelector('#df-63a42d85-515c-457a-a411-d59992ca1dd5');\n",
              "        const dataTable =\n",
              "          await google.colab.kernel.invokeFunction('convertToInteractive',\n",
              "                                                    [key], {});\n",
              "        if (!dataTable) return;\n",
              "\n",
              "        const docLinkHtml = 'Like what you see? Visit the ' +\n",
              "          '<a target=\"_blank\" href=https://colab.research.google.com/notebooks/data_table.ipynb>data table notebook</a>'\n",
              "          + ' to learn more about interactive tables.';\n",
              "        element.innerHTML = '';\n",
              "        dataTable['output_type'] = 'display_data';\n",
              "        await google.colab.output.renderOutput(dataTable, element);\n",
              "        const docLink = document.createElement('div');\n",
              "        docLink.innerHTML = docLinkHtml;\n",
              "        element.appendChild(docLink);\n",
              "      }\n",
              "    </script>\n",
              "  </div>\n",
              "\n",
              "\n",
              "<div id=\"df-f370a443-8d8d-4b33-b719-8f93edbed653\">\n",
              "  <button class=\"colab-df-quickchart\" onclick=\"quickchart('df-f370a443-8d8d-4b33-b719-8f93edbed653')\"\n",
              "            title=\"Suggest charts\"\n",
              "            style=\"display:none;\">\n",
              "\n",
              "<svg xmlns=\"http://www.w3.org/2000/svg\" height=\"24px\"viewBox=\"0 0 24 24\"\n",
              "     width=\"24px\">\n",
              "    <g>\n",
              "        <path d=\"M19 3H5c-1.1 0-2 .9-2 2v14c0 1.1.9 2 2 2h14c1.1 0 2-.9 2-2V5c0-1.1-.9-2-2-2zM9 17H7v-7h2v7zm4 0h-2V7h2v10zm4 0h-2v-4h2v4z\"/>\n",
              "    </g>\n",
              "</svg>\n",
              "  </button>\n",
              "\n",
              "<style>\n",
              "  .colab-df-quickchart {\n",
              "      --bg-color: #E8F0FE;\n",
              "      --fill-color: #1967D2;\n",
              "      --hover-bg-color: #E2EBFA;\n",
              "      --hover-fill-color: #174EA6;\n",
              "      --disabled-fill-color: #AAA;\n",
              "      --disabled-bg-color: #DDD;\n",
              "  }\n",
              "\n",
              "  [theme=dark] .colab-df-quickchart {\n",
              "      --bg-color: #3B4455;\n",
              "      --fill-color: #D2E3FC;\n",
              "      --hover-bg-color: #434B5C;\n",
              "      --hover-fill-color: #FFFFFF;\n",
              "      --disabled-bg-color: #3B4455;\n",
              "      --disabled-fill-color: #666;\n",
              "  }\n",
              "\n",
              "  .colab-df-quickchart {\n",
              "    background-color: var(--bg-color);\n",
              "    border: none;\n",
              "    border-radius: 50%;\n",
              "    cursor: pointer;\n",
              "    display: none;\n",
              "    fill: var(--fill-color);\n",
              "    height: 32px;\n",
              "    padding: 0;\n",
              "    width: 32px;\n",
              "  }\n",
              "\n",
              "  .colab-df-quickchart:hover {\n",
              "    background-color: var(--hover-bg-color);\n",
              "    box-shadow: 0 1px 2px rgba(60, 64, 67, 0.3), 0 1px 3px 1px rgba(60, 64, 67, 0.15);\n",
              "    fill: var(--button-hover-fill-color);\n",
              "  }\n",
              "\n",
              "  .colab-df-quickchart-complete:disabled,\n",
              "  .colab-df-quickchart-complete:disabled:hover {\n",
              "    background-color: var(--disabled-bg-color);\n",
              "    fill: var(--disabled-fill-color);\n",
              "    box-shadow: none;\n",
              "  }\n",
              "\n",
              "  .colab-df-spinner {\n",
              "    border: 2px solid var(--fill-color);\n",
              "    border-color: transparent;\n",
              "    border-bottom-color: var(--fill-color);\n",
              "    animation:\n",
              "      spin 1s steps(1) infinite;\n",
              "  }\n",
              "\n",
              "  @keyframes spin {\n",
              "    0% {\n",
              "      border-color: transparent;\n",
              "      border-bottom-color: var(--fill-color);\n",
              "      border-left-color: var(--fill-color);\n",
              "    }\n",
              "    20% {\n",
              "      border-color: transparent;\n",
              "      border-left-color: var(--fill-color);\n",
              "      border-top-color: var(--fill-color);\n",
              "    }\n",
              "    30% {\n",
              "      border-color: transparent;\n",
              "      border-left-color: var(--fill-color);\n",
              "      border-top-color: var(--fill-color);\n",
              "      border-right-color: var(--fill-color);\n",
              "    }\n",
              "    40% {\n",
              "      border-color: transparent;\n",
              "      border-right-color: var(--fill-color);\n",
              "      border-top-color: var(--fill-color);\n",
              "    }\n",
              "    60% {\n",
              "      border-color: transparent;\n",
              "      border-right-color: var(--fill-color);\n",
              "    }\n",
              "    80% {\n",
              "      border-color: transparent;\n",
              "      border-right-color: var(--fill-color);\n",
              "      border-bottom-color: var(--fill-color);\n",
              "    }\n",
              "    90% {\n",
              "      border-color: transparent;\n",
              "      border-bottom-color: var(--fill-color);\n",
              "    }\n",
              "  }\n",
              "</style>\n",
              "\n",
              "  <script>\n",
              "    async function quickchart(key) {\n",
              "      const quickchartButtonEl =\n",
              "        document.querySelector('#' + key + ' button');\n",
              "      quickchartButtonEl.disabled = true;  // To prevent multiple clicks.\n",
              "      quickchartButtonEl.classList.add('colab-df-spinner');\n",
              "      try {\n",
              "        const charts = await google.colab.kernel.invokeFunction(\n",
              "            'suggestCharts', [key], {});\n",
              "      } catch (error) {\n",
              "        console.error('Error during call to suggestCharts:', error);\n",
              "      }\n",
              "      quickchartButtonEl.classList.remove('colab-df-spinner');\n",
              "      quickchartButtonEl.classList.add('colab-df-quickchart-complete');\n",
              "    }\n",
              "    (() => {\n",
              "      let quickchartButtonEl =\n",
              "        document.querySelector('#df-f370a443-8d8d-4b33-b719-8f93edbed653 button');\n",
              "      quickchartButtonEl.style.display =\n",
              "        google.colab.kernel.accessAllowed ? 'block' : 'none';\n",
              "    })();\n",
              "  </script>\n",
              "</div>\n",
              "    </div>\n",
              "  </div>\n"
            ],
            "application/vnd.google.colaboratory.intrinsic+json": {
              "type": "dataframe",
              "variable_name": "adult4",
              "summary": "{\n  \"name\": \"adult4\",\n  \"rows\": 25000,\n  \"fields\": [\n    {\n      \"column\": \"age\",\n      \"properties\": {\n        \"dtype\": \"number\",\n        \"std\": 13,\n        \"min\": 17,\n        \"max\": 90,\n        \"num_unique_values\": 72,\n        \"samples\": [\n          28,\n          69,\n          35\n        ],\n        \"semantic_type\": \"\",\n        \"description\": \"\"\n      }\n    },\n    {\n      \"column\": \"workclass\",\n      \"properties\": {\n        \"dtype\": \"category\",\n        \"num_unique_values\": 9,\n        \"samples\": [\n          \"Without-pay\",\n          \"Self-emp-not-inc\",\n          \"?\"\n        ],\n        \"semantic_type\": \"\",\n        \"description\": \"\"\n      }\n    },\n    {\n      \"column\": \"education\",\n      \"properties\": {\n        \"dtype\": \"category\",\n        \"num_unique_values\": 16,\n        \"samples\": [\n          \"Bachelors\",\n          \"HS-grad\",\n          \"Some-college\"\n        ],\n        \"semantic_type\": \"\",\n        \"description\": \"\"\n      }\n    },\n    {\n      \"column\": \"educationyears\",\n      \"properties\": {\n        \"dtype\": \"number\",\n        \"std\": 2,\n        \"min\": 1,\n        \"max\": 16,\n        \"num_unique_values\": 16,\n        \"samples\": [\n          13,\n          9,\n          10\n        ],\n        \"semantic_type\": \"\",\n        \"description\": \"\"\n      }\n    },\n    {\n      \"column\": \"maritalstatus\",\n      \"properties\": {\n        \"dtype\": \"category\",\n        \"num_unique_values\": 7,\n        \"samples\": [\n          \"Never-married\",\n          \"Married-civ-spouse\",\n          \"Married-AF-spouse\"\n        ],\n        \"semantic_type\": \"\",\n        \"description\": \"\"\n      }\n    },\n    {\n      \"column\": \"occupation\",\n      \"properties\": {\n        \"dtype\": \"category\",\n        \"num_unique_values\": 15,\n        \"samples\": [\n          \"Machine-op-inspct\",\n          \"?\",\n          \"Adm-clerical\"\n        ],\n        \"semantic_type\": \"\",\n        \"description\": \"\"\n      }\n    },\n    {\n      \"column\": \"relationship\",\n      \"properties\": {\n        \"dtype\": \"category\",\n        \"num_unique_values\": 6,\n        \"samples\": [\n          \"Not-in-family\",\n          \"Husband\",\n          \"Other-relative\"\n        ],\n        \"semantic_type\": \"\",\n        \"description\": \"\"\n      }\n    },\n    {\n      \"column\": \"race\",\n      \"properties\": {\n        \"dtype\": \"category\",\n        \"num_unique_values\": 5,\n        \"samples\": [\n          \"Black\",\n          \"Other\",\n          \"Asian-Pac-Islander\"\n        ],\n        \"semantic_type\": \"\",\n        \"description\": \"\"\n      }\n    },\n    {\n      \"column\": \"sex\",\n      \"properties\": {\n        \"dtype\": \"category\",\n        \"num_unique_values\": 2,\n        \"samples\": [\n          \"Female\",\n          \"Male\"\n        ],\n        \"semantic_type\": \"\",\n        \"description\": \"\"\n      }\n    },\n    {\n      \"column\": \"hoursperweek\",\n      \"properties\": {\n        \"dtype\": \"number\",\n        \"std\": 12,\n        \"min\": 1,\n        \"max\": 99,\n        \"num_unique_values\": 94,\n        \"samples\": [\n          6,\n          22\n        ],\n        \"semantic_type\": \"\",\n        \"description\": \"\"\n      }\n    },\n    {\n      \"column\": \"nativecountry\",\n      \"properties\": {\n        \"dtype\": \"category\",\n        \"num_unique_values\": 42,\n        \"samples\": [\n          \"Brazil\",\n          \"Philippines\"\n        ],\n        \"semantic_type\": \"\",\n        \"description\": \"\"\n      }\n    },\n    {\n      \"column\": \"incomeUSD\",\n      \"properties\": {\n        \"dtype\": \"number\",\n        \"std\": 44128,\n        \"min\": 20002,\n        \"max\": 199960,\n        \"num_unique_values\": 20000,\n        \"samples\": [\n          45247,\n          28291\n        ],\n        \"semantic_type\": \"\",\n        \"description\": \"\"\n      }\n    }\n  ]\n}"
            }
          },
          "metadata": {},
          "execution_count": 100
        }
      ]
    },
    {
      "cell_type": "code",
      "source": [
        "# Scatterplot\n",
        "plt.figure(figsize=(10, 6))\n",
        "plt.scatter(adult4['sex'], adult4['maritalstatus'], alpha=.02)\n",
        "plt.title('Scatter Plot of Sex vs. Marital Status ')\n",
        "plt.xlabel('Sex of employee')\n",
        "plt.ylabel('Marital Status')\n",
        "plt.grid(True)\n",
        "plt.show()"
      ],
      "metadata": {
        "colab": {
          "base_uri": "https://localhost:8080/",
          "height": 494
        },
        "id": "SXjQKWJDi6xB",
        "outputId": "9d7c3b4e-4b96-46dc-f9ee-1f52cc76213a"
      },
      "execution_count": null,
      "outputs": [
        {
          "output_type": "display_data",
          "data": {
            "text/plain": [
              "<Figure size 1000x600 with 1 Axes>"
            ],
            "image/png": "[encoded data removed]"
          },
          "metadata": {}
        }
      ]
    },
    {
      "cell_type": "code",
      "source": [
        "# Create a subset of the dataset with numeric variables and 'sex'\n",
        "adult_num = adult4[['age', 'educationyears', 'hoursperweek', 'incomeUSD', 'sex']]"
      ],
      "metadata": {
        "id": "RXrLkOKtnAZD"
      },
      "execution_count": null,
      "outputs": []
    },
    {
      "cell_type": "code",
      "source": [
        "#data as adult dataframe\n",
        "dfTrain1 = adult_num[:100]\n",
        "dfTest1 = adult_num[50:100]\n",
        "dfCheck1 = adult4[:100]\n",
        "\n"
      ],
      "metadata": {
        "id": "2asdzMfugOlV"
      },
      "execution_count": null,
      "outputs": []
    },
    {
      "cell_type": "code",
      "source": [
        "train_y = np.asarray(dfTrain1['sex'])\n",
        "train_x = np.asarray(dfTrain1.drop('sex', axis=1))\n",
        "test_y = np.asarray(dfTest1['sex'])\n",
        "test_x = np.asarray(dfTest1.drop('sex', axis=1))\n",
        "train_x"
      ],
      "metadata": {
        "colab": {
          "base_uri": "https://localhost:8080/"
        },
        "id": "R0xafFgRpll4",
        "outputId": "cc841955-6216-454f-f4a5-1eb9e68c38b1"
      },
      "execution_count": null,
      "outputs": [
        {
          "output_type": "execute_result",
          "data": {
            "text/plain": [
              "array([[    39,     13,     40,  43747],\n",
              "       [    50,     13,     13,  38907],\n",
              "       [    38,      9,     40,  25055],\n",
              "       [    53,      7,     40,  26733],\n",
              "       [    28,     13,     40,  23429],\n",
              "       [    37,     14,     40,  36970],\n",
              "       [    49,      5,     16,  45531],\n",
              "       [    52,      9,     45, 103612],\n",
              "       [    31,     14,     50,  64478],\n",
              "       [    42,     13,     40,  87200],\n",
              "       [    37,     10,     80, 167514],\n",
              "       [    30,     13,     40, 189843],\n",
              "       [    23,     13,     30,  35813],\n",
              "       [    32,     12,     50,  22373],\n",
              "       [    40,     11,     40, 115887],\n",
              "       [    34,      4,     45,  26294],\n",
              "       [    25,      9,     35,  36496],\n",
              "       [    32,      9,     40,  21612],\n",
              "       [    38,      7,     50,  23383],\n",
              "       [    43,     14,     45, 137281],\n",
              "       [    40,     16,     60,  96050],\n",
              "       [    54,      9,     20,  45278],\n",
              "       [    35,      5,     40,  37318],\n",
              "       [    43,      7,     40,  46082],\n",
              "       [    59,      9,     40,  43226],\n",
              "       [    56,     13,     40, 178573],\n",
              "       [    19,      9,     40,  20810],\n",
              "       [    54,     10,     60, 134092],\n",
              "       [    39,      9,     80,  22624],\n",
              "       [    49,      9,     40,  34644],\n",
              "       [    23,     12,     52,  29433],\n",
              "       [    20,     10,     44,  34800],\n",
              "       [    45,     13,     40,  40889],\n",
              "       [    30,     10,     40,  43361],\n",
              "       [    22,     10,     15,  26573],\n",
              "       [    48,      7,     40,  49183],\n",
              "       [    21,     10,     40,  32691],\n",
              "       [    19,      9,     25,  42796],\n",
              "       [    31,     10,     38, 183292],\n",
              "       [    48,     12,     40,  49291],\n",
              "       [    31,      5,     43,  31109],\n",
              "       [    53,     13,     40,  21545],\n",
              "       [    24,     13,     50,  36484],\n",
              "       [    49,      9,     40,  40078],\n",
              "       [    25,      9,     35,  26816],\n",
              "       [    57,     13,     40,  59836],\n",
              "       [    53,      9,     38,  31976],\n",
              "       [    44,     14,     40,  26595],\n",
              "       [    41,     11,     40,  48577],\n",
              "       [    29,     11,     43,  40118],\n",
              "       [    25,     10,     40,  41714],\n",
              "       [    18,      9,     30,  47875],\n",
              "       [    47,     15,     60, 144695],\n",
              "       [    50,     13,     55, 123893],\n",
              "       [    47,      9,     60,  32786],\n",
              "       [    43,     10,     40,  68050],\n",
              "       [    46,      3,     40,  38617],\n",
              "       [    35,     11,     40,  45529],\n",
              "       [    41,      9,     48,  48556],\n",
              "       [    30,      9,     40,  38252],\n",
              "       [    30,     13,     40,  30820],\n",
              "       [    32,      4,     40,  21248],\n",
              "       [    48,      9,     40,  43374],\n",
              "       [    42,     16,     45, 151317],\n",
              "       [    29,     10,     58,  22193],\n",
              "       [    36,      9,     40,  45469],\n",
              "       [    28,     10,     40,  41766],\n",
              "       [    53,      9,     40, 111034],\n",
              "       [    49,     10,     50, 101075],\n",
              "       [    25,     10,     40,  42975],\n",
              "       [    19,     10,     32,  41013],\n",
              "       [    31,     13,     40,  33571],\n",
              "       [    29,     13,     70, 190337],\n",
              "       [    23,     10,     40,  23773],\n",
              "       [    79,     10,     20,  49908],\n",
              "       [    27,      9,     40,  34334],\n",
              "       [    40,     12,     40,  47470],\n",
              "       [    67,      6,      2,  40188],\n",
              "       [    18,      7,     22,  44387],\n",
              "       [    31,      4,     40,  40938],\n",
              "       [    18,      9,     30,  33856],\n",
              "       [    52,     13,     40,  38723],\n",
              "       [    46,      9,     40,  47834],\n",
              "       [    59,      9,     48,  21240],\n",
              "       [    44,      9,     40, 138270],\n",
              "       [    53,      9,     35,  37127],\n",
              "       [    49,      9,     40, 122663],\n",
              "       [    33,     14,     50,  23141],\n",
              "       [    30,      5,     40,  27950],\n",
              "       [    43,     16,     50,  82184],\n",
              "       [    57,     11,     40,  27477],\n",
              "       [    37,     10,     40,  25611],\n",
              "       [    28,     10,     25,  33165],\n",
              "       [    30,      9,     35,  24504],\n",
              "       [    34,     13,     40, 155965],\n",
              "       [    29,     10,     50,  41347],\n",
              "       [    48,     16,     60, 107751],\n",
              "       [    37,     10,     48, 125018],\n",
              "       [    48,     12,     40,  42836],\n",
              "       [    32,      9,     40,  48865]])"
            ]
          },
          "metadata": {},
          "execution_count": 114
        }
      ]
    },
    {
      "cell_type": "code",
      "source": [
        "means = np.mean(train_x, axis=0)\n",
        "std = np.std(train_x, axis=0)\n",
        "train_x = (train_x - means) / std\n",
        "test_x = (test_x - means) / std\n",
        "train_x\n"
      ],
      "metadata": {
        "colab": {
          "base_uri": "https://localhost:8080/"
        },
        "id": "WEXjTe9Hpvz2",
        "outputId": "bc88c886-ec72-45ae-a925-242c2000bedf"
      },
      "execution_count": null,
      "outputs": [
        {
          "output_type": "execute_result",
          "data": {
            "text/plain": [
              "array([[ 0.05025764,  1.00238937, -0.10886969, -0.32854447],\n",
              "       [ 0.95654292,  1.00238937, -2.4604551 , -0.43864452],\n",
              "       [-0.03213193, -0.43989749, -0.10886969, -0.75374905],\n",
              "       [ 1.20371163, -1.16104092, -0.10886969, -0.715578  ],\n",
              "       [-0.85602764,  1.00238937, -0.10886969, -0.7907372 ],\n",
              "       [-0.1145215 ,  1.36296108, -0.10886969, -0.48270729],\n",
              "       [ 0.87415335, -1.88218435, -2.19916783, -0.28796213],\n",
              "       [ 1.12132206, -0.43989749,  0.32660908,  1.03326123],\n",
              "       [-0.60885893,  1.36296108,  0.76208786,  0.14304317],\n",
              "       [ 0.29742635,  1.00238937, -0.10886969,  0.65992196],\n",
              "       [-0.1145215 , -0.07932578,  3.37496053,  2.48690038],\n",
              "       [-0.6912485 ,  1.00238937, -0.10886969,  2.99483923],\n",
              "       [-1.26797549,  1.00238937, -0.97982725, -0.50902666],\n",
              "       [-0.52646936,  0.64181765,  0.76208786, -0.81475903],\n",
              "       [ 0.13264721,  0.28124594, -0.10886969,  1.31249225],\n",
              "       [-0.36169022, -2.24275606,  0.32660908, -0.72556434],\n",
              "       [-1.10319635, -0.43989749, -0.54434847, -0.49348981],\n",
              "       [-0.52646936, -0.43989749, -0.10886969, -0.83207022],\n",
              "       [-0.03213193, -1.16104092,  0.76208786, -0.79178361],\n",
              "       [ 0.37981592,  1.36296108,  0.32660908,  1.79916177],\n",
              "       [ 0.13264721,  2.08410451,  1.63304542,  0.86124127],\n",
              "       [ 1.2861012 , -0.43989749, -1.85078481, -0.29371736],\n",
              "       [-0.27930064, -1.88218435, -0.10886969, -0.474791  ],\n",
              "       [ 0.37981592, -1.16104092, -0.10886969, -0.27542802],\n",
              "       [ 1.69804905, -0.43989749, -0.10886969, -0.34039615],\n",
              "       [ 1.45088034,  1.00238937, -0.10886969,  2.7384699 ],\n",
              "       [-1.59753378, -0.43989749, -0.10886969, -0.85031407],\n",
              "       [ 1.2861012 , -0.07932578,  1.63304542,  1.72661858],\n",
              "       [ 0.05025764, -0.43989749,  3.37496053, -0.8090493 ],\n",
              "       [ 0.87415335, -0.43989749, -0.10886969, -0.53561901],\n",
              "       [-1.26797549,  0.64181765,  0.93627937, -0.65415855],\n",
              "       [-1.51514421, -0.07932578,  0.23951333, -0.53207033],\n",
              "       [ 0.54459506,  1.00238937, -0.10886969, -0.39355809],\n",
              "       [-0.6912485 , -0.07932578, -0.10886969, -0.33732517],\n",
              "       [-1.35036506, -0.07932578, -2.28626359, -0.71921767],\n",
              "       [ 0.79176378, -1.16104092, -0.10886969, -0.20488664],\n",
              "       [-1.43275464, -0.07932578, -0.10886969, -0.58004574],\n",
              "       [-1.59753378, -0.43989749, -1.41530603, -0.35017776],\n",
              "       [-0.60885893, -0.07932578, -0.28306121,  2.84581745],\n",
              "       [ 0.79176378,  0.64181765, -0.10886969, -0.20242986],\n",
              "       [-0.60885893, -1.88218435,  0.15241757, -0.61603299],\n",
              "       [ 1.20371163,  1.00238937, -0.10886969, -0.83359433],\n",
              "       [-1.18558592,  1.00238937,  0.76208786, -0.49376279],\n",
              "       [ 0.87415335, -0.43989749, -0.10886969, -0.41200668],\n",
              "       [-1.10319635, -0.43989749, -0.54434847, -0.71368992],\n",
              "       [ 1.53326991,  1.00238937, -0.10886969,  0.03744721],\n",
              "       [ 1.20371163, -0.43989749, -0.28306121, -0.59631052],\n",
              "       [ 0.46220549,  1.36296108, -0.10886969, -0.71871721],\n",
              "       [ 0.21503678,  0.28124594, -0.10886969, -0.2186719 ],\n",
              "       [-0.77363807,  0.28124594,  0.15241757, -0.41109676],\n",
              "       [-1.10319635, -0.07932578, -0.10886969, -0.37479104],\n",
              "       [-1.67992335, -0.43989749, -0.97982725, -0.23464095],\n",
              "       [ 0.7093742 ,  1.72353279,  1.63304542,  1.96781503],\n",
              "       [ 0.95654292,  1.00238937,  1.19756664,  1.49461229],\n",
              "       [ 0.7093742 , -0.43989749,  1.63304542, -0.57788469],\n",
              "       [ 0.37981592, -0.07932578, -0.10886969,  0.22429883],\n",
              "       [ 0.62698463, -2.60332778, -0.10886969, -0.44524142],\n",
              "       [-0.27930064,  0.28124594, -0.10886969, -0.28800763],\n",
              "       [ 0.21503678, -0.43989749,  0.58789635, -0.2191496 ],\n",
              "       [-0.6912485 , -0.43989749, -0.10886969, -0.45354442],\n",
              "       [-0.6912485 ,  1.00238937, -0.10886969, -0.62260715],\n",
              "       [-0.52646936, -2.24275606, -0.10886969, -0.84035047],\n",
              "       [ 0.79176378, -0.43989749, -0.10886969, -0.33702945],\n",
              "       [ 0.29742635,  2.08410451,  0.32660908,  2.11845192],\n",
              "       [-0.77363807, -0.07932578,  1.45885391, -0.81885366],\n",
              "       [-0.19691107, -0.43989749, -0.10886969, -0.28937251],\n",
              "       [-0.85602764, -0.07932578, -0.10886969, -0.37360815],\n",
              "       [ 1.20371163, -0.43989749, -0.10886969,  1.20209647],\n",
              "       [ 0.87415335, -0.07932578,  0.76208786,  0.97554969],\n",
              "       [-1.10319635, -0.07932578, -0.10886969, -0.34610588],\n",
              "       [-1.59753378, -0.07932578, -0.80563574, -0.39073735],\n",
              "       [-0.60885893,  1.00238937, -0.10886969, -0.56002755],\n",
              "       [-0.77363807,  1.00238937,  2.50400298,  3.00607672],\n",
              "       [-1.26797549, -0.07932578, -0.10886969, -0.78291191],\n",
              "       [ 3.34584047, -0.07932578, -1.85078481, -0.18839438],\n",
              "       [-0.93841721, -0.43989749, -0.10886969, -0.54267087],\n",
              "       [ 0.13264721,  0.64181765, -0.10886969, -0.24385387],\n",
              "       [ 2.35716562, -1.52161263, -3.41850841, -0.4095044 ],\n",
              "       [-1.67992335, -1.16104092, -1.6765933 , -0.31398578],\n",
              "       [-0.60885893, -2.24275606, -0.10886969, -0.39244344],\n",
              "       [-1.67992335, -0.43989749, -0.97982725, -0.55354439],\n",
              "       [ 1.12132206,  1.00238937, -0.10886969, -0.44283014],\n",
              "       [ 0.62698463, -0.43989749, -0.10886969, -0.23557362],\n",
              "       [ 1.69804905, -0.43989749,  0.58789635, -0.84053245],\n",
              "       [ 0.46220549, -0.43989749, -0.10886969,  1.82165949],\n",
              "       [ 1.20371163, -0.43989749, -0.54434847, -0.47913586],\n",
              "       [ 0.87415335, -0.43989749, -0.10886969,  1.46663232],\n",
              "       [-0.44407979,  1.36296108,  0.76208786, -0.79728861],\n",
              "       [-0.6912485 , -1.88218435, -0.10886969, -0.68789375],\n",
              "       [ 0.37981592,  2.08410451,  0.76208786,  0.54581827],\n",
              "       [ 1.53326991,  0.28124594, -0.10886969, -0.69865352],\n",
              "       [-0.1145215 , -0.07932578, -0.10886969, -0.74110119],\n",
              "       [-0.85602764, -0.07932578, -1.41530603, -0.56926322],\n",
              "       [-0.6912485 , -0.43989749, -0.54434847, -0.76628316],\n",
              "       [-0.36169022,  1.00238937, -0.10886969,  2.22418437],\n",
              "       [-0.77363807, -0.07932578,  0.76208786, -0.38313953],\n",
              "       [ 0.79176378,  2.08410451,  1.63304542,  1.12741497],\n",
              "       [-0.1145215 , -0.07932578,  0.58789635,  1.52020373],\n",
              "       [ 0.79176378,  0.64181765, -0.10886969, -0.34926785],\n",
              "       [-0.52646936, -0.43989749, -0.10886969, -0.21212049]])"
            ]
          },
          "metadata": {},
          "execution_count": 115
        }
      ]
    },
    {
      "cell_type": "code",
      "source": [
        "#Logistic Regression\n",
        "model = LogisticRegression()\n",
        "model.fit(train_x, train_y)"
      ],
      "metadata": {
        "colab": {
          "base_uri": "https://localhost:8080/",
          "height": 74
        },
        "id": "MdGRPzzxqFte",
        "outputId": "40de26d6-e1d6-4fda-8302-c1b83f079567"
      },
      "execution_count": null,
      "outputs": [
        {
          "output_type": "execute_result",
          "data": {
            "text/plain": [
              "LogisticRegression()"
            ],
            "text/html": [
              "<style>#sk-container-id-2 {color: black;background-color: white;}#sk-container-id-2 pre{padding: 0;}#sk-container-id-2 div.sk-toggleable {background-color: white;}#sk-container-id-2 label.sk-toggleable__label {cursor: pointer;display: block;width: 100%;margin-bottom: 0;padding: 0.3em;box-sizing: border-box;text-align: center;}#sk-container-id-2 label.sk-toggleable__label-arrow:before {content: \"▸\";float: left;margin-right: 0.25em;color: #696969;}#sk-container-id-2 label.sk-toggleable__label-arrow:hover:before {color: black;}#sk-container-id-2 div.sk-estimator:hover label.sk-toggleable__label-arrow:before {color: black;}#sk-container-id-2 div.sk-toggleable__content {max-height: 0;max-width: 0;overflow: hidden;text-align: left;background-color: #f0f8ff;}#sk-container-id-2 div.sk-toggleable__content pre {margin: 0.2em;color: black;border-radius: 0.25em;background-color: #f0f8ff;}#sk-container-id-2 input.sk-toggleable__control:checked~div.sk-toggleable__content {max-height: 200px;max-width: 100%;overflow: auto;}#sk-container-id-2 input.sk-toggleable__control:checked~label.sk-toggleable__label-arrow:before {content: \"▾\";}#sk-container-id-2 div.sk-estimator input.sk-toggleable__control:checked~label.sk-toggleable__label {background-color: #d4ebff;}#sk-container-id-2 div.sk-label input.sk-toggleable__control:checked~label.sk-toggleable__label {background-color: #d4ebff;}#sk-container-id-2 input.sk-hidden--visually {border: 0;clip: rect(1px 1px 1px 1px);clip: rect(1px, 1px, 1px, 1px);height: 1px;margin: -1px;overflow: hidden;padding: 0;position: absolute;width: 1px;}#sk-container-id-2 div.sk-estimator {font-family: monospace;background-color: #f0f8ff;border: 1px dotted black;border-radius: 0.25em;box-sizing: border-box;margin-bottom: 0.5em;}#sk-container-id-2 div.sk-estimator:hover {background-color: #d4ebff;}#sk-container-id-2 div.sk-parallel-item::after {content: \"\";width: 100%;border-bottom: 1px solid gray;flex-grow: 1;}#sk-container-id-2 div.sk-label:hover label.sk-toggleable__label {background-color: #d4ebff;}#sk-container-id-2 div.sk-serial::before {content: \"\";position: absolute;border-left: 1px solid gray;box-sizing: border-box;top: 0;bottom: 0;left: 50%;z-index: 0;}#sk-container-id-2 div.sk-serial {display: flex;flex-direction: column;align-items: center;background-color: white;padding-right: 0.2em;padding-left: 0.2em;position: relative;}#sk-container-id-2 div.sk-item {position: relative;z-index: 1;}#sk-container-id-2 div.sk-parallel {display: flex;align-items: stretch;justify-content: center;background-color: white;position: relative;}#sk-container-id-2 div.sk-item::before, #sk-container-id-2 div.sk-parallel-item::before {content: \"\";position: absolute;border-left: 1px solid gray;box-sizing: border-box;top: 0;bottom: 0;left: 50%;z-index: -1;}#sk-container-id-2 div.sk-parallel-item {display: flex;flex-direction: column;z-index: 1;position: relative;background-color: white;}#sk-container-id-2 div.sk-parallel-item:first-child::after {align-self: flex-end;width: 50%;}#sk-container-id-2 div.sk-parallel-item:last-child::after {align-self: flex-start;width: 50%;}#sk-container-id-2 div.sk-parallel-item:only-child::after {width: 0;}#sk-container-id-2 div.sk-dashed-wrapped {border: 1px dashed gray;margin: 0 0.4em 0.5em 0.4em;box-sizing: border-box;padding-bottom: 0.4em;background-color: white;}#sk-container-id-2 div.sk-label label {font-family: monospace;font-weight: bold;display: inline-block;line-height: 1.2em;}#sk-container-id-2 div.sk-label-container {text-align: center;}#sk-container-id-2 div.sk-container {/* jupyter's `normalize.less` sets `[hidden] { display: none; }` but bootstrap.min.css set `[hidden] { display: none !important; }` so we also need the `!important` here to be able to override the default hidden behavior on the sphinx rendered scikit-learn.org. See: https://github.com/scikit-learn/scikit-learn/issues/21755 */display: inline-block !important;position: relative;}#sk-container-id-2 div.sk-text-repr-fallback {display: none;}</style><div id=\"sk-container-id-2\" class=\"sk-top-container\"><div class=\"sk-text-repr-fallback\"><pre>LogisticRegression()</pre><b>In a Jupyter environment, please rerun this cell to show the HTML representation or trust the notebook. <br />On GitHub, the HTML representation is unable to render, please try loading this page with nbviewer.org.</b></div><div class=\"sk-container\" hidden><div class=\"sk-item\"><div class=\"sk-estimator sk-toggleable\"><input class=\"sk-toggleable__control sk-hidden--visually\" id=\"sk-estimator-id-2\" type=\"checkbox\" checked><label for=\"sk-estimator-id-2\" class=\"sk-toggleable__label sk-toggleable__label-arrow\">LogisticRegression</label><div class=\"sk-toggleable__content\"><pre>LogisticRegression()</pre></div></div></div></div></div>"
            ]
          },
          "metadata": {},
          "execution_count": 116
        }
      ]
    },
    {
      "cell_type": "code",
      "source": [
        "# Evaluate the model\n",
        "print(\"Accuracy:\", accuracy * 100, \"%\")\n",
        "print(\"Predictions:\", predictions)"
      ],
      "metadata": {
        "colab": {
          "base_uri": "https://localhost:8080/"
        },
        "id": "IfSxOdcbqYPR",
        "outputId": "bb52b19a-830c-4879-8604-0af1fae17784"
      },
      "execution_count": null,
      "outputs": [
        {
          "output_type": "stream",
          "name": "stdout",
          "text": [
            "Accuracy: 86.0 %\n",
            "Predictions: ['Male' 'Male' 'Male' 'Male' 'Male' 'Male' 'Male' 'Male' 'Male' 'Male'\n",
            " 'Male' 'Male' 'Male' 'Male' 'Male' 'Male' 'Male' 'Male' 'Male' 'Male'\n",
            " 'Male' 'Male' 'Male' 'Male' 'Male' 'Male' 'Male' 'Female' 'Male' 'Male'\n",
            " 'Male' 'Male' 'Male' 'Male' 'Male' 'Male' 'Male' 'Male' 'Male' 'Male'\n",
            " 'Male' 'Male' 'Male' 'Male' 'Male' 'Male' 'Male' 'Male' 'Male' 'Male']\n"
          ]
        }
      ]
    },
    {
      "cell_type": "code",
      "source": [
        "# Create a DataFrame to compare predictions with actual values\n",
        "real_vs_predicted = pd.DataFrame({'Predicted': predictions, 'Actual': test_y})\n",
        "realvsmodel.head(25)\n",
        "# print(real_vs_predicted.head(25)) # Another way to show the values on screen"
      ],
      "metadata": {
        "colab": {
          "base_uri": "https://localhost:8080/",
          "height": 833
        },
        "id": "nNV1CH87rPHa",
        "outputId": "ab0f1b92-7f86-4b73-cc7a-9e8884a6c82f"
      },
      "execution_count": null,
      "outputs": [
        {
          "output_type": "execute_result",
          "data": {
            "text/plain": [
              "    predicted  original\n",
              "0           1         0\n",
              "1           1         1\n",
              "2           0         0\n",
              "3           1         1\n",
              "4           0         0\n",
              "5           0         0\n",
              "6           0         0\n",
              "7           1         1\n",
              "8           0         0\n",
              "9           0         0\n",
              "10          0         0\n",
              "11          0         1\n",
              "12          0         0\n",
              "13          1         1\n",
              "14          1         1\n",
              "15          1         0\n",
              "16          0         0\n",
              "17          0         0\n",
              "18          0         0\n",
              "19          0         0\n",
              "20          1         1\n",
              "21          1         1\n",
              "22          1         1\n",
              "23          0         0\n",
              "24          1         1"
            ],
            "text/html": [
              "\n",
              "  <div id=\"df-01e8d71d-4268-4b64-8d73-f2b74124cddc\" class=\"colab-df-container\">\n",
              "    <div>\n",
              "<style scoped>\n",
              "    .dataframe tbody tr th:only-of-type {\n",
              "        vertical-align: middle;\n",
              "    }\n",
              "\n",
              "    .dataframe tbody tr th {\n",
              "        vertical-align: top;\n",
              "    }\n",
              "\n",
              "    .dataframe thead th {\n",
              "        text-align: right;\n",
              "    }\n",
              "</style>\n",
              "<table border=\"1\" class=\"dataframe\">\n",
              "  <thead>\n",
              "    <tr style=\"text-align: right;\">\n",
              "      <th></th>\n",
              "      <th>predicted</th>\n",
              "      <th>original</th>\n",
              "    </tr>\n",
              "  </thead>\n",
              "  <tbody>\n",
              "    <tr>\n",
              "      <th>0</th>\n",
              "      <td>1</td>\n",
              "      <td>0</td>\n",
              "    </tr>\n",
              "    <tr>\n",
              "      <th>1</th>\n",
              "      <td>1</td>\n",
              "      <td>1</td>\n",
              "    </tr>\n",
              "    <tr>\n",
              "      <th>2</th>\n",
              "      <td>0</td>\n",
              "      <td>0</td>\n",
              "    </tr>\n",
              "    <tr>\n",
              "      <th>3</th>\n",
              "      <td>1</td>\n",
              "      <td>1</td>\n",
              "    </tr>\n",
              "    <tr>\n",
              "      <th>4</th>\n",
              "      <td>0</td>\n",
              "      <td>0</td>\n",
              "    </tr>\n",
              "    <tr>\n",
              "      <th>5</th>\n",
              "      <td>0</td>\n",
              "      <td>0</td>\n",
              "    </tr>\n",
              "    <tr>\n",
              "      <th>6</th>\n",
              "      <td>0</td>\n",
              "      <td>0</td>\n",
              "    </tr>\n",
              "    <tr>\n",
              "      <th>7</th>\n",
              "      <td>1</td>\n",
              "      <td>1</td>\n",
              "    </tr>\n",
              "    <tr>\n",
              "      <th>8</th>\n",
              "      <td>0</td>\n",
              "      <td>0</td>\n",
              "    </tr>\n",
              "    <tr>\n",
              "      <th>9</th>\n",
              "      <td>0</td>\n",
              "      <td>0</td>\n",
              "    </tr>\n",
              "    <tr>\n",
              "      <th>10</th>\n",
              "      <td>0</td>\n",
              "      <td>0</td>\n",
              "    </tr>\n",
              "    <tr>\n",
              "      <th>11</th>\n",
              "      <td>0</td>\n",
              "      <td>1</td>\n",
              "    </tr>\n",
              "    <tr>\n",
              "      <th>12</th>\n",
              "      <td>0</td>\n",
              "      <td>0</td>\n",
              "    </tr>\n",
              "    <tr>\n",
              "      <th>13</th>\n",
              "      <td>1</td>\n",
              "      <td>1</td>\n",
              "    </tr>\n",
              "    <tr>\n",
              "      <th>14</th>\n",
              "      <td>1</td>\n",
              "      <td>1</td>\n",
              "    </tr>\n",
              "    <tr>\n",
              "      <th>15</th>\n",
              "      <td>1</td>\n",
              "      <td>0</td>\n",
              "    </tr>\n",
              "    <tr>\n",
              "      <th>16</th>\n",
              "      <td>0</td>\n",
              "      <td>0</td>\n",
              "    </tr>\n",
              "    <tr>\n",
              "      <th>17</th>\n",
              "      <td>0</td>\n",
              "      <td>0</td>\n",
              "    </tr>\n",
              "    <tr>\n",
              "      <th>18</th>\n",
              "      <td>0</td>\n",
              "      <td>0</td>\n",
              "    </tr>\n",
              "    <tr>\n",
              "      <th>19</th>\n",
              "      <td>0</td>\n",
              "      <td>0</td>\n",
              "    </tr>\n",
              "    <tr>\n",
              "      <th>20</th>\n",
              "      <td>1</td>\n",
              "      <td>1</td>\n",
              "    </tr>\n",
              "    <tr>\n",
              "      <th>21</th>\n",
              "      <td>1</td>\n",
              "      <td>1</td>\n",
              "    </tr>\n",
              "    <tr>\n",
              "      <th>22</th>\n",
              "      <td>1</td>\n",
              "      <td>1</td>\n",
              "    </tr>\n",
              "    <tr>\n",
              "      <th>23</th>\n",
              "      <td>0</td>\n",
              "      <td>0</td>\n",
              "    </tr>\n",
              "    <tr>\n",
              "      <th>24</th>\n",
              "      <td>1</td>\n",
              "      <td>1</td>\n",
              "    </tr>\n",
              "  </tbody>\n",
              "</table>\n",
              "</div>\n",
              "    <div class=\"colab-df-buttons\">\n",
              "\n",
              "  <div class=\"colab-df-container\">\n",
              "    <button class=\"colab-df-convert\" onclick=\"convertToInteractive('df-01e8d71d-4268-4b64-8d73-f2b74124cddc')\"\n",
              "            title=\"Convert this dataframe to an interactive table.\"\n",
              "            style=\"display:none;\">\n",
              "\n",
              "  <svg xmlns=\"http://www.w3.org/2000/svg\" height=\"24px\" viewBox=\"0 -960 960 960\">\n",
              "    <path d=\"M120-120v-720h720v720H120Zm60-500h600v-160H180v160Zm220 220h160v-160H400v160Zm0 220h160v-160H400v160ZM180-400h160v-160H180v160Zm440 0h160v-160H620v160ZM180-180h160v-160H180v160Zm440 0h160v-160H620v160Z\"/>\n",
              "  </svg>\n",
              "    </button>\n",
              "\n",
              "  <style>\n",
              "    .colab-df-container {\n",
              "      display:flex;\n",
              "      gap: 12px;\n",
              "    }\n",
              "\n",
              "    .colab-df-convert {\n",
              "      background-color: #E8F0FE;\n",
              "      border: none;\n",
              "      border-radius: 50%;\n",
              "      cursor: pointer;\n",
              "      display: none;\n",
              "      fill: #1967D2;\n",
              "      height: 32px;\n",
              "      padding: 0 0 0 0;\n",
              "      width: 32px;\n",
              "    }\n",
              "\n",
              "    .colab-df-convert:hover {\n",
              "      background-color: #E2EBFA;\n",
              "      box-shadow: 0px 1px 2px rgba(60, 64, 67, 0.3), 0px 1px 3px 1px rgba(60, 64, 67, 0.15);\n",
              "      fill: #174EA6;\n",
              "    }\n",
              "\n",
              "    .colab-df-buttons div {\n",
              "      margin-bottom: 4px;\n",
              "    }\n",
              "\n",
              "    [theme=dark] .colab-df-convert {\n",
              "      background-color: #3B4455;\n",
              "      fill: #D2E3FC;\n",
              "    }\n",
              "\n",
              "    [theme=dark] .colab-df-convert:hover {\n",
              "      background-color: #434B5C;\n",
              "      box-shadow: 0px 1px 3px 1px rgba(0, 0, 0, 0.15);\n",
              "      filter: drop-shadow(0px 1px 2px rgba(0, 0, 0, 0.3));\n",
              "      fill: #FFFFFF;\n",
              "    }\n",
              "  </style>\n",
              "\n",
              "    <script>\n",
              "      const buttonEl =\n",
              "        document.querySelector('#df-01e8d71d-4268-4b64-8d73-f2b74124cddc button.colab-df-convert');\n",
              "      buttonEl.style.display =\n",
              "        google.colab.kernel.accessAllowed ? 'block' : 'none';\n",
              "\n",
              "      async function convertToInteractive(key) {\n",
              "        const element = document.querySelector('#df-01e8d71d-4268-4b64-8d73-f2b74124cddc');\n",
              "        const dataTable =\n",
              "          await google.colab.kernel.invokeFunction('convertToInteractive',\n",
              "                                                    [key], {});\n",
              "        if (!dataTable) return;\n",
              "\n",
              "        const docLinkHtml = 'Like what you see? Visit the ' +\n",
              "          '<a target=\"_blank\" href=https://colab.research.google.com/notebooks/data_table.ipynb>data table notebook</a>'\n",
              "          + ' to learn more about interactive tables.';\n",
              "        element.innerHTML = '';\n",
              "        dataTable['output_type'] = 'display_data';\n",
              "        await google.colab.output.renderOutput(dataTable, element);\n",
              "        const docLink = document.createElement('div');\n",
              "        docLink.innerHTML = docLinkHtml;\n",
              "        element.appendChild(docLink);\n",
              "      }\n",
              "    </script>\n",
              "  </div>\n",
              "\n",
              "\n",
              "<div id=\"df-8ec0820f-4b18-4552-8fad-8cced7562465\">\n",
              "  <button class=\"colab-df-quickchart\" onclick=\"quickchart('df-8ec0820f-4b18-4552-8fad-8cced7562465')\"\n",
              "            title=\"Suggest charts\"\n",
              "            style=\"display:none;\">\n",
              "\n",
              "<svg xmlns=\"http://www.w3.org/2000/svg\" height=\"24px\"viewBox=\"0 0 24 24\"\n",
              "     width=\"24px\">\n",
              "    <g>\n",
              "        <path d=\"M19 3H5c-1.1 0-2 .9-2 2v14c0 1.1.9 2 2 2h14c1.1 0 2-.9 2-2V5c0-1.1-.9-2-2-2zM9 17H7v-7h2v7zm4 0h-2V7h2v10zm4 0h-2v-4h2v4z\"/>\n",
              "    </g>\n",
              "</svg>\n",
              "  </button>\n",
              "\n",
              "<style>\n",
              "  .colab-df-quickchart {\n",
              "      --bg-color: #E8F0FE;\n",
              "      --fill-color: #1967D2;\n",
              "      --hover-bg-color: #E2EBFA;\n",
              "      --hover-fill-color: #174EA6;\n",
              "      --disabled-fill-color: #AAA;\n",
              "      --disabled-bg-color: #DDD;\n",
              "  }\n",
              "\n",
              "  [theme=dark] .colab-df-quickchart {\n",
              "      --bg-color: #3B4455;\n",
              "      --fill-color: #D2E3FC;\n",
              "      --hover-bg-color: #434B5C;\n",
              "      --hover-fill-color: #FFFFFF;\n",
              "      --disabled-bg-color: #3B4455;\n",
              "      --disabled-fill-color: #666;\n",
              "  }\n",
              "\n",
              "  .colab-df-quickchart {\n",
              "    background-color: var(--bg-color);\n",
              "    border: none;\n",
              "    border-radius: 50%;\n",
              "    cursor: pointer;\n",
              "    display: none;\n",
              "    fill: var(--fill-color);\n",
              "    height: 32px;\n",
              "    padding: 0;\n",
              "    width: 32px;\n",
              "  }\n",
              "\n",
              "  .colab-df-quickchart:hover {\n",
              "    background-color: var(--hover-bg-color);\n",
              "    box-shadow: 0 1px 2px rgba(60, 64, 67, 0.3), 0 1px 3px 1px rgba(60, 64, 67, 0.15);\n",
              "    fill: var(--button-hover-fill-color);\n",
              "  }\n",
              "\n",
              "  .colab-df-quickchart-complete:disabled,\n",
              "  .colab-df-quickchart-complete:disabled:hover {\n",
              "    background-color: var(--disabled-bg-color);\n",
              "    fill: var(--disabled-fill-color);\n",
              "    box-shadow: none;\n",
              "  }\n",
              "\n",
              "  .colab-df-spinner {\n",
              "    border: 2px solid var(--fill-color);\n",
              "    border-color: transparent;\n",
              "    border-bottom-color: var(--fill-color);\n",
              "    animation:\n",
              "      spin 1s steps(1) infinite;\n",
              "  }\n",
              "\n",
              "  @keyframes spin {\n",
              "    0% {\n",
              "      border-color: transparent;\n",
              "      border-bottom-color: var(--fill-color);\n",
              "      border-left-color: var(--fill-color);\n",
              "    }\n",
              "    20% {\n",
              "      border-color: transparent;\n",
              "      border-left-color: var(--fill-color);\n",
              "      border-top-color: var(--fill-color);\n",
              "    }\n",
              "    30% {\n",
              "      border-color: transparent;\n",
              "      border-left-color: var(--fill-color);\n",
              "      border-top-color: var(--fill-color);\n",
              "      border-right-color: var(--fill-color);\n",
              "    }\n",
              "    40% {\n",
              "      border-color: transparent;\n",
              "      border-right-color: var(--fill-color);\n",
              "      border-top-color: var(--fill-color);\n",
              "    }\n",
              "    60% {\n",
              "      border-color: transparent;\n",
              "      border-right-color: var(--fill-color);\n",
              "    }\n",
              "    80% {\n",
              "      border-color: transparent;\n",
              "      border-right-color: var(--fill-color);\n",
              "      border-bottom-color: var(--fill-color);\n",
              "    }\n",
              "    90% {\n",
              "      border-color: transparent;\n",
              "      border-bottom-color: var(--fill-color);\n",
              "    }\n",
              "  }\n",
              "</style>\n",
              "\n",
              "  <script>\n",
              "    async function quickchart(key) {\n",
              "      const quickchartButtonEl =\n",
              "        document.querySelector('#' + key + ' button');\n",
              "      quickchartButtonEl.disabled = true;  // To prevent multiple clicks.\n",
              "      quickchartButtonEl.classList.add('colab-df-spinner');\n",
              "      try {\n",
              "        const charts = await google.colab.kernel.invokeFunction(\n",
              "            'suggestCharts', [key], {});\n",
              "      } catch (error) {\n",
              "        console.error('Error during call to suggestCharts:', error);\n",
              "      }\n",
              "      quickchartButtonEl.classList.remove('colab-df-spinner');\n",
              "      quickchartButtonEl.classList.add('colab-df-quickchart-complete');\n",
              "    }\n",
              "    (() => {\n",
              "      let quickchartButtonEl =\n",
              "        document.querySelector('#df-8ec0820f-4b18-4552-8fad-8cced7562465 button');\n",
              "      quickchartButtonEl.style.display =\n",
              "        google.colab.kernel.accessAllowed ? 'block' : 'none';\n",
              "    })();\n",
              "  </script>\n",
              "</div>\n",
              "    </div>\n",
              "  </div>\n"
            ],
            "application/vnd.google.colaboratory.intrinsic+json": {
              "type": "dataframe",
              "summary": "{\n  \"name\": \"# print(real_vs_predicted\",\n  \"rows\": 25,\n  \"fields\": [\n    {\n      \"column\": \"predicted\",\n      \"properties\": {\n        \"dtype\": \"number\",\n        \"std\": 0,\n        \"min\": 0,\n        \"max\": 1,\n        \"num_unique_values\": 2,\n        \"samples\": [\n          0,\n          1\n        ],\n        \"semantic_type\": \"\",\n        \"description\": \"\"\n      }\n    },\n    {\n      \"column\": \"original\",\n      \"properties\": {\n        \"dtype\": \"number\",\n        \"std\": 0,\n        \"min\": 0,\n        \"max\": 1,\n        \"num_unique_values\": 2,\n        \"samples\": [\n          1,\n          0\n        ],\n        \"semantic_type\": \"\",\n        \"description\": \"\"\n      }\n    }\n  ]\n}"
            }
          },
          "metadata": {},
          "execution_count": 121
        }
      ]
    },
    {
      "cell_type": "markdown",
      "source": [
        "#**4. If you get stuck ...**"
      ],
      "metadata": {
        "id": "BFixOSg8PuwT"
      }
    },
    {
      "cell_type": "code",
      "source": [
        "# Scatterplot children vs charges\n",
        "plt.figure(figsize=(10, 6))\n",
        "plt.scatter(insurance['children'], insurance['charges'], alpha=0.5) # alpha=0.5 is added to make the points slightly transparent, making it easier to see overlapping points.\n",
        "plt.title('Scatter Plot of Children vs. Charges')\n",
        "plt.xlabel('Number of Children')\n",
        "plt.ylabel('Charges')\n",
        "plt.grid(True)\n",
        "plt.show()"
      ],
      "metadata": {
        "id": "-IJCqJR1Qrgq",
        "colab": {
          "base_uri": "https://localhost:8080/",
          "height": 557
        },
        "collapsed": true,
        "outputId": "8e33aca3-2d5d-4f55-8c88-ff1d91c739c5"
      },
      "execution_count": null,
      "outputs": [
        {
          "output_type": "display_data",
          "data": {
            "text/plain": [
              "<Figure size 1000x600 with 1 Axes>"
            ],
            "image/png": "[encoded data removed]"
          },
          "metadata": {}
        }
      ]
    },
    {
      "cell_type": "markdown",
      "source": [
        "1. Exploratory Data Analysis\n",
        "\n",
        "\t        age\t      bmi\t      children\tcharges\n",
        "\n",
        "age\t      1.000000\t0.109272\t0.042469\t**0.299008**\n",
        "\n",
        "bmi\t      0.109272\t1.000000\t0.012759\t0.198341\n",
        "\n",
        "children\t0.042469\t0.012759\t1.000000\t0.067998\n",
        "\n",
        "charges\t **0.299008**\t0.198341\t0.067998\t1.000000"
      ],
      "metadata": {
        "id": "lZWv4Gn3P9Jp"
      }
    },
    {
      "cell_type": "markdown",
      "source": [
        "3. 'charges' and 'smoker' have a correlation of 78%."
      ],
      "metadata": {
        "id": "vzugFTVXTJAj"
      }
    },
    {
      "cell_type": "code",
      "source": [
        "# 3. Create a subset of the adult dataset with just the numeric variables.\n",
        "# Can you use Logistic Regression to predict the sex of someone based on the all the numeric inputs? Use this as your guiding question for your exploration.\n",
        "# Follow all the steps in section 3.2.\n",
        "\n",
        "# Load the dataset\n",
        "insurance3 = pd.read_csv(\"https://raw.githubusercontent.com/shstreuber/Data-Mining/master/data/insurance.csv\")\n",
        "\n",
        "# Create a subset of the dataset with numeric variables and 'sex'\n",
        "insurance_num = insurance[['age', 'bmi', 'children', 'charges', 'sex']]\n",
        "\n",
        "# Split the data into training and testing sets\n",
        "dfTrain1 = insurance_num[:1000] # Reducing the dataframe to 1000 rows for the training set\n",
        "dfTest1 = insurance_num[1000:1300] # Defining the test set\n",
        "dfCheck1 = insurance3[1300:] # Everything else\n",
        "\n",
        "# Extract the target variable ('sex') and the predictors\n",
        "train_y = np.asarray(dfTrain1['sex'])\n",
        "train_x = np.asarray(dfTrain1.drop('sex', axis=1))\n",
        "test_y = np.asarray(dfTest1['sex'])\n",
        "test_x = np.asarray(dfTest1.drop('sex', axis=1))\n",
        "\n",
        "# Standardize the numeric columns\n",
        "means = np.mean(train_x, axis=0)\n",
        "std = np.std(train_x, axis=0)\n",
        "train_x = (train_x - means) / std\n",
        "test_x = (test_x - means) / std\n",
        "\n",
        "# Train a logistic regression model\n",
        "model = LogisticRegression()\n",
        "model.fit(train_x, train_y)\n",
        "\n",
        "# Evaluate the model\n",
        "predictions = model.predict(test_x)\n",
        "accuracy = accuracy_score(test_y, predictions)\n",
        "\n",
        "print(\"Accuracy:\", accuracy * 100, \"%\")\n",
        "print(\"Predictions:\", predictions)\n",
        "\n",
        "# Create a DataFrame to compare predictions with actual values\n",
        "real_vs_predicted = pd.DataFrame({'Predicted': predictions, 'Actual': test_y})\n",
        "realvsmodel.head(25)\n",
        "# print(real_vs_predicted.head(25)) # Another way to show the values on screen\n"
      ],
      "metadata": {
        "id": "3Yg-ErZU1h0t",
        "colab": {
          "base_uri": "https://localhost:8080/",
          "height": 211
        },
        "collapsed": true,
        "outputId": "ed2f3a41-900b-4946-94d7-ce5c021cae2f"
      },
      "execution_count": null,
      "outputs": [
        {
          "output_type": "error",
          "ename": "NameError",
          "evalue": "name 'accuracy_score' is not defined",
          "traceback": [
            "\u001b[0;31m---------------------------------------------------------------------------\u001b[0m",
            "\u001b[0;31mNameError\u001b[0m                                 Traceback (most recent call last)",
            "\u001b[0;32m<ipython-input-53-8d9498c903a0>\u001b[0m in \u001b[0;36m<cell line: 34>\u001b[0;34m()\u001b[0m\n\u001b[1;32m     32\u001b[0m \u001b[0;31m# Evaluate the model\u001b[0m\u001b[0;34m\u001b[0m\u001b[0;34m\u001b[0m\u001b[0m\n\u001b[1;32m     33\u001b[0m \u001b[0mpredictions\u001b[0m \u001b[0;34m=\u001b[0m \u001b[0mmodel\u001b[0m\u001b[0;34m.\u001b[0m\u001b[0mpredict\u001b[0m\u001b[0;34m(\u001b[0m\u001b[0mtest_x\u001b[0m\u001b[0;34m)\u001b[0m\u001b[0;34m\u001b[0m\u001b[0;34m\u001b[0m\u001b[0m\n\u001b[0;32m---> 34\u001b[0;31m \u001b[0maccuracy\u001b[0m \u001b[0;34m=\u001b[0m \u001b[0maccuracy_score\u001b[0m\u001b[0;34m(\u001b[0m\u001b[0mtest_y\u001b[0m\u001b[0;34m,\u001b[0m \u001b[0mpredictions\u001b[0m\u001b[0;34m)\u001b[0m\u001b[0;34m\u001b[0m\u001b[0;34m\u001b[0m\u001b[0m\n\u001b[0m\u001b[1;32m     35\u001b[0m \u001b[0;34m\u001b[0m\u001b[0m\n\u001b[1;32m     36\u001b[0m \u001b[0mprint\u001b[0m\u001b[0;34m(\u001b[0m\u001b[0;34m\"Accuracy:\"\u001b[0m\u001b[0;34m,\u001b[0m \u001b[0maccuracy\u001b[0m \u001b[0;34m*\u001b[0m \u001b[0;36m100\u001b[0m\u001b[0;34m,\u001b[0m \u001b[0;34m\"%\"\u001b[0m\u001b[0;34m)\u001b[0m\u001b[0;34m\u001b[0m\u001b[0;34m\u001b[0m\u001b[0m\n",
            "\u001b[0;31mNameError\u001b[0m: name 'accuracy_score' is not defined"
          ]
        }
      ]
    }
  ]
}